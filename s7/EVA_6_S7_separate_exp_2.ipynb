{
  "nbformat": 4,
  "nbformat_minor": 0,
  "metadata": {
    "accelerator": "GPU",
    "colab": {
      "name": "EVA 6 S7 separate exp 2.ipynb",
      "provenance": [],
      "collapsed_sections": [
        "BeHXi0Twk705",
        "8PaqHIMJxgOk"
      ]
    },
    "kernelspec": {
      "display_name": "Python 3",
      "name": "python3"
    },
    "language_info": {
      "codemirror_mode": {
        "name": "ipython",
        "version": 3
      },
      "file_extension": ".py",
      "mimetype": "text/x-python",
      "name": "python",
      "nbconvert_exporter": "python",
      "pygments_lexer": "ipython3",
      "version": "3.6.6"
    }
  },
  "cells": [
    {
      "cell_type": "markdown",
      "metadata": {
        "id": "2K7gWTWYLd4i"
      },
      "source": [
        "\n",
        "# Loading and normalizing CIFAR10\n",
        "\n",
        "\n",
        "Using ``torchvision``, it’s extremely easy to load CIFAR10."
      ]
    },
    {
      "cell_type": "code",
      "metadata": {
        "colab": {
          "base_uri": "https://localhost:8080/"
        },
        "id": "yrACTK9GvN8I",
        "outputId": "c370c2ad-2a24-4d10-9dcc-fb4262e09200"
      },
      "source": [
        "!pip install albumentations==0.4.6"
      ],
      "execution_count": 1,
      "outputs": [
        {
          "output_type": "stream",
          "text": [
            "Requirement already satisfied: albumentations==0.4.6 in /usr/local/lib/python3.7/dist-packages (0.4.6)\n",
            "Requirement already satisfied: PyYAML in /usr/local/lib/python3.7/dist-packages (from albumentations==0.4.6) (3.13)\n",
            "Requirement already satisfied: numpy>=1.11.1 in /usr/local/lib/python3.7/dist-packages (from albumentations==0.4.6) (1.19.5)\n",
            "Requirement already satisfied: imgaug>=0.4.0 in /usr/local/lib/python3.7/dist-packages (from albumentations==0.4.6) (0.4.0)\n",
            "Requirement already satisfied: opencv-python>=4.1.1 in /usr/local/lib/python3.7/dist-packages (from albumentations==0.4.6) (4.1.2.30)\n",
            "Requirement already satisfied: scipy in /usr/local/lib/python3.7/dist-packages (from albumentations==0.4.6) (1.4.1)\n",
            "Requirement already satisfied: matplotlib in /usr/local/lib/python3.7/dist-packages (from imgaug>=0.4.0->albumentations==0.4.6) (3.2.2)\n",
            "Requirement already satisfied: six in /usr/local/lib/python3.7/dist-packages (from imgaug>=0.4.0->albumentations==0.4.6) (1.15.0)\n",
            "Requirement already satisfied: scikit-image>=0.14.2 in /usr/local/lib/python3.7/dist-packages (from imgaug>=0.4.0->albumentations==0.4.6) (0.16.2)\n",
            "Requirement already satisfied: imageio in /usr/local/lib/python3.7/dist-packages (from imgaug>=0.4.0->albumentations==0.4.6) (2.4.1)\n",
            "Requirement already satisfied: Shapely in /usr/local/lib/python3.7/dist-packages (from imgaug>=0.4.0->albumentations==0.4.6) (1.7.1)\n",
            "Requirement already satisfied: Pillow in /usr/local/lib/python3.7/dist-packages (from imgaug>=0.4.0->albumentations==0.4.6) (7.1.2)\n",
            "Requirement already satisfied: cycler>=0.10 in /usr/local/lib/python3.7/dist-packages (from matplotlib->imgaug>=0.4.0->albumentations==0.4.6) (0.10.0)\n",
            "Requirement already satisfied: kiwisolver>=1.0.1 in /usr/local/lib/python3.7/dist-packages (from matplotlib->imgaug>=0.4.0->albumentations==0.4.6) (1.3.1)\n",
            "Requirement already satisfied: python-dateutil>=2.1 in /usr/local/lib/python3.7/dist-packages (from matplotlib->imgaug>=0.4.0->albumentations==0.4.6) (2.8.1)\n",
            "Requirement already satisfied: pyparsing!=2.0.4,!=2.1.2,!=2.1.6,>=2.0.1 in /usr/local/lib/python3.7/dist-packages (from matplotlib->imgaug>=0.4.0->albumentations==0.4.6) (2.4.7)\n",
            "Requirement already satisfied: networkx>=2.0 in /usr/local/lib/python3.7/dist-packages (from scikit-image>=0.14.2->imgaug>=0.4.0->albumentations==0.4.6) (2.5.1)\n",
            "Requirement already satisfied: PyWavelets>=0.4.0 in /usr/local/lib/python3.7/dist-packages (from scikit-image>=0.14.2->imgaug>=0.4.0->albumentations==0.4.6) (1.1.1)\n",
            "Requirement already satisfied: decorator<5,>=4.3 in /usr/local/lib/python3.7/dist-packages (from networkx>=2.0->scikit-image>=0.14.2->imgaug>=0.4.0->albumentations==0.4.6) (4.4.2)\n"
          ],
          "name": "stdout"
        }
      ]
    },
    {
      "cell_type": "code",
      "metadata": {
        "id": "-yVpodAMpoCi"
      },
      "source": [
        "import torch\n",
        "import torchvision\n",
        "import numpy as np\n",
        "import torchvision.transforms as transforms\n",
        "import torch.nn as nn\n",
        "import torch.nn.functional as F\n",
        "from torchsummary import summary\n",
        "import torch.optim as optim\n",
        "from tqdm import tqdm\n",
        "from torch.optim.lr_scheduler import StepLR\n",
        "from functools import partial\n",
        "%matplotlib inline\n",
        "\n",
        "cv = partial(nn.Conv2d, bias=False)\n",
        "bn = nn.BatchNorm2d\n",
        "relu = nn.ReLU\n",
        "\n",
        "classes = ('plane', 'car', 'bird', 'cat', 'deer', 'dog', 'frog', 'horse', 'ship', 'truck')"
      ],
      "execution_count": 2,
      "outputs": []
    },
    {
      "cell_type": "code",
      "metadata": {
        "id": "oH4IWUA1SNGa"
      },
      "source": [
        "import albumentations as A\n",
        "from albumentations.pytorch.transforms import ToTensor"
      ],
      "execution_count": 3,
      "outputs": []
    },
    {
      "cell_type": "code",
      "metadata": {
        "id": "D8Tjigo2poCl",
        "colab": {
          "base_uri": "https://localhost:8080/"
        },
        "outputId": "f934ba15-81b4-45b4-f560-9407dd7becda"
      },
      "source": [
        "transform = transforms.Compose([transforms.ToTensor()]) # simple ToTensor for now\n",
        "\n",
        "train_set = torchvision.datasets.CIFAR10(root='./cifar10', download=True, train=True, transform=transform)\n"
      ],
      "execution_count": 4,
      "outputs": [
        {
          "output_type": "stream",
          "text": [
            "Files already downloaded and verified\n"
          ],
          "name": "stdout"
        }
      ]
    },
    {
      "cell_type": "code",
      "metadata": {
        "id": "Pcq0CLIKTX-o",
        "colab": {
          "base_uri": "https://localhost:8080/"
        },
        "outputId": "0ad04121-8c3f-453e-e72f-cc2182ee559c"
      },
      "source": [
        "train_set.data.shape # train data shape"
      ],
      "execution_count": 5,
      "outputs": [
        {
          "output_type": "execute_result",
          "data": {
            "text/plain": [
              "(50000, 32, 32, 3)"
            ]
          },
          "metadata": {
            "tags": []
          },
          "execution_count": 5
        }
      ]
    },
    {
      "cell_type": "code",
      "metadata": {
        "id": "ldxJ0FQ-Wuum",
        "colab": {
          "base_uri": "https://localhost:8080/"
        },
        "outputId": "8878d42e-d614-4f64-8ab6-c8bd15d3133c"
      },
      "source": [
        "# calculate mean and standard deviation\n",
        "\n",
        "m = np.mean(train_set.data, axis=(0,1,2))\n",
        "print(m/255)\n",
        "\n",
        "s = np.std(train_set.data, axis=(0, 1, 2))\n",
        "print(s/255)"
      ],
      "execution_count": 6,
      "outputs": [
        {
          "output_type": "stream",
          "text": [
            "[0.49139968 0.48215841 0.44653091]\n",
            "[0.24703223 0.24348513 0.26158784]\n"
          ],
          "name": "stdout"
        }
      ]
    },
    {
      "cell_type": "code",
      "metadata": {
        "id": "c05SafsfuY58"
      },
      "source": [
        "mean = m/255\n",
        "sdev = s/255"
      ],
      "execution_count": 7,
      "outputs": []
    },
    {
      "cell_type": "code",
      "metadata": {
        "id": "1NrvhVCrvIBS",
        "colab": {
          "base_uri": "https://localhost:8080/"
        },
        "outputId": "6ace7493-6b1f-4603-edeb-d8f125a34d55"
      },
      "source": [
        "SEED = 101\n",
        "BATCH = 64\n",
        "\n",
        "cuda = torch.cuda.is_available()\n",
        "print(\"CUDA Available?\", cuda)\n",
        "\n",
        "if cuda:\n",
        "    torch.cuda.manual_seed(SEED)\n",
        "\n",
        "device = torch.device(\"cuda\" if cuda else \"cpu\")\n",
        "\n",
        "# dataloader arguments\n",
        "dataloader_args = dict(shuffle=True, batch_size=BATCH, num_workers=2, pin_memory=True)\\\n",
        "    if cuda else dict(shuffle=True, batch_size=32)\n"
      ],
      "execution_count": 8,
      "outputs": [
        {
          "output_type": "stream",
          "text": [
            "CUDA Available? True\n"
          ],
          "name": "stdout"
        }
      ]
    },
    {
      "cell_type": "code",
      "metadata": {
        "id": "WR8UppPwXsop"
      },
      "source": [
        "# # transforms\n",
        "# train_transforms = transforms.Compose([transforms.ToTensor(),\n",
        "#                                        transforms.Normalize(mean=mean, std=sdev)\n",
        "#                                        ])\n",
        "\n",
        "# test_transforms = transforms.Compose([transforms.ToTensor(),\n",
        "#                                       transforms.Normalize(mean=mean, std=sdev)])\n",
        "\n",
        "# # data sets with transforms\n",
        "# train_set = torchvision.datasets.CIFAR10(root='./cifar-10', download=True, train=True, transform=train_transforms)\n",
        "\n",
        "# test_set = torchvision.datasets.CIFAR10('./cifar-10', train=False, download=True, transform=test_transforms)\n",
        "\n",
        "\n",
        "# # data loaders on data sets\n",
        "# train_loader = torch.utils.data.DataLoader(dataset=train_set, **dataloader_args)\n",
        "\n",
        "# test_loader = torch.utils.data.DataLoader(test_set, **dataloader_args)\n",
        "\n",
        "# from __future__ import print_function\n",
        "# channel_means = (0.49139968, 0.48215841, 0.44653091)\n",
        "# channel_stdevs = (0.24703223, 0.24348513, 0.26158784)\n",
        "# def unnormalize(img):\n",
        "#   img = img.numpy().astype(dtype=np.float32)\n",
        "  \n",
        "#   for i in range(img.shape[0]):\n",
        "#     img[i] = (img[i]*channel_stdevs[i])+channel_means[i]\n",
        "  \n",
        "#   return np.transpose(img, (1,2,0))\n",
        "#   #return np.transpose(img, (1, 2, 0))\n",
        "\n",
        "# %matplotlib inline\n",
        "# import matplotlib.pyplot as plt\n",
        "# dataiter = iter(train_loader)\n",
        "# images, labels = dataiter.next()\n",
        "\n",
        "# print(images.shape)\n",
        "# print(labels.shape)\n",
        "\n",
        "# num_classes = 10\n",
        "# # display 10 images from each category. \n",
        "# class_names = ['airplane','automobile','bird','cat','deer',\n",
        "#                'dog','frog','horse','ship','truck']\n",
        "# r, c = 10, 11\n",
        "# n = 5\n",
        "# fig = plt.figure(figsize=(10,10))\n",
        "# fig.subplots_adjust(hspace=0.04, wspace=0.04)\n",
        "# for i in range(num_classes):\n",
        "#     idx = np.random.choice(np.where(labels[:]==i)[0], n)\n",
        "#     ax = plt.subplot(r, c, i*c+1)\n",
        "#     ax.text(-1.5, 0.5, class_names[i], fontsize=14)\n",
        "#     plt.axis('off')\n",
        "#     for j in range(1, n+1):\n",
        "#       plt.subplot(r, c, i*c+j+1)\n",
        "#       plt.imshow(unnormalize(images[idx[j-1]]), interpolation='none')\n",
        "#       plt.axis('off')\n",
        "# plt.show()"
      ],
      "execution_count": 9,
      "outputs": []
    },
    {
      "cell_type": "code",
      "metadata": {
        "id": "kkuRfo1IpoC3"
      },
      "source": [
        "def train_eval_model(model, train_loader, optimizer, device, epochs=1, test=False, test_loader=None, scheduler=None):\n",
        "          \n",
        "    model.train() # set the train mode\n",
        "    \n",
        "    # iterate over for `epochs` epochs and keep storing valuable info\n",
        "\n",
        "    for epoch in range(epochs):\n",
        "      correct = processed = train_loss = 0\n",
        "    #   if scheduler:\n",
        "    #     scheduler.step()\n",
        "\n",
        "      print(f\"\\n epoch num ================================= {epoch+1}\")\n",
        "      \n",
        "      pbar = tqdm(train_loader)\n",
        "      \n",
        "      for batch_idx, (data, target) in enumerate(pbar):\n",
        "          data, target = data.to(device), target.to(device) # move data to `device`\n",
        "\n",
        "          optimizer.zero_grad() # zero out the gradients to avoid accumulating them over loops\n",
        "\n",
        "          output = model(data) # get the model's predictions\n",
        "\n",
        "          loss = F.nll_loss(output, target) # calculate Negative Log Likelihood loss using ground truth labels and the model's predictions\n",
        "\n",
        "          train_loss += loss.item() # add up the train loss\n",
        "\n",
        "          loss.backward() # boom ! The magic function to perform backpropagation and calculate the gradients\n",
        "\n",
        "          optimizer.step() # take 1 step for the optimizer and update the weights\n",
        "\n",
        "          pred = output.argmax(dim=1, keepdim=True)  # get the index of the max log-probability\n",
        "\n",
        "          correct += pred.eq(target.view_as(pred)).sum().item() #  compare and see how many predictions are coorect and then add up the count\n",
        "\n",
        "          processed += len(data) # total processed data size\n",
        "\n",
        "      acc = 100 * correct/processed\n",
        "\n",
        "      train_losses.append(train_loss)\n",
        "\n",
        "      train_accuracy.append(acc)\n",
        "\n",
        "      if scheduler:\n",
        "        print(\"\\n\\n\\t\\t\\tLast LR -->\", scheduler.get_last_lr())\n",
        "        scheduler.step()\n",
        "\n",
        "      pbar.set_description(desc= f'loss={loss.item()} batch_id={batch_idx}')\n",
        "      \n",
        "      \n",
        "      train_loss /= len(train_loader.dataset)\n",
        "      print('\\n\\t\\t\\tTrain metrics: accuracy: {}/{} ({:.4f}%)'.format(correct,\n",
        "                                                              len(train_loader.dataset),\n",
        "                                                              correct * 100 / len(train_loader.dataset)))\n",
        "\n",
        "      if test: # moving to evaluation\n",
        "          model.eval() # set the correct mode\n",
        "          \n",
        "          correct = test_loss = 0\n",
        "\n",
        "          with torch.no_grad(): # to disable gradient calculation with no_grad context\n",
        "              \n",
        "              for data, target in test_loader:\n",
        "\n",
        "                  data, target = data.to(device), target.to(device)\n",
        "                  \n",
        "                  output = model(data)\n",
        "                  \n",
        "                  test_loss += F.nll_loss(output, target, reduction='sum').item()  # sum up batch loss\n",
        "                  \n",
        "                  pred = output.argmax(dim=1, keepdim=True)  # get the index of the max log-probability\n",
        "                  \n",
        "                  correct += pred.eq(target.view_as(pred)).sum().item()\n",
        "\n",
        "          test_loss /= len(test_loader.dataset)\n",
        "          test_losses.append(test_loss)\n",
        "          test_accuracy.append(100. * correct / len(test_loader.dataset))\n",
        "\n",
        "          print('\\n\\tTest metrics: average loss: {:.4f}, accuracy: {}/{} ({:.5f}%)\\n'.format(\n",
        "              test_loss, correct, len(test_loader.dataset),\n",
        "              100. * correct / len(test_loader.dataset)))"
      ],
      "execution_count": 10,
      "outputs": []
    },
    {
      "cell_type": "code",
      "metadata": {
        "id": "GifNf68LwCav"
      },
      "source": [
        "def plot_graphs(*, train_losses, train_accuracy, test_losses, test_accuracy):\n",
        "    fig, axs = plt.subplots(2,2,figsize=(20,10))\n",
        "    axs[0, 0].plot(train_losses)\n",
        "    axs[0, 0].set_title(\"Training Loss\")\n",
        "    axs[1, 0].plot(train_accuracy)\n",
        "    axs[1, 0].set_title(\"Training Accuracy\")\n",
        "    axs[0, 1].plot(test_losses)\n",
        "    axs[0, 1].set_title(\"Test Loss\")\n",
        "    axs[1, 1].plot(test_accuracy)\n",
        "    axs[1, 1].set_title(\"Test Accuracy\")"
      ],
      "execution_count": 11,
      "outputs": []
    },
    {
      "cell_type": "code",
      "metadata": {
        "id": "w_hwQGwmzahO"
      },
      "source": [
        "class Cifar10SearchDataset(torchvision.datasets.CIFAR10):\n",
        "    def __init__(self, root=\"./data/cifar10\", train=True, download=True, transform=None):\n",
        "        super().__init__(root=root, train=train, download=download, transform=transform)\n",
        "\n",
        "    def __getitem__(self, index):\n",
        "        image, label = self.data[index], self.targets[index]\n",
        "\n",
        "        if self.transform is not None:\n",
        "            transformed = self.transform(image=image)\n",
        "            image = transformed[\"image\"]\n",
        "\n",
        "        return image, label"
      ],
      "execution_count": 12,
      "outputs": []
    },
    {
      "cell_type": "code",
      "metadata": {
        "id": "trNiivNwhn13"
      },
      "source": [
        "# transforms\n",
        "\n",
        "# here changed CoarseDropout's p to 0.25 from default 0.5, along with minor change in MedianBlur value and HSV' value\n",
        "train_transforms = A.Compose([\n",
        "                                A.HorizontalFlip(p=0.2),\n",
        "                                A.ShiftScaleRotate(shift_limit=0.1,scale_limit=0.15,rotate_limit=30,p=0.20),\n",
        "                                A.CoarseDropout(max_holes=1, p=0.15, max_height=16,\n",
        "                                                max_width=16, min_holes=1, min_height=16,\n",
        "                                                min_width=16, fill_value=mean),\n",
        "                                # A.MedianBlur(blur_limit=3, p=0.1),\n",
        "                                A.HueSaturationValue(p=0.1),\n",
        "                            #   A.GaussianBlur(blur_limit=3, p=0.12),\n",
        "                                # A.RandomBrightnessContrast(brightness_limit=0.09,contrast_limit=0.1, p=0.15),   \n",
        "                                A.Normalize(mean=mean, std=sdev),\n",
        "                                ToTensor()\n",
        "                                       ])\n",
        "\n",
        "test_transforms = A.Compose([\n",
        "                            A.Normalize(mean=mean, std=sdev),\n",
        "                            ToTensor()\n",
        "                                    ])\n"
      ],
      "execution_count": 13,
      "outputs": []
    },
    {
      "cell_type": "code",
      "metadata": {
        "id": "4HAK6Y1Uhn14",
        "colab": {
          "base_uri": "https://localhost:8080/"
        },
        "outputId": "82724d47-17de-4221-8cb9-45e6d0d3b173"
      },
      "source": [
        "\n",
        "# data sets with transforms\n",
        "train_set = Cifar10SearchDataset(train=True, download=True, transform=train_transforms)\n",
        "\n",
        "test_set = Cifar10SearchDataset(train=False, download=True, transform=test_transforms)\n",
        "\n",
        "\n",
        "# data loaders on data sets\n",
        "train_loader = torch.utils.data.DataLoader(dataset=train_set, **dataloader_args)\n",
        "\n",
        "test_loader = torch.utils.data.DataLoader(test_set, **dataloader_args)"
      ],
      "execution_count": 14,
      "outputs": [
        {
          "output_type": "stream",
          "text": [
            "Files already downloaded and verified\n",
            "Files already downloaded and verified\n"
          ],
          "name": "stdout"
        }
      ]
    },
    {
      "cell_type": "code",
      "metadata": {
        "id": "3DkWGTxGhn15",
        "colab": {
          "base_uri": "https://localhost:8080/",
          "height": 1000
        },
        "outputId": "f9066d1d-6dda-40d6-dd65-d3a9b091728c"
      },
      "source": [
        "from __future__ import print_function\n",
        "# channel_means = (0.49196659, 0.48229005, 0.4461573)\n",
        "# channel_stdevs = (0.24703223, 0.24348513, 0.26158784)\n",
        "def unnormalize(img):\n",
        "  img = img.numpy().astype(dtype=np.float32)\n",
        "  \n",
        "  for i in range(img.shape[0]):\n",
        "    img[i] = (img[i]*sdev[i])+mean[i]\n",
        "  \n",
        "  return np.transpose(img, (1,2,0))\n",
        "\n",
        "%matplotlib inline\n",
        "import matplotlib.pyplot as plt\n",
        "dataiter = iter(train_loader)\n",
        "images, labels = dataiter.next()\n",
        "\n",
        "print(images.shape)\n",
        "print(labels.shape)\n",
        "\n",
        "num_classes = 10\n",
        "# display 10 images from each category. \n",
        "class_names = ['airplane','automobile','bird','cat','deer',\n",
        "               'dog','frog','horse','ship','truck']\n",
        "r, c = 10, 11\n",
        "n = 5\n",
        "fig = plt.figure(figsize=(15,15))\n",
        "fig.subplots_adjust(hspace=0.2, wspace=0.2)\n",
        "for i in range(num_classes):\n",
        "    idx = np.random.choice(np.where(labels[:]==i)[0], n)\n",
        "    ax = plt.subplot(r, c, i*c+1)\n",
        "    ax.text(-1.5, 0.5, class_names[i], fontsize=14)\n",
        "    plt.axis('off')\n",
        "    for j in range(1, n+1):\n",
        "      plt.subplot(r, c, i*c+j+1)\n",
        "      plt.imshow(unnormalize(images[idx[j-1]]), interpolation='none')\n",
        "      plt.axis('off')\n",
        "plt.show()"
      ],
      "execution_count": 15,
      "outputs": [
        {
          "output_type": "stream",
          "text": [
            "torch.Size([64, 3, 32, 32])\n",
            "torch.Size([64])\n"
          ],
          "name": "stdout"
        },
        {
          "output_type": "stream",
          "text": [
            "Clipping input data to the valid range for imshow with RGB data ([0..1] for floats or [0..255] for integers).\n",
            "Clipping input data to the valid range for imshow with RGB data ([0..1] for floats or [0..255] for integers).\n",
            "Clipping input data to the valid range for imshow with RGB data ([0..1] for floats or [0..255] for integers).\n",
            "Clipping input data to the valid range for imshow with RGB data ([0..1] for floats or [0..255] for integers).\n",
            "Clipping input data to the valid range for imshow with RGB data ([0..1] for floats or [0..255] for integers).\n",
            "Clipping input data to the valid range for imshow with RGB data ([0..1] for floats or [0..255] for integers).\n",
            "Clipping input data to the valid range for imshow with RGB data ([0..1] for floats or [0..255] for integers).\n",
            "Clipping input data to the valid range for imshow with RGB data ([0..1] for floats or [0..255] for integers).\n",
            "Clipping input data to the valid range for imshow with RGB data ([0..1] for floats or [0..255] for integers).\n",
            "Clipping input data to the valid range for imshow with RGB data ([0..1] for floats or [0..255] for integers).\n",
            "Clipping input data to the valid range for imshow with RGB data ([0..1] for floats or [0..255] for integers).\n"
          ],
          "name": "stderr"
        },
        {
          "output_type": "display_data",
          "data": {
            "image/png": "[encoded data removed]",
            "text/plain": [
              "<Figure size 1080x1080 with 60 Axes>"
            ]
          },
          "metadata": {
            "tags": [],
            "needs_background": "light"
          }
        }
      ]
    },
    {
      "cell_type": "markdown",
      "metadata": {
        "id": "BeHXi0Twk705"
      },
      "source": [
        "# Code 9: "
      ]
    },
    {
      "cell_type": "code",
      "metadata": {
        "id": "Gkej6KhQkwOj"
      },
      "source": [
        "# class Net9(nn.Module):\n",
        "#     def __init__(self):\n",
        "#         super().__init__()\n",
        "\n",
        "#         self.block1 = nn.Sequential(\n",
        "#             cv(3, 16, 3, padding=1),\n",
        "#             relu(),\n",
        "#             bn(16),\n",
        "#             cv(16, 32, 3, dilation=2, groups=8, padding=1),\n",
        "#             relu(),\n",
        "#             bn(32),\n",
        "#             nn.Dropout2d(0.07)\n",
        "           \n",
        "#         )\n",
        "\n",
        "#         self.block2 = nn.Sequential(\n",
        "#             cv(32, 64, 3, padding=1, dilation=1, groups=8),\n",
        "#             relu(),\n",
        "#             bn(64),\n",
        "#             cv(64, 80, 3, dilation=1, padding=0, groups=4),\n",
        "#             relu(),\n",
        "#             bn(80),\n",
        "#             cv(80, 64, 1),\n",
        "#             relu(),\n",
        "#             bn(64),\n",
        "#             cv(64, 64, 3, padding=1, dilation=2),\n",
        "#             relu(),\n",
        "#             bn(64),\n",
        "#             nn.Dropout2d(0.09)\n",
        "#             # Conv2d(32, 32, 3, padding=2, dilation=2, stride=2)\n",
        "#         )\n",
        "\n",
        "#         self.block3a = nn.Sequential(\n",
        "#             cv(64, 128, 3, dilation=1, groups=32, stride=1),\n",
        "#             relu(),\n",
        "#             bn(128),\n",
        "#             cv(128, 160, 3, groups=16, dilation=1, padding=1),\n",
        "#             relu(),\n",
        "#             bn(160))\n",
        "        \n",
        "#         self.block3b = nn.Sequential(\n",
        "#             cv(160, 64, 1),\n",
        "#             cv(64, 64, 3, padding=1, groups=16),\n",
        "#             relu(),\n",
        "#             bn(64),\n",
        "#             cv(64, 96, 3, padding=2, dilation=2, stride=2),\n",
        "#             relu(),\n",
        "#             bn(96),\n",
        "#             nn.Dropout2d(0.09)\n",
        "#         )\n",
        "\n",
        "#         self.block4 = nn.Sequential(\n",
        "#             cv(96, 224, 3, padding=1, groups=16, stride=1, dilation=2), # grps 32 changed to 64\n",
        "#             bn(224),\n",
        "#             cv(224, 64, 1),\n",
        "#             bn(64),\n",
        "#             relu(),\n",
        "#             nn.Dropout2d(0.05),\n",
        "#             cv(64, 64, 3, groups=64, padding=1), # depthwise (a)\n",
        "#             cv(64, 32, 1), # pointwise for preceding depthwise (b)\n",
        "#             bn(32),\n",
        "#             relu(),\n",
        "#             cv(32, 32, 3, dilation=1, groups=16),\n",
        "#             relu(),\n",
        "#             bn(32),\n",
        "#             cv(32, 10, 1),\n",
        "#             nn.AdaptiveAvgPool2d(1)\n",
        "#             # cv(10, 10, 1)\n",
        "#         )\n",
        "    \n",
        "        \n",
        "#     def forward(self, x):\n",
        "#         x = self.block1(x)\n",
        "#         x = self.block2(x)\n",
        "#         x = self.block3a(x)\n",
        "#         x = self.block3b(x)\n",
        "#         x = self.block4(x)\n",
        "        \n",
        "#         x = x.view(-1, 10)\n",
        "#         return F.log_softmax(x, dim=-1)\n",
        "\n",
        "\n",
        "# model = Net9().to(device)\n",
        "# summary(model, (3, 32, 32))"
      ],
      "execution_count": 16,
      "outputs": []
    },
    {
      "cell_type": "code",
      "metadata": {
        "id": "p-wnu12skv2G"
      },
      "source": [
        "# optimizer = optim.SGD(model.parameters(), lr=0.0159, momentum=0.9, nesterov=True) # lr changed\n",
        "# step_lr = StepLR(optimizer=optimizer, step_size=2, gamma=0.71) # gamma changed from previous value\n",
        "\n",
        "# train_losses = []\n",
        "# train_accuracy = []\n",
        "# test_losses = []\n",
        "# test_accuracy = []\n",
        "\n",
        "# train_eval_model(model, train_loader, optimizer, device, epochs=100, test=True, test_loader=test_loader,scheduler=step_lr)"
      ],
      "execution_count": 17,
      "outputs": []
    },
    {
      "cell_type": "code",
      "metadata": {
        "id": "w-xyJoTtnq7Z"
      },
      "source": [
        "# plot_graphs(train_losses=train_losses, train_accuracy=train_accuracy,\n",
        "#             test_losses=test_losses,test_accuracy=test_accuracy)"
      ],
      "execution_count": 18,
      "outputs": []
    },
    {
      "cell_type": "markdown",
      "metadata": {
        "id": "Z73f8IF2TRNd"
      },
      "source": [
        "# Code 10"
      ]
    },
    {
      "cell_type": "code",
      "metadata": {
        "id": "bMlz5p6GnqXY",
        "colab": {
          "base_uri": "https://localhost:8080/"
        },
        "outputId": "a965fb45-ea72-4d13-ad49-06d60ea82b5f"
      },
      "source": [
        "class Net10(nn.Module):\n",
        "    def __init__(self):\n",
        "        super().__init__()\n",
        "\n",
        "        self.block1 = nn.Sequential(\n",
        "            cv(3, 16, 3, padding=1),\n",
        "            relu(),\n",
        "            bn(16),\n",
        "            cv(16, 16, 1),\n",
        "            relu(),\n",
        "            bn(16),\n",
        "            cv(16, 24, 3, dilation=1, groups=1, padding=1),\n",
        "            relu(),\n",
        "            bn(24),\n",
        "            cv(24, 24, 1),\n",
        "            relu(),\n",
        "            bn(24),\n",
        "            nn.Dropout2d(0.03)\n",
        "        )\n",
        "\n",
        "        self.block2 = nn.Sequential(\n",
        "            cv(24, 32, 3, padding=1, dilation=1, groups=8),\n",
        "            relu(),\n",
        "            bn(32),\n",
        "            cv(32, 32, 1),\n",
        "            relu(),\n",
        "            bn(32),\n",
        "            cv(32, 64, 3, dilation=1, padding=1, groups=32),\n",
        "            relu(),\n",
        "            bn(64),\n",
        "            cv(64, 48, 1),\n",
        "            relu(),\n",
        "            bn(48),\n",
        "            cv(48, 64, 3, padding=1, dilation=2, groups=8),\n",
        "            relu(),\n",
        "            bn(64),\n",
        "            cv(64, 32, 1),\n",
        "            relu(),\n",
        "            bn(32),\n",
        "            nn.Dropout2d(0.05)\n",
        "        )\n",
        "\n",
        "        self.block3 = nn.Sequential(\n",
        "            cv(32, 64, 3, dilation=1, padding=1, groups=16, stride=1),\n",
        "            relu(),\n",
        "            bn(64),\n",
        "            cv(64, 128, 3, groups=16, dilation=1, padding=1),\n",
        "            relu(),\n",
        "            bn(128),\n",
        "            cv(128, 64, 1),\n",
        "            relu(),\n",
        "            bn(64),\n",
        "            cv(64, 96, 3, padding=1, groups=16),\n",
        "            relu(),\n",
        "            bn(96),\n",
        "            cv(96, 64, 1),\n",
        "            relu(),\n",
        "            bn(64),\n",
        "            cv(64, 64, 3, padding=2, dilation=2, stride=2),\n",
        "            relu(),\n",
        "            bn(64),\n",
        "            cv(64, 64, 1),\n",
        "            relu(),\n",
        "            bn(64),\n",
        "            nn.Dropout2d(0.05)\n",
        "            )\n",
        "\n",
        "        self.block4 = nn.Sequential(\n",
        "            cv(64, 96, 3, padding=1, groups=32, stride=1, dilation=2),\n",
        "            bn(96),\n",
        "            relu(),\n",
        "            cv(96, 64, 1),\n",
        "            bn(64),\n",
        "            relu(),\n",
        "            nn.Dropout2d(0.02),\n",
        "            cv(64, 64, 3, groups=64, padding=1, dilation=2), # depthwise (a)\n",
        "            cv(64, 32, 1), # pointwise for preceding depthwise (b)\n",
        "            bn(32),\n",
        "            relu(),\n",
        "            cv(32, 48, 3, dilation=2, groups=16),\n",
        "            relu(),\n",
        "            bn(48),\n",
        "            cv(48, 10, 1, stride=2),\n",
        "            relu(),\n",
        "            bn(10),\n",
        "            nn.AdaptiveAvgPool2d(1)\n",
        "            #cv(10, 10, 1)\n",
        "        )\n",
        "    \n",
        "        \n",
        "    def forward(self, x):\n",
        "        x = self.block1(x)\n",
        "        x = self.block2(x)\n",
        "        x = self.block3(x)\n",
        "        x = self.block4(x)\n",
        "        \n",
        "        x = x.view(-1, 10)\n",
        "        return F.log_softmax(x, dim=-1)\n",
        "\n",
        "\n",
        "model = Net10().to(device)\n",
        "summary(model, (3, 32, 32))"
      ],
      "execution_count": 19,
      "outputs": [
        {
          "output_type": "stream",
          "text": [
            "----------------------------------------------------------------\n",
            "        Layer (type)               Output Shape         Param #\n",
            "================================================================\n",
            "            Conv2d-1           [-1, 16, 32, 32]             432\n",
            "              ReLU-2           [-1, 16, 32, 32]               0\n",
            "       BatchNorm2d-3           [-1, 16, 32, 32]              32\n",
            "            Conv2d-4           [-1, 16, 32, 32]             256\n",
            "              ReLU-5           [-1, 16, 32, 32]               0\n",
            "       BatchNorm2d-6           [-1, 16, 32, 32]              32\n",
            "            Conv2d-7           [-1, 24, 32, 32]           3,456\n",
            "              ReLU-8           [-1, 24, 32, 32]               0\n",
            "       BatchNorm2d-9           [-1, 24, 32, 32]              48\n",
            "           Conv2d-10           [-1, 24, 32, 32]             576\n",
            "             ReLU-11           [-1, 24, 32, 32]               0\n",
            "      BatchNorm2d-12           [-1, 24, 32, 32]              48\n",
            "        Dropout2d-13           [-1, 24, 32, 32]               0\n",
            "           Conv2d-14           [-1, 32, 32, 32]             864\n",
            "             ReLU-15           [-1, 32, 32, 32]               0\n",
            "      BatchNorm2d-16           [-1, 32, 32, 32]              64\n",
            "           Conv2d-17           [-1, 32, 32, 32]           1,024\n",
            "             ReLU-18           [-1, 32, 32, 32]               0\n",
            "      BatchNorm2d-19           [-1, 32, 32, 32]              64\n",
            "           Conv2d-20           [-1, 64, 32, 32]             576\n",
            "             ReLU-21           [-1, 64, 32, 32]               0\n",
            "      BatchNorm2d-22           [-1, 64, 32, 32]             128\n",
            "           Conv2d-23           [-1, 48, 32, 32]           3,072\n",
            "             ReLU-24           [-1, 48, 32, 32]               0\n",
            "      BatchNorm2d-25           [-1, 48, 32, 32]              96\n",
            "           Conv2d-26           [-1, 64, 30, 30]           3,456\n",
            "             ReLU-27           [-1, 64, 30, 30]               0\n",
            "      BatchNorm2d-28           [-1, 64, 30, 30]             128\n",
            "           Conv2d-29           [-1, 32, 30, 30]           2,048\n",
            "             ReLU-30           [-1, 32, 30, 30]               0\n",
            "      BatchNorm2d-31           [-1, 32, 30, 30]              64\n",
            "        Dropout2d-32           [-1, 32, 30, 30]               0\n",
            "           Conv2d-33           [-1, 64, 30, 30]           1,152\n",
            "             ReLU-34           [-1, 64, 30, 30]               0\n",
            "      BatchNorm2d-35           [-1, 64, 30, 30]             128\n",
            "           Conv2d-36          [-1, 128, 30, 30]           4,608\n",
            "             ReLU-37          [-1, 128, 30, 30]               0\n",
            "      BatchNorm2d-38          [-1, 128, 30, 30]             256\n",
            "           Conv2d-39           [-1, 64, 30, 30]           8,192\n",
            "             ReLU-40           [-1, 64, 30, 30]               0\n",
            "      BatchNorm2d-41           [-1, 64, 30, 30]             128\n",
            "           Conv2d-42           [-1, 96, 30, 30]           3,456\n",
            "             ReLU-43           [-1, 96, 30, 30]               0\n",
            "      BatchNorm2d-44           [-1, 96, 30, 30]             192\n",
            "           Conv2d-45           [-1, 64, 30, 30]           6,144\n",
            "             ReLU-46           [-1, 64, 30, 30]               0\n",
            "      BatchNorm2d-47           [-1, 64, 30, 30]             128\n",
            "           Conv2d-48           [-1, 64, 15, 15]          36,864\n",
            "             ReLU-49           [-1, 64, 15, 15]               0\n",
            "      BatchNorm2d-50           [-1, 64, 15, 15]             128\n",
            "           Conv2d-51           [-1, 64, 15, 15]           4,096\n",
            "             ReLU-52           [-1, 64, 15, 15]               0\n",
            "      BatchNorm2d-53           [-1, 64, 15, 15]             128\n",
            "        Dropout2d-54           [-1, 64, 15, 15]               0\n",
            "           Conv2d-55           [-1, 96, 13, 13]           1,728\n",
            "      BatchNorm2d-56           [-1, 96, 13, 13]             192\n",
            "             ReLU-57           [-1, 96, 13, 13]               0\n",
            "           Conv2d-58           [-1, 64, 13, 13]           6,144\n",
            "      BatchNorm2d-59           [-1, 64, 13, 13]             128\n",
            "             ReLU-60           [-1, 64, 13, 13]               0\n",
            "        Dropout2d-61           [-1, 64, 13, 13]               0\n",
            "           Conv2d-62           [-1, 64, 11, 11]             576\n",
            "           Conv2d-63           [-1, 32, 11, 11]           2,048\n",
            "      BatchNorm2d-64           [-1, 32, 11, 11]              64\n",
            "             ReLU-65           [-1, 32, 11, 11]               0\n",
            "           Conv2d-66             [-1, 48, 7, 7]             864\n",
            "             ReLU-67             [-1, 48, 7, 7]               0\n",
            "      BatchNorm2d-68             [-1, 48, 7, 7]              96\n",
            "           Conv2d-69             [-1, 10, 4, 4]             480\n",
            "             ReLU-70             [-1, 10, 4, 4]               0\n",
            "      BatchNorm2d-71             [-1, 10, 4, 4]              20\n",
            "AdaptiveAvgPool2d-72             [-1, 10, 1, 1]               0\n",
            "================================================================\n",
            "Total params: 94,404\n",
            "Trainable params: 94,404\n",
            "Non-trainable params: 0\n",
            "----------------------------------------------------------------\n",
            "Input size (MB): 0.01\n",
            "Forward/backward pass size (MB): 18.63\n",
            "Params size (MB): 0.36\n",
            "Estimated Total Size (MB): 19.00\n",
            "----------------------------------------------------------------\n"
          ],
          "name": "stdout"
        }
      ]
    },
    {
      "cell_type": "code",
      "metadata": {
        "id": "T8TbhdUsnp-p",
        "colab": {
          "base_uri": "https://localhost:8080/"
        },
        "outputId": "3e931046-038f-4587-f540-d68eb5a8550c"
      },
      "source": [
        "optimizer = optim.SGD(model.parameters(), lr=0.013, momentum=0.9, nesterov=True) #0.097, 0.13 works with gamma=0.71 and batch=64 withoit nan loss\n",
        "step_lr = StepLR(optimizer=optimizer, step_size=2, gamma=0.81)\n",
        "\n",
        "train_losses = []\n",
        "train_accuracy = []\n",
        "test_losses = []\n",
        "test_accuracy = []\n",
        "\n",
        "train_eval_model(model, train_loader, optimizer, device, epochs=12, test=True, test_loader=test_loader,scheduler=step_lr)"
      ],
      "execution_count": 20,
      "outputs": [
        {
          "output_type": "stream",
          "text": [
            "\r  0%|          | 0/782 [00:00<?, ?it/s]"
          ],
          "name": "stderr"
        },
        {
          "output_type": "stream",
          "text": [
            "\n",
            " epoch num ================================= 1\n"
          ],
          "name": "stdout"
        },
        {
          "output_type": "stream",
          "text": [
            "100%|██████████| 782/782 [00:29<00:00, 26.20it/s]"
          ],
          "name": "stderr"
        },
        {
          "output_type": "stream",
          "text": [
            "\n",
            "\n",
            "\t\t\tLast LR --> [0.013]\n",
            "\n",
            "\t\t\tTrain metrics: accuracy: 17870/50000 (35.7400%)\n"
          ],
          "name": "stdout"
        },
        {
          "output_type": "stream",
          "text": [
            "\n",
            "  0%|          | 0/782 [00:00<?, ?it/s]"
          ],
          "name": "stderr"
        },
        {
          "output_type": "stream",
          "text": [
            "\n",
            "\tTest metrics: average loss: 1.4404, accuracy: 4798/10000 (47.98000%)\n",
            "\n",
            "\n",
            " epoch num ================================= 2\n"
          ],
          "name": "stdout"
        },
        {
          "output_type": "stream",
          "text": [
            "100%|██████████| 782/782 [00:28<00:00, 27.00it/s]"
          ],
          "name": "stderr"
        },
        {
          "output_type": "stream",
          "text": [
            "\n",
            "\n",
            "\t\t\tLast LR --> [0.013]\n",
            "\n",
            "\t\t\tTrain metrics: accuracy: 23097/50000 (46.1940%)\n"
          ],
          "name": "stdout"
        },
        {
          "output_type": "stream",
          "text": [
            "\n",
            "  0%|          | 0/782 [00:00<?, ?it/s]"
          ],
          "name": "stderr"
        },
        {
          "output_type": "stream",
          "text": [
            "\n",
            "\tTest metrics: average loss: 1.4441, accuracy: 4831/10000 (48.31000%)\n",
            "\n",
            "\n",
            " epoch num ================================= 3\n"
          ],
          "name": "stdout"
        },
        {
          "output_type": "stream",
          "text": [
            "100%|██████████| 782/782 [00:28<00:00, 27.10it/s]"
          ],
          "name": "stderr"
        },
        {
          "output_type": "stream",
          "text": [
            "\n",
            "\n",
            "\t\t\tLast LR --> [0.01053]\n",
            "\n",
            "\t\t\tTrain metrics: accuracy: 26199/50000 (52.3980%)\n"
          ],
          "name": "stdout"
        },
        {
          "output_type": "stream",
          "text": [
            "\n",
            "  0%|          | 0/782 [00:00<?, ?it/s]"
          ],
          "name": "stderr"
        },
        {
          "output_type": "stream",
          "text": [
            "\n",
            "\tTest metrics: average loss: 1.1891, accuracy: 5735/10000 (57.35000%)\n",
            "\n",
            "\n",
            " epoch num ================================= 4\n"
          ],
          "name": "stdout"
        },
        {
          "output_type": "stream",
          "text": [
            "100%|██████████| 782/782 [00:29<00:00, 26.92it/s]"
          ],
          "name": "stderr"
        },
        {
          "output_type": "stream",
          "text": [
            "\n",
            "\n",
            "\t\t\tLast LR --> [0.01053]\n",
            "\n",
            "\t\t\tTrain metrics: accuracy: 28085/50000 (56.1700%)\n"
          ],
          "name": "stdout"
        },
        {
          "output_type": "stream",
          "text": [
            "\n",
            "  0%|          | 0/782 [00:00<?, ?it/s]"
          ],
          "name": "stderr"
        },
        {
          "output_type": "stream",
          "text": [
            "\n",
            "\tTest metrics: average loss: 1.1091, accuracy: 6067/10000 (60.67000%)\n",
            "\n",
            "\n",
            " epoch num ================================= 5\n"
          ],
          "name": "stdout"
        },
        {
          "output_type": "stream",
          "text": [
            "100%|██████████| 782/782 [00:29<00:00, 26.94it/s]"
          ],
          "name": "stderr"
        },
        {
          "output_type": "stream",
          "text": [
            "\n",
            "\n",
            "\t\t\tLast LR --> [0.0085293]\n",
            "\n",
            "\t\t\tTrain metrics: accuracy: 30101/50000 (60.2020%)\n"
          ],
          "name": "stdout"
        },
        {
          "output_type": "stream",
          "text": [
            "\n",
            "  0%|          | 0/782 [00:00<?, ?it/s]"
          ],
          "name": "stderr"
        },
        {
          "output_type": "stream",
          "text": [
            "\n",
            "\tTest metrics: average loss: 1.0222, accuracy: 6375/10000 (63.75000%)\n",
            "\n",
            "\n",
            " epoch num ================================= 6\n"
          ],
          "name": "stdout"
        },
        {
          "output_type": "stream",
          "text": [
            "100%|██████████| 782/782 [00:29<00:00, 26.95it/s]"
          ],
          "name": "stderr"
        },
        {
          "output_type": "stream",
          "text": [
            "\n",
            "\n",
            "\t\t\tLast LR --> [0.0085293]\n",
            "\n",
            "\t\t\tTrain metrics: accuracy: 31402/50000 (62.8040%)\n"
          ],
          "name": "stdout"
        },
        {
          "output_type": "stream",
          "text": [
            "\n",
            "  0%|          | 0/782 [00:00<?, ?it/s]"
          ],
          "name": "stderr"
        },
        {
          "output_type": "stream",
          "text": [
            "\n",
            "\tTest metrics: average loss: 0.9469, accuracy: 6675/10000 (66.75000%)\n",
            "\n",
            "\n",
            " epoch num ================================= 7\n"
          ],
          "name": "stdout"
        },
        {
          "output_type": "stream",
          "text": [
            "100%|██████████| 782/782 [00:29<00:00, 26.88it/s]"
          ],
          "name": "stderr"
        },
        {
          "output_type": "stream",
          "text": [
            "\n",
            "\n",
            "\t\t\tLast LR --> [0.006908733]\n",
            "\n",
            "\t\t\tTrain metrics: accuracy: 32865/50000 (65.7300%)\n"
          ],
          "name": "stdout"
        },
        {
          "output_type": "stream",
          "text": [
            "\n",
            "  0%|          | 0/782 [00:00<?, ?it/s]"
          ],
          "name": "stderr"
        },
        {
          "output_type": "stream",
          "text": [
            "\n",
            "\tTest metrics: average loss: 0.8637, accuracy: 6956/10000 (69.56000%)\n",
            "\n",
            "\n",
            " epoch num ================================= 8\n"
          ],
          "name": "stdout"
        },
        {
          "output_type": "stream",
          "text": [
            "100%|██████████| 782/782 [00:29<00:00, 26.69it/s]"
          ],
          "name": "stderr"
        },
        {
          "output_type": "stream",
          "text": [
            "\n",
            "\n",
            "\t\t\tLast LR --> [0.006908733]\n",
            "\n",
            "\t\t\tTrain metrics: accuracy: 33633/50000 (67.2660%)\n"
          ],
          "name": "stdout"
        },
        {
          "output_type": "stream",
          "text": [
            "\n",
            "  0%|          | 0/782 [00:00<?, ?it/s]"
          ],
          "name": "stderr"
        },
        {
          "output_type": "stream",
          "text": [
            "\n",
            "\tTest metrics: average loss: 0.8588, accuracy: 7078/10000 (70.78000%)\n",
            "\n",
            "\n",
            " epoch num ================================= 9\n"
          ],
          "name": "stdout"
        },
        {
          "output_type": "stream",
          "text": [
            "100%|██████████| 782/782 [00:28<00:00, 27.05it/s]"
          ],
          "name": "stderr"
        },
        {
          "output_type": "stream",
          "text": [
            "\n",
            "\n",
            "\t\t\tLast LR --> [0.005596073730000001]\n",
            "\n",
            "\t\t\tTrain metrics: accuracy: 34625/50000 (69.2500%)\n"
          ],
          "name": "stdout"
        },
        {
          "output_type": "stream",
          "text": [
            "\n",
            "  0%|          | 0/782 [00:00<?, ?it/s]"
          ],
          "name": "stderr"
        },
        {
          "output_type": "stream",
          "text": [
            "\n",
            "\tTest metrics: average loss: 0.8328, accuracy: 7134/10000 (71.34000%)\n",
            "\n",
            "\n",
            " epoch num ================================= 10\n"
          ],
          "name": "stdout"
        },
        {
          "output_type": "stream",
          "text": [
            "100%|██████████| 782/782 [00:28<00:00, 27.01it/s]"
          ],
          "name": "stderr"
        },
        {
          "output_type": "stream",
          "text": [
            "\n",
            "\n",
            "\t\t\tLast LR --> [0.005596073730000001]\n",
            "\n",
            "\t\t\tTrain metrics: accuracy: 35241/50000 (70.4820%)\n"
          ],
          "name": "stdout"
        },
        {
          "output_type": "stream",
          "text": [
            "\n",
            "  0%|          | 0/782 [00:00<?, ?it/s]"
          ],
          "name": "stderr"
        },
        {
          "output_type": "stream",
          "text": [
            "\n",
            "\tTest metrics: average loss: 0.7605, accuracy: 7417/10000 (74.17000%)\n",
            "\n",
            "\n",
            " epoch num ================================= 11\n"
          ],
          "name": "stdout"
        },
        {
          "output_type": "stream",
          "text": [
            "100%|██████████| 782/782 [00:29<00:00, 26.95it/s]"
          ],
          "name": "stderr"
        },
        {
          "output_type": "stream",
          "text": [
            "\n",
            "\n",
            "\t\t\tLast LR --> [0.004532819721300001]\n",
            "\n",
            "\t\t\tTrain metrics: accuracy: 35975/50000 (71.9500%)\n"
          ],
          "name": "stdout"
        },
        {
          "output_type": "stream",
          "text": [
            "\n",
            "  0%|          | 0/782 [00:00<?, ?it/s]"
          ],
          "name": "stderr"
        },
        {
          "output_type": "stream",
          "text": [
            "\n",
            "\tTest metrics: average loss: 0.7317, accuracy: 7443/10000 (74.43000%)\n",
            "\n",
            "\n",
            " epoch num ================================= 12\n"
          ],
          "name": "stdout"
        },
        {
          "output_type": "stream",
          "text": [
            "100%|██████████| 782/782 [00:29<00:00, 26.82it/s]"
          ],
          "name": "stderr"
        },
        {
          "output_type": "stream",
          "text": [
            "\n",
            "\n",
            "\t\t\tLast LR --> [0.004532819721300001]\n",
            "\n",
            "\t\t\tTrain metrics: accuracy: 36547/50000 (73.0940%)\n"
          ],
          "name": "stdout"
        },
        {
          "output_type": "stream",
          "text": [
            "\n"
          ],
          "name": "stderr"
        },
        {
          "output_type": "stream",
          "text": [
            "\n",
            "\tTest metrics: average loss: 0.7173, accuracy: 7545/10000 (75.45000%)\n",
            "\n"
          ],
          "name": "stdout"
        }
      ]
    },
    {
      "cell_type": "code",
      "metadata": {
        "colab": {
          "base_uri": "https://localhost:8080/"
        },
        "id": "rJE-xktOHkzj",
        "outputId": "a263559f-3426-4971-ce66-5bebbb879123"
      },
      "source": [
        "optimizer = optim.SGD(model.parameters(), lr=0.0019, momentum=0.9, nesterov=True) #0.097, 0.13 works with gamma=0.71 and batch=64 withoit nan loss\n",
        "step_lr = StepLR(optimizer=optimizer, step_size=2, gamma=0.81)\n",
        "\n",
        "\n",
        "train_eval_model(model, train_loader, optimizer, device, epochs=15, test=True, test_loader=test_loader,scheduler=step_lr)"
      ],
      "execution_count": 21,
      "outputs": [
        {
          "output_type": "stream",
          "text": [
            "\r  0%|          | 0/782 [00:00<?, ?it/s]"
          ],
          "name": "stderr"
        },
        {
          "output_type": "stream",
          "text": [
            "\n",
            " epoch num ================================= 1\n"
          ],
          "name": "stdout"
        },
        {
          "output_type": "stream",
          "text": [
            "100%|██████████| 782/782 [00:30<00:00, 25.96it/s]"
          ],
          "name": "stderr"
        },
        {
          "output_type": "stream",
          "text": [
            "\n",
            "\n",
            "\t\t\tLast LR --> [0.0019]\n",
            "\n",
            "\t\t\tTrain metrics: accuracy: 32548/50000 (65.0960%)\n"
          ],
          "name": "stdout"
        },
        {
          "output_type": "stream",
          "text": [
            "\n",
            "  0%|          | 0/782 [00:00<?, ?it/s]"
          ],
          "name": "stderr"
        },
        {
          "output_type": "stream",
          "text": [
            "\n",
            "\tTest metrics: average loss: 0.8093, accuracy: 7445/10000 (74.45000%)\n",
            "\n",
            "\n",
            " epoch num ================================= 2\n"
          ],
          "name": "stdout"
        },
        {
          "output_type": "stream",
          "text": [
            "100%|██████████| 782/782 [00:29<00:00, 26.85it/s]"
          ],
          "name": "stderr"
        },
        {
          "output_type": "stream",
          "text": [
            "\n",
            "\n",
            "\t\t\tLast LR --> [0.0019]\n",
            "\n",
            "\t\t\tTrain metrics: accuracy: 36642/50000 (73.2840%)\n"
          ],
          "name": "stdout"
        },
        {
          "output_type": "stream",
          "text": [
            "\n",
            "  0%|          | 0/782 [00:00<?, ?it/s]"
          ],
          "name": "stderr"
        },
        {
          "output_type": "stream",
          "text": [
            "\n",
            "\tTest metrics: average loss: 0.6885, accuracy: 7619/10000 (76.19000%)\n",
            "\n",
            "\n",
            " epoch num ================================= 3\n"
          ],
          "name": "stdout"
        },
        {
          "output_type": "stream",
          "text": [
            "100%|██████████| 782/782 [00:29<00:00, 26.75it/s]"
          ],
          "name": "stderr"
        },
        {
          "output_type": "stream",
          "text": [
            "\n",
            "\n",
            "\t\t\tLast LR --> [0.001539]\n",
            "\n",
            "\t\t\tTrain metrics: accuracy: 37514/50000 (75.0280%)\n"
          ],
          "name": "stdout"
        },
        {
          "output_type": "stream",
          "text": [
            "\n",
            "  0%|          | 0/782 [00:00<?, ?it/s]"
          ],
          "name": "stderr"
        },
        {
          "output_type": "stream",
          "text": [
            "\n",
            "\tTest metrics: average loss: 0.6618, accuracy: 7689/10000 (76.89000%)\n",
            "\n",
            "\n",
            " epoch num ================================= 4\n"
          ],
          "name": "stdout"
        },
        {
          "output_type": "stream",
          "text": [
            "100%|██████████| 782/782 [00:29<00:00, 26.72it/s]"
          ],
          "name": "stderr"
        },
        {
          "output_type": "stream",
          "text": [
            "\n",
            "\n",
            "\t\t\tLast LR --> [0.001539]\n",
            "\n",
            "\t\t\tTrain metrics: accuracy: 38020/50000 (76.0400%)\n"
          ],
          "name": "stdout"
        },
        {
          "output_type": "stream",
          "text": [
            "\n",
            "  0%|          | 0/782 [00:00<?, ?it/s]"
          ],
          "name": "stderr"
        },
        {
          "output_type": "stream",
          "text": [
            "\n",
            "\tTest metrics: average loss: 0.6530, accuracy: 7748/10000 (77.48000%)\n",
            "\n",
            "\n",
            " epoch num ================================= 5\n"
          ],
          "name": "stdout"
        },
        {
          "output_type": "stream",
          "text": [
            "100%|██████████| 782/782 [00:29<00:00, 26.72it/s]"
          ],
          "name": "stderr"
        },
        {
          "output_type": "stream",
          "text": [
            "\n",
            "\n",
            "\t\t\tLast LR --> [0.0012465900000000001]\n",
            "\n",
            "\t\t\tTrain metrics: accuracy: 38272/50000 (76.5440%)\n"
          ],
          "name": "stdout"
        },
        {
          "output_type": "stream",
          "text": [
            "\n",
            "  0%|          | 0/782 [00:00<?, ?it/s]"
          ],
          "name": "stderr"
        },
        {
          "output_type": "stream",
          "text": [
            "\n",
            "\tTest metrics: average loss: 0.6431, accuracy: 7807/10000 (78.07000%)\n",
            "\n",
            "\n",
            " epoch num ================================= 6\n"
          ],
          "name": "stdout"
        },
        {
          "output_type": "stream",
          "text": [
            "100%|██████████| 782/782 [00:28<00:00, 26.98it/s]"
          ],
          "name": "stderr"
        },
        {
          "output_type": "stream",
          "text": [
            "\n",
            "\n",
            "\t\t\tLast LR --> [0.0012465900000000001]\n",
            "\n",
            "\t\t\tTrain metrics: accuracy: 38432/50000 (76.8640%)\n"
          ],
          "name": "stdout"
        },
        {
          "output_type": "stream",
          "text": [
            "\n",
            "  0%|          | 0/782 [00:00<?, ?it/s]"
          ],
          "name": "stderr"
        },
        {
          "output_type": "stream",
          "text": [
            "\n",
            "\tTest metrics: average loss: 0.6427, accuracy: 7803/10000 (78.03000%)\n",
            "\n",
            "\n",
            " epoch num ================================= 7\n"
          ],
          "name": "stdout"
        },
        {
          "output_type": "stream",
          "text": [
            "100%|██████████| 782/782 [00:28<00:00, 27.22it/s]"
          ],
          "name": "stderr"
        },
        {
          "output_type": "stream",
          "text": [
            "\n",
            "\n",
            "\t\t\tLast LR --> [0.0010097379000000002]\n",
            "\n",
            "\t\t\tTrain metrics: accuracy: 38762/50000 (77.5240%)\n"
          ],
          "name": "stdout"
        },
        {
          "output_type": "stream",
          "text": [
            "\n",
            "  0%|          | 0/782 [00:00<?, ?it/s]"
          ],
          "name": "stderr"
        },
        {
          "output_type": "stream",
          "text": [
            "\n",
            "\tTest metrics: average loss: 0.6325, accuracy: 7839/10000 (78.39000%)\n",
            "\n",
            "\n",
            " epoch num ================================= 8\n"
          ],
          "name": "stdout"
        },
        {
          "output_type": "stream",
          "text": [
            "100%|██████████| 782/782 [00:28<00:00, 27.14it/s]"
          ],
          "name": "stderr"
        },
        {
          "output_type": "stream",
          "text": [
            "\n",
            "\n",
            "\t\t\tLast LR --> [0.0010097379000000002]\n",
            "\n",
            "\t\t\tTrain metrics: accuracy: 38804/50000 (77.6080%)\n"
          ],
          "name": "stdout"
        },
        {
          "output_type": "stream",
          "text": [
            "\n",
            "  0%|          | 0/782 [00:00<?, ?it/s]"
          ],
          "name": "stderr"
        },
        {
          "output_type": "stream",
          "text": [
            "\n",
            "\tTest metrics: average loss: 0.6270, accuracy: 7872/10000 (78.72000%)\n",
            "\n",
            "\n",
            " epoch num ================================= 9\n"
          ],
          "name": "stdout"
        },
        {
          "output_type": "stream",
          "text": [
            "100%|██████████| 782/782 [00:28<00:00, 27.19it/s]"
          ],
          "name": "stderr"
        },
        {
          "output_type": "stream",
          "text": [
            "\n",
            "\n",
            "\t\t\tLast LR --> [0.0008178876990000002]\n",
            "\n",
            "\t\t\tTrain metrics: accuracy: 39045/50000 (78.0900%)\n"
          ],
          "name": "stdout"
        },
        {
          "output_type": "stream",
          "text": [
            "\n",
            "  0%|          | 0/782 [00:00<?, ?it/s]"
          ],
          "name": "stderr"
        },
        {
          "output_type": "stream",
          "text": [
            "\n",
            "\tTest metrics: average loss: 0.6248, accuracy: 7846/10000 (78.46000%)\n",
            "\n",
            "\n",
            " epoch num ================================= 10\n"
          ],
          "name": "stdout"
        },
        {
          "output_type": "stream",
          "text": [
            "100%|██████████| 782/782 [00:28<00:00, 27.11it/s]"
          ],
          "name": "stderr"
        },
        {
          "output_type": "stream",
          "text": [
            "\n",
            "\n",
            "\t\t\tLast LR --> [0.0008178876990000002]\n",
            "\n",
            "\t\t\tTrain metrics: accuracy: 39118/50000 (78.2360%)\n"
          ],
          "name": "stdout"
        },
        {
          "output_type": "stream",
          "text": [
            "\n",
            "  0%|          | 0/782 [00:00<?, ?it/s]"
          ],
          "name": "stderr"
        },
        {
          "output_type": "stream",
          "text": [
            "\n",
            "\tTest metrics: average loss: 0.6199, accuracy: 7879/10000 (78.79000%)\n",
            "\n",
            "\n",
            " epoch num ================================= 11\n"
          ],
          "name": "stdout"
        },
        {
          "output_type": "stream",
          "text": [
            "100%|██████████| 782/782 [00:28<00:00, 27.22it/s]"
          ],
          "name": "stderr"
        },
        {
          "output_type": "stream",
          "text": [
            "\n",
            "\n",
            "\t\t\tLast LR --> [0.0006624890361900003]\n",
            "\n",
            "\t\t\tTrain metrics: accuracy: 39413/50000 (78.8260%)\n"
          ],
          "name": "stdout"
        },
        {
          "output_type": "stream",
          "text": [
            "\n",
            "  0%|          | 0/782 [00:00<?, ?it/s]"
          ],
          "name": "stderr"
        },
        {
          "output_type": "stream",
          "text": [
            "\n",
            "\tTest metrics: average loss: 0.6202, accuracy: 7863/10000 (78.63000%)\n",
            "\n",
            "\n",
            " epoch num ================================= 12\n"
          ],
          "name": "stdout"
        },
        {
          "output_type": "stream",
          "text": [
            "100%|██████████| 782/782 [00:28<00:00, 27.07it/s]"
          ],
          "name": "stderr"
        },
        {
          "output_type": "stream",
          "text": [
            "\n",
            "\n",
            "\t\t\tLast LR --> [0.0006624890361900003]\n",
            "\n",
            "\t\t\tTrain metrics: accuracy: 39516/50000 (79.0320%)\n"
          ],
          "name": "stdout"
        },
        {
          "output_type": "stream",
          "text": [
            "\n",
            "  0%|          | 0/782 [00:00<?, ?it/s]"
          ],
          "name": "stderr"
        },
        {
          "output_type": "stream",
          "text": [
            "\n",
            "\tTest metrics: average loss: 0.6190, accuracy: 7913/10000 (79.13000%)\n",
            "\n",
            "\n",
            " epoch num ================================= 13\n"
          ],
          "name": "stdout"
        },
        {
          "output_type": "stream",
          "text": [
            "100%|██████████| 782/782 [00:28<00:00, 27.25it/s]"
          ],
          "name": "stderr"
        },
        {
          "output_type": "stream",
          "text": [
            "\n",
            "\n",
            "\t\t\tLast LR --> [0.0005366161193139003]\n",
            "\n",
            "\t\t\tTrain metrics: accuracy: 39680/50000 (79.3600%)\n"
          ],
          "name": "stdout"
        },
        {
          "output_type": "stream",
          "text": [
            "\n",
            "  0%|          | 0/782 [00:00<?, ?it/s]"
          ],
          "name": "stderr"
        },
        {
          "output_type": "stream",
          "text": [
            "\n",
            "\tTest metrics: average loss: 0.6126, accuracy: 7915/10000 (79.15000%)\n",
            "\n",
            "\n",
            " epoch num ================================= 14\n"
          ],
          "name": "stdout"
        },
        {
          "output_type": "stream",
          "text": [
            "100%|██████████| 782/782 [00:28<00:00, 27.22it/s]"
          ],
          "name": "stderr"
        },
        {
          "output_type": "stream",
          "text": [
            "\n",
            "\n",
            "\t\t\tLast LR --> [0.0005366161193139003]\n",
            "\n",
            "\t\t\tTrain metrics: accuracy: 39817/50000 (79.6340%)\n"
          ],
          "name": "stdout"
        },
        {
          "output_type": "stream",
          "text": [
            "\n",
            "  0%|          | 0/782 [00:00<?, ?it/s]"
          ],
          "name": "stderr"
        },
        {
          "output_type": "stream",
          "text": [
            "\n",
            "\tTest metrics: average loss: 0.6187, accuracy: 7905/10000 (79.05000%)\n",
            "\n",
            "\n",
            " epoch num ================================= 15\n"
          ],
          "name": "stdout"
        },
        {
          "output_type": "stream",
          "text": [
            "100%|██████████| 782/782 [00:28<00:00, 27.22it/s]"
          ],
          "name": "stderr"
        },
        {
          "output_type": "stream",
          "text": [
            "\n",
            "\n",
            "\t\t\tLast LR --> [0.00043465905664425927]\n",
            "\n",
            "\t\t\tTrain metrics: accuracy: 39967/50000 (79.9340%)\n"
          ],
          "name": "stdout"
        },
        {
          "output_type": "stream",
          "text": [
            "\n"
          ],
          "name": "stderr"
        },
        {
          "output_type": "stream",
          "text": [
            "\n",
            "\tTest metrics: average loss: 0.6143, accuracy: 7913/10000 (79.13000%)\n",
            "\n"
          ],
          "name": "stdout"
        }
      ]
    },
    {
      "cell_type": "code",
      "metadata": {
        "colab": {
          "base_uri": "https://localhost:8080/"
        },
        "id": "Elns467vLBsy",
        "outputId": "2ef18869-5bfc-4320-84e8-6fe01f28b527"
      },
      "source": [
        "optimizer = optim.SGD(model.parameters(), lr=0.015, momentum=0.9, nesterov=True) #0.097, 0.13 works with gamma=0.71 and batch=64 withoit nan loss\n",
        "step_lr = StepLR(optimizer=optimizer, step_size=1, gamma=0.81)\n",
        "\n",
        "\n",
        "train_eval_model(model, train_loader, optimizer, device, epochs=20, test=True, test_loader=test_loader,scheduler=step_lr)"
      ],
      "execution_count": 35,
      "outputs": [
        {
          "output_type": "stream",
          "text": [
            "\r  0%|          | 0/782 [00:00<?, ?it/s]"
          ],
          "name": "stderr"
        },
        {
          "output_type": "stream",
          "text": [
            "\n",
            " epoch num ================================= 1\n"
          ],
          "name": "stdout"
        },
        {
          "output_type": "stream",
          "text": [
            "100%|██████████| 782/782 [00:30<00:00, 26.04it/s]"
          ],
          "name": "stderr"
        },
        {
          "output_type": "stream",
          "text": [
            "\n",
            "\n",
            "\t\t\tLast LR --> [0.015]\n",
            "\n",
            "\t\t\tTrain metrics: accuracy: 34353/50000 (68.7060%)\n"
          ],
          "name": "stdout"
        },
        {
          "output_type": "stream",
          "text": [
            "\n",
            "  0%|          | 0/782 [00:00<?, ?it/s]"
          ],
          "name": "stderr"
        },
        {
          "output_type": "stream",
          "text": [
            "\n",
            "\tTest metrics: average loss: 0.7077, accuracy: 7609/10000 (76.09000%)\n",
            "\n",
            "\n",
            " epoch num ================================= 2\n"
          ],
          "name": "stdout"
        },
        {
          "output_type": "stream",
          "text": [
            "100%|██████████| 782/782 [00:28<00:00, 27.14it/s]"
          ],
          "name": "stderr"
        },
        {
          "output_type": "stream",
          "text": [
            "\n",
            "\n",
            "\t\t\tLast LR --> [0.012150000000000001]\n",
            "\n",
            "\t\t\tTrain metrics: accuracy: 36124/50000 (72.2480%)\n"
          ],
          "name": "stdout"
        },
        {
          "output_type": "stream",
          "text": [
            "\n",
            "  0%|          | 0/782 [00:00<?, ?it/s]"
          ],
          "name": "stderr"
        },
        {
          "output_type": "stream",
          "text": [
            "\n",
            "\tTest metrics: average loss: 0.7511, accuracy: 7393/10000 (73.93000%)\n",
            "\n",
            "\n",
            " epoch num ================================= 3\n"
          ],
          "name": "stdout"
        },
        {
          "output_type": "stream",
          "text": [
            "100%|██████████| 782/782 [00:28<00:00, 27.19it/s]"
          ],
          "name": "stderr"
        },
        {
          "output_type": "stream",
          "text": [
            "\n",
            "\n",
            "\t\t\tLast LR --> [0.009841500000000001]\n",
            "\n",
            "\t\t\tTrain metrics: accuracy: 36997/50000 (73.9940%)\n"
          ],
          "name": "stdout"
        },
        {
          "output_type": "stream",
          "text": [
            "\n",
            "  0%|          | 0/782 [00:00<?, ?it/s]"
          ],
          "name": "stderr"
        },
        {
          "output_type": "stream",
          "text": [
            "\n",
            "\tTest metrics: average loss: 0.6989, accuracy: 7561/10000 (75.61000%)\n",
            "\n",
            "\n",
            " epoch num ================================= 4\n"
          ],
          "name": "stdout"
        },
        {
          "output_type": "stream",
          "text": [
            "100%|██████████| 782/782 [00:28<00:00, 27.25it/s]"
          ],
          "name": "stderr"
        },
        {
          "output_type": "stream",
          "text": [
            "\n",
            "\n",
            "\t\t\tLast LR --> [0.007971615000000001]\n",
            "\n",
            "\t\t\tTrain metrics: accuracy: 37737/50000 (75.4740%)\n"
          ],
          "name": "stdout"
        },
        {
          "output_type": "stream",
          "text": [
            "\n",
            "  0%|          | 0/782 [00:00<?, ?it/s]"
          ],
          "name": "stderr"
        },
        {
          "output_type": "stream",
          "text": [
            "\n",
            "\tTest metrics: average loss: 0.6912, accuracy: 7637/10000 (76.37000%)\n",
            "\n",
            "\n",
            " epoch num ================================= 5\n"
          ],
          "name": "stdout"
        },
        {
          "output_type": "stream",
          "text": [
            "100%|██████████| 782/782 [00:28<00:00, 27.11it/s]"
          ],
          "name": "stderr"
        },
        {
          "output_type": "stream",
          "text": [
            "\n",
            "\n",
            "\t\t\tLast LR --> [0.006457008150000001]\n",
            "\n",
            "\t\t\tTrain metrics: accuracy: 38374/50000 (76.7480%)\n"
          ],
          "name": "stdout"
        },
        {
          "output_type": "stream",
          "text": [
            "\n",
            "  0%|          | 0/782 [00:00<?, ?it/s]"
          ],
          "name": "stderr"
        },
        {
          "output_type": "stream",
          "text": [
            "\n",
            "\tTest metrics: average loss: 0.6607, accuracy: 7728/10000 (77.28000%)\n",
            "\n",
            "\n",
            " epoch num ================================= 6\n"
          ],
          "name": "stdout"
        },
        {
          "output_type": "stream",
          "text": [
            "100%|██████████| 782/782 [00:28<00:00, 26.98it/s]"
          ],
          "name": "stderr"
        },
        {
          "output_type": "stream",
          "text": [
            "\n",
            "\n",
            "\t\t\tLast LR --> [0.005230176601500001]\n",
            "\n",
            "\t\t\tTrain metrics: accuracy: 38910/50000 (77.8200%)\n"
          ],
          "name": "stdout"
        },
        {
          "output_type": "stream",
          "text": [
            "\n",
            "  0%|          | 0/782 [00:00<?, ?it/s]"
          ],
          "name": "stderr"
        },
        {
          "output_type": "stream",
          "text": [
            "\n",
            "\tTest metrics: average loss: 0.6256, accuracy: 7915/10000 (79.15000%)\n",
            "\n",
            "\n",
            " epoch num ================================= 7\n"
          ],
          "name": "stdout"
        },
        {
          "output_type": "stream",
          "text": [
            "100%|██████████| 782/782 [00:28<00:00, 26.98it/s]"
          ],
          "name": "stderr"
        },
        {
          "output_type": "stream",
          "text": [
            "\n",
            "\n",
            "\t\t\tLast LR --> [0.004236443047215001]\n",
            "\n",
            "\t\t\tTrain metrics: accuracy: 39413/50000 (78.8260%)\n"
          ],
          "name": "stdout"
        },
        {
          "output_type": "stream",
          "text": [
            "\n",
            "  0%|          | 0/782 [00:00<?, ?it/s]"
          ],
          "name": "stderr"
        },
        {
          "output_type": "stream",
          "text": [
            "\n",
            "\tTest metrics: average loss: 0.5900, accuracy: 7991/10000 (79.91000%)\n",
            "\n",
            "\n",
            " epoch num ================================= 8\n"
          ],
          "name": "stdout"
        },
        {
          "output_type": "stream",
          "text": [
            "100%|██████████| 782/782 [00:28<00:00, 27.05it/s]"
          ],
          "name": "stderr"
        },
        {
          "output_type": "stream",
          "text": [
            "\n",
            "\n",
            "\t\t\tLast LR --> [0.003431518868244151]\n",
            "\n",
            "\t\t\tTrain metrics: accuracy: 39997/50000 (79.9940%)\n"
          ],
          "name": "stdout"
        },
        {
          "output_type": "stream",
          "text": [
            "\n",
            "  0%|          | 0/782 [00:00<?, ?it/s]"
          ],
          "name": "stderr"
        },
        {
          "output_type": "stream",
          "text": [
            "\n",
            "\tTest metrics: average loss: 0.5839, accuracy: 8030/10000 (80.30000%)\n",
            "\n",
            "\n",
            " epoch num ================================= 9\n"
          ],
          "name": "stdout"
        },
        {
          "output_type": "stream",
          "text": [
            "100%|██████████| 782/782 [00:28<00:00, 27.13it/s]"
          ],
          "name": "stderr"
        },
        {
          "output_type": "stream",
          "text": [
            "\n",
            "\n",
            "\t\t\tLast LR --> [0.0027795302832777625]\n",
            "\n",
            "\t\t\tTrain metrics: accuracy: 40352/50000 (80.7040%)\n"
          ],
          "name": "stdout"
        },
        {
          "output_type": "stream",
          "text": [
            "\n",
            "  0%|          | 0/782 [00:00<?, ?it/s]"
          ],
          "name": "stderr"
        },
        {
          "output_type": "stream",
          "text": [
            "\n",
            "\tTest metrics: average loss: 0.5858, accuracy: 8053/10000 (80.53000%)\n",
            "\n",
            "\n",
            " epoch num ================================= 10\n"
          ],
          "name": "stdout"
        },
        {
          "output_type": "stream",
          "text": [
            "100%|██████████| 782/782 [00:28<00:00, 27.24it/s]"
          ],
          "name": "stderr"
        },
        {
          "output_type": "stream",
          "text": [
            "\n",
            "\n",
            "\t\t\tLast LR --> [0.002251419529454988]\n",
            "\n",
            "\t\t\tTrain metrics: accuracy: 40521/50000 (81.0420%)\n"
          ],
          "name": "stdout"
        },
        {
          "output_type": "stream",
          "text": [
            "\n",
            "  0%|          | 0/782 [00:00<?, ?it/s]"
          ],
          "name": "stderr"
        },
        {
          "output_type": "stream",
          "text": [
            "\n",
            "\tTest metrics: average loss: 0.5601, accuracy: 8135/10000 (81.35000%)\n",
            "\n",
            "\n",
            " epoch num ================================= 11\n"
          ],
          "name": "stdout"
        },
        {
          "output_type": "stream",
          "text": [
            "100%|██████████| 782/782 [00:28<00:00, 27.10it/s]"
          ],
          "name": "stderr"
        },
        {
          "output_type": "stream",
          "text": [
            "\n",
            "\n",
            "\t\t\tLast LR --> [0.0018236498188585403]\n",
            "\n",
            "\t\t\tTrain metrics: accuracy: 40767/50000 (81.5340%)\n"
          ],
          "name": "stdout"
        },
        {
          "output_type": "stream",
          "text": [
            "\n",
            "  0%|          | 0/782 [00:00<?, ?it/s]"
          ],
          "name": "stderr"
        },
        {
          "output_type": "stream",
          "text": [
            "\n",
            "\tTest metrics: average loss: 0.5720, accuracy: 8091/10000 (80.91000%)\n",
            "\n",
            "\n",
            " epoch num ================================= 12\n"
          ],
          "name": "stdout"
        },
        {
          "output_type": "stream",
          "text": [
            "100%|██████████| 782/782 [00:28<00:00, 27.18it/s]"
          ],
          "name": "stderr"
        },
        {
          "output_type": "stream",
          "text": [
            "\n",
            "\n",
            "\t\t\tLast LR --> [0.0014771563532754177]\n",
            "\n",
            "\t\t\tTrain metrics: accuracy: 40932/50000 (81.8640%)\n"
          ],
          "name": "stdout"
        },
        {
          "output_type": "stream",
          "text": [
            "\n",
            "  0%|          | 0/782 [00:00<?, ?it/s]"
          ],
          "name": "stderr"
        },
        {
          "output_type": "stream",
          "text": [
            "\n",
            "\tTest metrics: average loss: 0.5543, accuracy: 8157/10000 (81.57000%)\n",
            "\n",
            "\n",
            " epoch num ================================= 13\n"
          ],
          "name": "stdout"
        },
        {
          "output_type": "stream",
          "text": [
            "100%|██████████| 782/782 [00:28<00:00, 27.20it/s]"
          ],
          "name": "stderr"
        },
        {
          "output_type": "stream",
          "text": [
            "\n",
            "\n",
            "\t\t\tLast LR --> [0.0011964966461530883]\n",
            "\n",
            "\t\t\tTrain metrics: accuracy: 41379/50000 (82.7580%)\n"
          ],
          "name": "stdout"
        },
        {
          "output_type": "stream",
          "text": [
            "\n",
            "  0%|          | 0/782 [00:00<?, ?it/s]"
          ],
          "name": "stderr"
        },
        {
          "output_type": "stream",
          "text": [
            "\n",
            "\tTest metrics: average loss: 0.5632, accuracy: 8161/10000 (81.61000%)\n",
            "\n",
            "\n",
            " epoch num ================================= 14\n"
          ],
          "name": "stdout"
        },
        {
          "output_type": "stream",
          "text": [
            "100%|██████████| 782/782 [00:28<00:00, 27.12it/s]"
          ],
          "name": "stderr"
        },
        {
          "output_type": "stream",
          "text": [
            "\n",
            "\n",
            "\t\t\tLast LR --> [0.0009691622833840016]\n",
            "\n",
            "\t\t\tTrain metrics: accuracy: 41579/50000 (83.1580%)\n"
          ],
          "name": "stdout"
        },
        {
          "output_type": "stream",
          "text": [
            "\n",
            "  0%|          | 0/782 [00:00<?, ?it/s]"
          ],
          "name": "stderr"
        },
        {
          "output_type": "stream",
          "text": [
            "\n",
            "\tTest metrics: average loss: 0.5575, accuracy: 8181/10000 (81.81000%)\n",
            "\n",
            "\n",
            " epoch num ================================= 15\n"
          ],
          "name": "stdout"
        },
        {
          "output_type": "stream",
          "text": [
            "100%|██████████| 782/782 [00:28<00:00, 27.27it/s]"
          ],
          "name": "stderr"
        },
        {
          "output_type": "stream",
          "text": [
            "\n",
            "\n",
            "\t\t\tLast LR --> [0.0007850214495410413]\n",
            "\n",
            "\t\t\tTrain metrics: accuracy: 41722/50000 (83.4440%)\n"
          ],
          "name": "stdout"
        },
        {
          "output_type": "stream",
          "text": [
            "\n",
            "  0%|          | 0/782 [00:00<?, ?it/s]"
          ],
          "name": "stderr"
        },
        {
          "output_type": "stream",
          "text": [
            "\n",
            "\tTest metrics: average loss: 0.5525, accuracy: 8176/10000 (81.76000%)\n",
            "\n",
            "\n",
            " epoch num ================================= 16\n"
          ],
          "name": "stdout"
        },
        {
          "output_type": "stream",
          "text": [
            "100%|██████████| 782/782 [00:28<00:00, 27.16it/s]"
          ],
          "name": "stderr"
        },
        {
          "output_type": "stream",
          "text": [
            "\n",
            "\n",
            "\t\t\tLast LR --> [0.0006358673741282435]\n",
            "\n",
            "\t\t\tTrain metrics: accuracy: 41805/50000 (83.6100%)\n"
          ],
          "name": "stdout"
        },
        {
          "output_type": "stream",
          "text": [
            "\n",
            "  0%|          | 0/782 [00:00<?, ?it/s]"
          ],
          "name": "stderr"
        },
        {
          "output_type": "stream",
          "text": [
            "\n",
            "\tTest metrics: average loss: 0.5487, accuracy: 8200/10000 (82.00000%)\n",
            "\n",
            "\n",
            " epoch num ================================= 17\n"
          ],
          "name": "stdout"
        },
        {
          "output_type": "stream",
          "text": [
            "100%|██████████| 782/782 [00:28<00:00, 27.32it/s]"
          ],
          "name": "stderr"
        },
        {
          "output_type": "stream",
          "text": [
            "\n",
            "\n",
            "\t\t\tLast LR --> [0.0005150525730438772]\n",
            "\n",
            "\t\t\tTrain metrics: accuracy: 41916/50000 (83.8320%)\n"
          ],
          "name": "stdout"
        },
        {
          "output_type": "stream",
          "text": [
            "\n",
            "  0%|          | 0/782 [00:00<?, ?it/s]"
          ],
          "name": "stderr"
        },
        {
          "output_type": "stream",
          "text": [
            "\n",
            "\tTest metrics: average loss: 0.5540, accuracy: 8179/10000 (81.79000%)\n",
            "\n",
            "\n",
            " epoch num ================================= 18\n"
          ],
          "name": "stdout"
        },
        {
          "output_type": "stream",
          "text": [
            "100%|██████████| 782/782 [00:28<00:00, 27.25it/s]"
          ],
          "name": "stderr"
        },
        {
          "output_type": "stream",
          "text": [
            "\n",
            "\n",
            "\t\t\tLast LR --> [0.0004171925841655406]\n",
            "\n",
            "\t\t\tTrain metrics: accuracy: 41940/50000 (83.8800%)\n"
          ],
          "name": "stdout"
        },
        {
          "output_type": "stream",
          "text": [
            "\n",
            "  0%|          | 0/782 [00:00<?, ?it/s]"
          ],
          "name": "stderr"
        },
        {
          "output_type": "stream",
          "text": [
            "\n",
            "\tTest metrics: average loss: 0.5537, accuracy: 8184/10000 (81.84000%)\n",
            "\n",
            "\n",
            " epoch num ================================= 19\n"
          ],
          "name": "stdout"
        },
        {
          "output_type": "stream",
          "text": [
            "100%|██████████| 782/782 [00:28<00:00, 27.29it/s]"
          ],
          "name": "stderr"
        },
        {
          "output_type": "stream",
          "text": [
            "\n",
            "\n",
            "\t\t\tLast LR --> [0.0003379259931740879]\n",
            "\n",
            "\t\t\tTrain metrics: accuracy: 42019/50000 (84.0380%)\n"
          ],
          "name": "stdout"
        },
        {
          "output_type": "stream",
          "text": [
            "\n",
            "  0%|          | 0/782 [00:00<?, ?it/s]"
          ],
          "name": "stderr"
        },
        {
          "output_type": "stream",
          "text": [
            "\n",
            "\tTest metrics: average loss: 0.5519, accuracy: 8185/10000 (81.85000%)\n",
            "\n",
            "\n",
            " epoch num ================================= 20\n"
          ],
          "name": "stdout"
        },
        {
          "output_type": "stream",
          "text": [
            "100%|██████████| 782/782 [00:28<00:00, 27.32it/s]"
          ],
          "name": "stderr"
        },
        {
          "output_type": "stream",
          "text": [
            "\n",
            "\n",
            "\t\t\tLast LR --> [0.0002737200544710112]\n",
            "\n",
            "\t\t\tTrain metrics: accuracy: 42119/50000 (84.2380%)\n"
          ],
          "name": "stdout"
        },
        {
          "output_type": "stream",
          "text": [
            "\n"
          ],
          "name": "stderr"
        },
        {
          "output_type": "stream",
          "text": [
            "\n",
            "\tTest metrics: average loss: 0.5476, accuracy: 8193/10000 (81.93000%)\n",
            "\n"
          ],
          "name": "stdout"
        }
      ]
    },
    {
      "cell_type": "code",
      "metadata": {
        "id": "oXQFjs0gN97S"
      },
      "source": [
        "torch.save(model, \"./s7_exp_2.pth\")"
      ],
      "execution_count": 36,
      "outputs": []
    },
    {
      "cell_type": "code",
      "metadata": {
        "colab": {
          "base_uri": "https://localhost:8080/"
        },
        "id": "CmsiEQ89Mlxm",
        "outputId": "2acc670b-de00-49fe-f73c-643c9ec88dfa"
      },
      "source": [
        "optimizer = optim.SGD(model.parameters(), lr=0.001, momentum=0.9, nesterov=True) #0.097, 0.13 works with gamma=0.71 and batch=64 withoit nan loss\n",
        "# step_lr = StepLR(optimizer=optimizer, step_size=1, gamma=0.81)\n",
        "\n",
        "\n",
        "train_eval_model(model, train_loader, optimizer, device, epochs=10, test=True, test_loader=test_loader,scheduler=None)"
      ],
      "execution_count": 37,
      "outputs": [
        {
          "output_type": "stream",
          "text": [
            "\r  0%|          | 0/782 [00:00<?, ?it/s]"
          ],
          "name": "stderr"
        },
        {
          "output_type": "stream",
          "text": [
            "\n",
            " epoch num ================================= 1\n"
          ],
          "name": "stdout"
        },
        {
          "output_type": "stream",
          "text": [
            "100%|██████████| 782/782 [00:30<00:00, 25.74it/s]"
          ],
          "name": "stderr"
        },
        {
          "output_type": "stream",
          "text": [
            "\n",
            "\t\t\tTrain metrics: accuracy: 37818/50000 (75.6360%)\n"
          ],
          "name": "stdout"
        },
        {
          "output_type": "stream",
          "text": [
            "\n",
            "  0%|          | 0/782 [00:00<?, ?it/s]"
          ],
          "name": "stderr"
        },
        {
          "output_type": "stream",
          "text": [
            "\n",
            "\tTest metrics: average loss: 0.5760, accuracy: 8149/10000 (81.49000%)\n",
            "\n",
            "\n",
            " epoch num ================================= 2\n"
          ],
          "name": "stdout"
        },
        {
          "output_type": "stream",
          "text": [
            "100%|██████████| 782/782 [00:29<00:00, 26.54it/s]"
          ],
          "name": "stderr"
        },
        {
          "output_type": "stream",
          "text": [
            "\n",
            "\t\t\tTrain metrics: accuracy: 41154/50000 (82.3080%)\n"
          ],
          "name": "stdout"
        },
        {
          "output_type": "stream",
          "text": [
            "\n",
            "  0%|          | 0/782 [00:00<?, ?it/s]"
          ],
          "name": "stderr"
        },
        {
          "output_type": "stream",
          "text": [
            "\n",
            "\tTest metrics: average loss: 0.5368, accuracy: 8194/10000 (81.94000%)\n",
            "\n",
            "\n",
            " epoch num ================================= 3\n"
          ],
          "name": "stdout"
        },
        {
          "output_type": "stream",
          "text": [
            "100%|██████████| 782/782 [00:29<00:00, 26.88it/s]"
          ],
          "name": "stderr"
        },
        {
          "output_type": "stream",
          "text": [
            "\n",
            "\t\t\tTrain metrics: accuracy: 41486/50000 (82.9720%)\n"
          ],
          "name": "stdout"
        },
        {
          "output_type": "stream",
          "text": [
            "\n",
            "  0%|          | 0/782 [00:00<?, ?it/s]"
          ],
          "name": "stderr"
        },
        {
          "output_type": "stream",
          "text": [
            "\n",
            "\tTest metrics: average loss: 0.5434, accuracy: 8192/10000 (81.92000%)\n",
            "\n",
            "\n",
            " epoch num ================================= 4\n"
          ],
          "name": "stdout"
        },
        {
          "output_type": "stream",
          "text": [
            "100%|██████████| 782/782 [00:29<00:00, 26.82it/s]"
          ],
          "name": "stderr"
        },
        {
          "output_type": "stream",
          "text": [
            "\n",
            "\t\t\tTrain metrics: accuracy: 41665/50000 (83.3300%)\n"
          ],
          "name": "stdout"
        },
        {
          "output_type": "stream",
          "text": [
            "\n",
            "  0%|          | 0/782 [00:00<?, ?it/s]"
          ],
          "name": "stderr"
        },
        {
          "output_type": "stream",
          "text": [
            "\n",
            "\tTest metrics: average loss: 0.5424, accuracy: 8182/10000 (81.82000%)\n",
            "\n",
            "\n",
            " epoch num ================================= 5\n"
          ],
          "name": "stdout"
        },
        {
          "output_type": "stream",
          "text": [
            "100%|██████████| 782/782 [00:29<00:00, 26.80it/s]"
          ],
          "name": "stderr"
        },
        {
          "output_type": "stream",
          "text": [
            "\n",
            "\t\t\tTrain metrics: accuracy: 41705/50000 (83.4100%)\n"
          ],
          "name": "stdout"
        },
        {
          "output_type": "stream",
          "text": [
            "\n",
            "  0%|          | 0/782 [00:00<?, ?it/s]"
          ],
          "name": "stderr"
        },
        {
          "output_type": "stream",
          "text": [
            "\n",
            "\tTest metrics: average loss: 0.5434, accuracy: 8199/10000 (81.99000%)\n",
            "\n",
            "\n",
            " epoch num ================================= 6\n"
          ],
          "name": "stdout"
        },
        {
          "output_type": "stream",
          "text": [
            "100%|██████████| 782/782 [00:29<00:00, 26.80it/s]"
          ],
          "name": "stderr"
        },
        {
          "output_type": "stream",
          "text": [
            "\n",
            "\t\t\tTrain metrics: accuracy: 41882/50000 (83.7640%)\n"
          ],
          "name": "stdout"
        },
        {
          "output_type": "stream",
          "text": [
            "\n",
            "  0%|          | 0/782 [00:00<?, ?it/s]"
          ],
          "name": "stderr"
        },
        {
          "output_type": "stream",
          "text": [
            "\n",
            "\tTest metrics: average loss: 0.5438, accuracy: 8187/10000 (81.87000%)\n",
            "\n",
            "\n",
            " epoch num ================================= 7\n"
          ],
          "name": "stdout"
        },
        {
          "output_type": "stream",
          "text": [
            "100%|██████████| 782/782 [00:28<00:00, 27.06it/s]"
          ],
          "name": "stderr"
        },
        {
          "output_type": "stream",
          "text": [
            "\n",
            "\t\t\tTrain metrics: accuracy: 41742/50000 (83.4840%)\n"
          ],
          "name": "stdout"
        },
        {
          "output_type": "stream",
          "text": [
            "\n",
            "  0%|          | 0/782 [00:00<?, ?it/s]"
          ],
          "name": "stderr"
        },
        {
          "output_type": "stream",
          "text": [
            "\n",
            "\tTest metrics: average loss: 0.5409, accuracy: 8202/10000 (82.02000%)\n",
            "\n",
            "\n",
            " epoch num ================================= 8\n"
          ],
          "name": "stdout"
        },
        {
          "output_type": "stream",
          "text": [
            "100%|██████████| 782/782 [00:29<00:00, 26.92it/s]"
          ],
          "name": "stderr"
        },
        {
          "output_type": "stream",
          "text": [
            "\n",
            "\t\t\tTrain metrics: accuracy: 42048/50000 (84.0960%)\n"
          ],
          "name": "stdout"
        },
        {
          "output_type": "stream",
          "text": [
            "\n",
            "  0%|          | 0/782 [00:00<?, ?it/s]"
          ],
          "name": "stderr"
        },
        {
          "output_type": "stream",
          "text": [
            "\n",
            "\tTest metrics: average loss: 0.5484, accuracy: 8184/10000 (81.84000%)\n",
            "\n",
            "\n",
            " epoch num ================================= 9\n"
          ],
          "name": "stdout"
        },
        {
          "output_type": "stream",
          "text": [
            "100%|██████████| 782/782 [00:28<00:00, 27.00it/s]"
          ],
          "name": "stderr"
        },
        {
          "output_type": "stream",
          "text": [
            "\n",
            "\t\t\tTrain metrics: accuracy: 42041/50000 (84.0820%)\n"
          ],
          "name": "stdout"
        },
        {
          "output_type": "stream",
          "text": [
            "\n",
            "  0%|          | 0/782 [00:00<?, ?it/s]"
          ],
          "name": "stderr"
        },
        {
          "output_type": "stream",
          "text": [
            "\n",
            "\tTest metrics: average loss: 0.5465, accuracy: 8197/10000 (81.97000%)\n",
            "\n",
            "\n",
            " epoch num ================================= 10\n"
          ],
          "name": "stdout"
        },
        {
          "output_type": "stream",
          "text": [
            "100%|██████████| 782/782 [00:29<00:00, 26.88it/s]"
          ],
          "name": "stderr"
        },
        {
          "output_type": "stream",
          "text": [
            "\n",
            "\t\t\tTrain metrics: accuracy: 41992/50000 (83.9840%)\n"
          ],
          "name": "stdout"
        },
        {
          "output_type": "stream",
          "text": [
            "\n"
          ],
          "name": "stderr"
        },
        {
          "output_type": "stream",
          "text": [
            "\n",
            "\tTest metrics: average loss: 0.5498, accuracy: 8191/10000 (81.91000%)\n",
            "\n"
          ],
          "name": "stdout"
        }
      ]
    },
    {
      "cell_type": "code",
      "metadata": {
        "id": "5X9sgg2HNNGP"
      },
      "source": [
        "torch.save(model, \"./s7_exp_2.pth\")"
      ],
      "execution_count": 38,
      "outputs": []
    },
    {
      "cell_type": "code",
      "metadata": {
        "colab": {
          "base_uri": "https://localhost:8080/"
        },
        "id": "GBogZxh3NNpP",
        "outputId": "549e80e6-6827-4196-af5e-cb4accfa1aa2"
      },
      "source": [
        "optimizer = optim.SGD(model.parameters(), lr=0.0007, momentum=0.9, nesterov=True) #0.097, 0.13 works with gamma=0.71 and batch=64 withoit nan loss\n",
        "# step_lr = StepLR(optimizer=optimizer, step_size=1, gamma=0.81)\n",
        "\n",
        "\n",
        "train_eval_model(model, train_loader, optimizer, device, epochs=10, test=True, test_loader=test_loader,scheduler=None)\n",
        "\n",
        "torch.save(model, \"./s7_exp_2.pth\")"
      ],
      "execution_count": 39,
      "outputs": [
        {
          "output_type": "stream",
          "text": [
            "\r  0%|          | 0/782 [00:00<?, ?it/s]"
          ],
          "name": "stderr"
        },
        {
          "output_type": "stream",
          "text": [
            "\n",
            " epoch num ================================= 1\n"
          ],
          "name": "stdout"
        },
        {
          "output_type": "stream",
          "text": [
            "100%|██████████| 782/782 [00:29<00:00, 26.17it/s]"
          ],
          "name": "stderr"
        },
        {
          "output_type": "stream",
          "text": [
            "\n",
            "\t\t\tTrain metrics: accuracy: 38572/50000 (77.1440%)\n"
          ],
          "name": "stdout"
        },
        {
          "output_type": "stream",
          "text": [
            "\n",
            "  0%|          | 0/782 [00:00<?, ?it/s]"
          ],
          "name": "stderr"
        },
        {
          "output_type": "stream",
          "text": [
            "\n",
            "\tTest metrics: average loss: 0.5507, accuracy: 8179/10000 (81.79000%)\n",
            "\n",
            "\n",
            " epoch num ================================= 2\n"
          ],
          "name": "stdout"
        },
        {
          "output_type": "stream",
          "text": [
            "100%|██████████| 782/782 [00:29<00:00, 26.88it/s]"
          ],
          "name": "stderr"
        },
        {
          "output_type": "stream",
          "text": [
            "\n",
            "\t\t\tTrain metrics: accuracy: 41713/50000 (83.4260%)\n"
          ],
          "name": "stdout"
        },
        {
          "output_type": "stream",
          "text": [
            "\n",
            "  0%|          | 0/782 [00:00<?, ?it/s]"
          ],
          "name": "stderr"
        },
        {
          "output_type": "stream",
          "text": [
            "\n",
            "\tTest metrics: average loss: 0.5315, accuracy: 8198/10000 (81.98000%)\n",
            "\n",
            "\n",
            " epoch num ================================= 3\n"
          ],
          "name": "stdout"
        },
        {
          "output_type": "stream",
          "text": [
            "100%|██████████| 782/782 [00:28<00:00, 27.06it/s]"
          ],
          "name": "stderr"
        },
        {
          "output_type": "stream",
          "text": [
            "\n",
            "\t\t\tTrain metrics: accuracy: 41947/50000 (83.8940%)\n"
          ],
          "name": "stdout"
        },
        {
          "output_type": "stream",
          "text": [
            "\n",
            "  0%|          | 0/782 [00:00<?, ?it/s]"
          ],
          "name": "stderr"
        },
        {
          "output_type": "stream",
          "text": [
            "\n",
            "\tTest metrics: average loss: 0.5298, accuracy: 8220/10000 (82.20000%)\n",
            "\n",
            "\n",
            " epoch num ================================= 4\n"
          ],
          "name": "stdout"
        },
        {
          "output_type": "stream",
          "text": [
            "100%|██████████| 782/782 [00:29<00:00, 26.78it/s]"
          ],
          "name": "stderr"
        },
        {
          "output_type": "stream",
          "text": [
            "\n",
            "\t\t\tTrain metrics: accuracy: 42079/50000 (84.1580%)\n"
          ],
          "name": "stdout"
        },
        {
          "output_type": "stream",
          "text": [
            "\n",
            "  0%|          | 0/782 [00:00<?, ?it/s]"
          ],
          "name": "stderr"
        },
        {
          "output_type": "stream",
          "text": [
            "\n",
            "\tTest metrics: average loss: 0.5279, accuracy: 8215/10000 (82.15000%)\n",
            "\n",
            "\n",
            " epoch num ================================= 5\n"
          ],
          "name": "stdout"
        },
        {
          "output_type": "stream",
          "text": [
            "100%|██████████| 782/782 [00:28<00:00, 27.30it/s]"
          ],
          "name": "stderr"
        },
        {
          "output_type": "stream",
          "text": [
            "\n",
            "\t\t\tTrain metrics: accuracy: 42260/50000 (84.5200%)\n"
          ],
          "name": "stdout"
        },
        {
          "output_type": "stream",
          "text": [
            "\n",
            "  0%|          | 0/782 [00:00<?, ?it/s]"
          ],
          "name": "stderr"
        },
        {
          "output_type": "stream",
          "text": [
            "\n",
            "\tTest metrics: average loss: 0.5347, accuracy: 8231/10000 (82.31000%)\n",
            "\n",
            "\n",
            " epoch num ================================= 6\n"
          ],
          "name": "stdout"
        },
        {
          "output_type": "stream",
          "text": [
            "100%|██████████| 782/782 [00:28<00:00, 27.43it/s]"
          ],
          "name": "stderr"
        },
        {
          "output_type": "stream",
          "text": [
            "\n",
            "\t\t\tTrain metrics: accuracy: 42382/50000 (84.7640%)\n"
          ],
          "name": "stdout"
        },
        {
          "output_type": "stream",
          "text": [
            "\n",
            "  0%|          | 0/782 [00:00<?, ?it/s]"
          ],
          "name": "stderr"
        },
        {
          "output_type": "stream",
          "text": [
            "\n",
            "\tTest metrics: average loss: 0.5387, accuracy: 8220/10000 (82.20000%)\n",
            "\n",
            "\n",
            " epoch num ================================= 7\n"
          ],
          "name": "stdout"
        },
        {
          "output_type": "stream",
          "text": [
            "100%|██████████| 782/782 [00:28<00:00, 27.40it/s]"
          ],
          "name": "stderr"
        },
        {
          "output_type": "stream",
          "text": [
            "\n",
            "\t\t\tTrain metrics: accuracy: 42417/50000 (84.8340%)\n"
          ],
          "name": "stdout"
        },
        {
          "output_type": "stream",
          "text": [
            "\n",
            "  0%|          | 0/782 [00:00<?, ?it/s]"
          ],
          "name": "stderr"
        },
        {
          "output_type": "stream",
          "text": [
            "\n",
            "\tTest metrics: average loss: 0.5392, accuracy: 8237/10000 (82.37000%)\n",
            "\n",
            "\n",
            " epoch num ================================= 8\n"
          ],
          "name": "stdout"
        },
        {
          "output_type": "stream",
          "text": [
            "100%|██████████| 782/782 [00:28<00:00, 27.43it/s]"
          ],
          "name": "stderr"
        },
        {
          "output_type": "stream",
          "text": [
            "\n",
            "\t\t\tTrain metrics: accuracy: 42456/50000 (84.9120%)\n"
          ],
          "name": "stdout"
        },
        {
          "output_type": "stream",
          "text": [
            "\n",
            "  0%|          | 0/782 [00:00<?, ?it/s]"
          ],
          "name": "stderr"
        },
        {
          "output_type": "stream",
          "text": [
            "\n",
            "\tTest metrics: average loss: 0.5361, accuracy: 8224/10000 (82.24000%)\n",
            "\n",
            "\n",
            " epoch num ================================= 9\n"
          ],
          "name": "stdout"
        },
        {
          "output_type": "stream",
          "text": [
            "100%|██████████| 782/782 [00:28<00:00, 27.44it/s]"
          ],
          "name": "stderr"
        },
        {
          "output_type": "stream",
          "text": [
            "\n",
            "\t\t\tTrain metrics: accuracy: 42508/50000 (85.0160%)\n"
          ],
          "name": "stdout"
        },
        {
          "output_type": "stream",
          "text": [
            "\n",
            "  0%|          | 0/782 [00:00<?, ?it/s]"
          ],
          "name": "stderr"
        },
        {
          "output_type": "stream",
          "text": [
            "\n",
            "\tTest metrics: average loss: 0.5368, accuracy: 8227/10000 (82.27000%)\n",
            "\n",
            "\n",
            " epoch num ================================= 10\n"
          ],
          "name": "stdout"
        },
        {
          "output_type": "stream",
          "text": [
            "100%|██████████| 782/782 [00:28<00:00, 27.31it/s]"
          ],
          "name": "stderr"
        },
        {
          "output_type": "stream",
          "text": [
            "\n",
            "\t\t\tTrain metrics: accuracy: 42476/50000 (84.9520%)\n"
          ],
          "name": "stdout"
        },
        {
          "output_type": "stream",
          "text": [
            "\n"
          ],
          "name": "stderr"
        },
        {
          "output_type": "stream",
          "text": [
            "\n",
            "\tTest metrics: average loss: 0.5407, accuracy: 8215/10000 (82.15000%)\n",
            "\n"
          ],
          "name": "stdout"
        }
      ]
    },
    {
      "cell_type": "code",
      "metadata": {
        "id": "Q6boDdpGNM4W"
      },
      "source": [
        "torch.save(model, \"./s7_exp_2.pth\")"
      ],
      "execution_count": 40,
      "outputs": []
    },
    {
      "cell_type": "code",
      "metadata": {
        "colab": {
          "base_uri": "https://localhost:8080/"
        },
        "id": "S02o_eiDQOq_",
        "outputId": "1ccffa3c-b2d8-40b9-b1f7-09661b0f9da6"
      },
      "source": [
        "optimizer = optim.SGD(model.parameters(), lr=0.0009, momentum=0.9, nesterov=True) #0.097, 0.13 works with gamma=0.71 and batch=64 withoit nan loss\n",
        "# step_lr = StepLR(optimizer=optimizer, step_size=1, gamma=0.81)\n",
        "\n",
        "\n",
        "train_eval_model(model, train_loader, optimizer, device, epochs=6, test=True, test_loader=test_loader,scheduler=None)\n",
        "\n",
        "torch.save(model, \"./s7_exp_2.pth\")"
      ],
      "execution_count": 41,
      "outputs": [
        {
          "output_type": "stream",
          "text": [
            "\r  0%|          | 0/782 [00:00<?, ?it/s]"
          ],
          "name": "stderr"
        },
        {
          "output_type": "stream",
          "text": [
            "\n",
            " epoch num ================================= 1\n"
          ],
          "name": "stdout"
        },
        {
          "output_type": "stream",
          "text": [
            "100%|██████████| 782/782 [00:29<00:00, 26.47it/s]"
          ],
          "name": "stderr"
        },
        {
          "output_type": "stream",
          "text": [
            "\n",
            "\t\t\tTrain metrics: accuracy: 38689/50000 (77.3780%)\n"
          ],
          "name": "stdout"
        },
        {
          "output_type": "stream",
          "text": [
            "\n",
            "  0%|          | 0/782 [00:00<?, ?it/s]"
          ],
          "name": "stderr"
        },
        {
          "output_type": "stream",
          "text": [
            "\n",
            "\tTest metrics: average loss: 0.5373, accuracy: 8222/10000 (82.22000%)\n",
            "\n",
            "\n",
            " epoch num ================================= 2\n"
          ],
          "name": "stdout"
        },
        {
          "output_type": "stream",
          "text": [
            "100%|██████████| 782/782 [00:28<00:00, 27.28it/s]"
          ],
          "name": "stderr"
        },
        {
          "output_type": "stream",
          "text": [
            "\n",
            "\t\t\tTrain metrics: accuracy: 42040/50000 (84.0800%)\n"
          ],
          "name": "stdout"
        },
        {
          "output_type": "stream",
          "text": [
            "\n",
            "  0%|          | 0/782 [00:00<?, ?it/s]"
          ],
          "name": "stderr"
        },
        {
          "output_type": "stream",
          "text": [
            "\n",
            "\tTest metrics: average loss: 0.5259, accuracy: 8230/10000 (82.30000%)\n",
            "\n",
            "\n",
            " epoch num ================================= 3\n"
          ],
          "name": "stdout"
        },
        {
          "output_type": "stream",
          "text": [
            "100%|██████████| 782/782 [00:28<00:00, 27.31it/s]"
          ],
          "name": "stderr"
        },
        {
          "output_type": "stream",
          "text": [
            "\n",
            "\t\t\tTrain metrics: accuracy: 42233/50000 (84.4660%)\n"
          ],
          "name": "stdout"
        },
        {
          "output_type": "stream",
          "text": [
            "\n",
            "  0%|          | 0/782 [00:00<?, ?it/s]"
          ],
          "name": "stderr"
        },
        {
          "output_type": "stream",
          "text": [
            "\n",
            "\tTest metrics: average loss: 0.5310, accuracy: 8270/10000 (82.70000%)\n",
            "\n",
            "\n",
            " epoch num ================================= 4\n"
          ],
          "name": "stdout"
        },
        {
          "output_type": "stream",
          "text": [
            "100%|██████████| 782/782 [00:28<00:00, 27.31it/s]"
          ],
          "name": "stderr"
        },
        {
          "output_type": "stream",
          "text": [
            "\n",
            "\t\t\tTrain metrics: accuracy: 42380/50000 (84.7600%)\n"
          ],
          "name": "stdout"
        },
        {
          "output_type": "stream",
          "text": [
            "\n",
            "  0%|          | 0/782 [00:00<?, ?it/s]"
          ],
          "name": "stderr"
        },
        {
          "output_type": "stream",
          "text": [
            "\n",
            "\tTest metrics: average loss: 0.5366, accuracy: 8240/10000 (82.40000%)\n",
            "\n",
            "\n",
            " epoch num ================================= 5\n"
          ],
          "name": "stdout"
        },
        {
          "output_type": "stream",
          "text": [
            "100%|██████████| 782/782 [00:28<00:00, 27.43it/s]"
          ],
          "name": "stderr"
        },
        {
          "output_type": "stream",
          "text": [
            "\n",
            "\t\t\tTrain metrics: accuracy: 42567/50000 (85.1340%)\n"
          ],
          "name": "stdout"
        },
        {
          "output_type": "stream",
          "text": [
            "\n",
            "  0%|          | 0/782 [00:00<?, ?it/s]"
          ],
          "name": "stderr"
        },
        {
          "output_type": "stream",
          "text": [
            "\n",
            "\tTest metrics: average loss: 0.5335, accuracy: 8233/10000 (82.33000%)\n",
            "\n",
            "\n",
            " epoch num ================================= 6\n"
          ],
          "name": "stdout"
        },
        {
          "output_type": "stream",
          "text": [
            "100%|██████████| 782/782 [00:28<00:00, 27.04it/s]"
          ],
          "name": "stderr"
        },
        {
          "output_type": "stream",
          "text": [
            "\n",
            "\t\t\tTrain metrics: accuracy: 42705/50000 (85.4100%)\n"
          ],
          "name": "stdout"
        },
        {
          "output_type": "stream",
          "text": [
            "\n"
          ],
          "name": "stderr"
        },
        {
          "output_type": "stream",
          "text": [
            "\n",
            "\tTest metrics: average loss: 0.5365, accuracy: 8215/10000 (82.15000%)\n",
            "\n"
          ],
          "name": "stdout"
        }
      ]
    },
    {
      "cell_type": "code",
      "metadata": {
        "id": "LbM6e6XyRVDh"
      },
      "source": [
        ""
      ],
      "execution_count": null,
      "outputs": []
    },
    {
      "cell_type": "code",
      "metadata": {
        "colab": {
          "base_uri": "https://localhost:8080/"
        },
        "id": "k2KhhT1HRVm9",
        "outputId": "8bf25bf8-db01-457e-b332-5c48c80b7ff5"
      },
      "source": [
        "optimizer = optim.SGD(model.parameters(), lr=0.003, momentum=0.9, nesterov=True) #0.097, 0.13 works with gamma=0.71 and batch=64 withoit nan loss\n",
        "# step_lr = StepLR(optimizer=optimizer, step_size=1, gamma=0.81)\n",
        "\n",
        "\n",
        "train_eval_model(model, train_loader, optimizer, device, epochs=6, test=True, test_loader=test_loader,scheduler=None)\n",
        "\n",
        "torch.save(model, \"./s7_exp_2.pth\")"
      ],
      "execution_count": 42,
      "outputs": [
        {
          "output_type": "stream",
          "text": [
            "\r  0%|          | 0/782 [00:00<?, ?it/s]"
          ],
          "name": "stderr"
        },
        {
          "output_type": "stream",
          "text": [
            "\n",
            " epoch num ================================= 1\n"
          ],
          "name": "stdout"
        },
        {
          "output_type": "stream",
          "text": [
            "100%|██████████| 782/782 [00:29<00:00, 26.10it/s]"
          ],
          "name": "stderr"
        },
        {
          "output_type": "stream",
          "text": [
            "\n",
            "\t\t\tTrain metrics: accuracy: 38716/50000 (77.4320%)\n"
          ],
          "name": "stdout"
        },
        {
          "output_type": "stream",
          "text": [
            "\n",
            "  0%|          | 0/782 [00:00<?, ?it/s]"
          ],
          "name": "stderr"
        },
        {
          "output_type": "stream",
          "text": [
            "\n",
            "\tTest metrics: average loss: 0.5462, accuracy: 8191/10000 (81.91000%)\n",
            "\n",
            "\n",
            " epoch num ================================= 2\n"
          ],
          "name": "stdout"
        },
        {
          "output_type": "stream",
          "text": [
            "100%|██████████| 782/782 [00:28<00:00, 27.17it/s]"
          ],
          "name": "stderr"
        },
        {
          "output_type": "stream",
          "text": [
            "\n",
            "\t\t\tTrain metrics: accuracy: 41491/50000 (82.9820%)\n"
          ],
          "name": "stdout"
        },
        {
          "output_type": "stream",
          "text": [
            "\n",
            "  0%|          | 0/782 [00:00<?, ?it/s]"
          ],
          "name": "stderr"
        },
        {
          "output_type": "stream",
          "text": [
            "\n",
            "\tTest metrics: average loss: 0.5596, accuracy: 8174/10000 (81.74000%)\n",
            "\n",
            "\n",
            " epoch num ================================= 3\n"
          ],
          "name": "stdout"
        },
        {
          "output_type": "stream",
          "text": [
            "100%|██████████| 782/782 [00:29<00:00, 26.82it/s]"
          ],
          "name": "stderr"
        },
        {
          "output_type": "stream",
          "text": [
            "\n",
            "\t\t\tTrain metrics: accuracy: 41505/50000 (83.0100%)\n"
          ],
          "name": "stdout"
        },
        {
          "output_type": "stream",
          "text": [
            "\n",
            "  0%|          | 0/782 [00:00<?, ?it/s]"
          ],
          "name": "stderr"
        },
        {
          "output_type": "stream",
          "text": [
            "\n",
            "\tTest metrics: average loss: 0.5472, accuracy: 8160/10000 (81.60000%)\n",
            "\n",
            "\n",
            " epoch num ================================= 4\n"
          ],
          "name": "stdout"
        },
        {
          "output_type": "stream",
          "text": [
            "100%|██████████| 782/782 [00:29<00:00, 26.94it/s]"
          ],
          "name": "stderr"
        },
        {
          "output_type": "stream",
          "text": [
            "\n",
            "\t\t\tTrain metrics: accuracy: 41647/50000 (83.2940%)\n"
          ],
          "name": "stdout"
        },
        {
          "output_type": "stream",
          "text": [
            "\n",
            "  0%|          | 0/782 [00:00<?, ?it/s]"
          ],
          "name": "stderr"
        },
        {
          "output_type": "stream",
          "text": [
            "\n",
            "\tTest metrics: average loss: 0.6013, accuracy: 8042/10000 (80.42000%)\n",
            "\n",
            "\n",
            " epoch num ================================= 5\n"
          ],
          "name": "stdout"
        },
        {
          "output_type": "stream",
          "text": [
            "100%|██████████| 782/782 [00:28<00:00, 27.11it/s]"
          ],
          "name": "stderr"
        },
        {
          "output_type": "stream",
          "text": [
            "\n",
            "\t\t\tTrain metrics: accuracy: 41672/50000 (83.3440%)\n"
          ],
          "name": "stdout"
        },
        {
          "output_type": "stream",
          "text": [
            "\n",
            "  0%|          | 0/782 [00:00<?, ?it/s]"
          ],
          "name": "stderr"
        },
        {
          "output_type": "stream",
          "text": [
            "\n",
            "\tTest metrics: average loss: 0.5601, accuracy: 8138/10000 (81.38000%)\n",
            "\n",
            "\n",
            " epoch num ================================= 6\n"
          ],
          "name": "stdout"
        },
        {
          "output_type": "stream",
          "text": [
            "100%|██████████| 782/782 [00:29<00:00, 26.92it/s]"
          ],
          "name": "stderr"
        },
        {
          "output_type": "stream",
          "text": [
            "\n",
            "\t\t\tTrain metrics: accuracy: 41735/50000 (83.4700%)\n"
          ],
          "name": "stdout"
        },
        {
          "output_type": "stream",
          "text": [
            "\n"
          ],
          "name": "stderr"
        },
        {
          "output_type": "stream",
          "text": [
            "\n",
            "\tTest metrics: average loss: 0.5479, accuracy: 8190/10000 (81.90000%)\n",
            "\n"
          ],
          "name": "stdout"
        }
      ]
    },
    {
      "cell_type": "code",
      "metadata": {
        "id": "f5peUQzDRU49"
      },
      "source": [
        ""
      ],
      "execution_count": null,
      "outputs": []
    },
    {
      "cell_type": "code",
      "metadata": {
        "colab": {
          "base_uri": "https://localhost:8080/"
        },
        "id": "TaVjuNwZRbkr",
        "outputId": "48680cff-455a-4885-9476-c56b1e89fea0"
      },
      "source": [
        "optimizer = optim.SGD(model.parameters(), lr=0.001, momentum=0.9, nesterov=True) #0.097, 0.13 works with gamma=0.71 and batch=64 withoit nan loss\n",
        "step_lr = StepLR(optimizer=optimizer, step_size=1, gamma=0.69)\n",
        "\n",
        "\n",
        "train_eval_model(model, train_loader, optimizer, device, epochs=15, test=True, test_loader=test_loader,scheduler=step_lr)\n",
        "\n",
        "torch.save(model, \"./s7_exp_2.pth\")"
      ],
      "execution_count": 43,
      "outputs": [
        {
          "output_type": "stream",
          "text": [
            "\r  0%|          | 0/782 [00:00<?, ?it/s]"
          ],
          "name": "stderr"
        },
        {
          "output_type": "stream",
          "text": [
            "\n",
            " epoch num ================================= 1\n"
          ],
          "name": "stdout"
        },
        {
          "output_type": "stream",
          "text": [
            "100%|██████████| 782/782 [00:30<00:00, 25.76it/s]"
          ],
          "name": "stderr"
        },
        {
          "output_type": "stream",
          "text": [
            "\n",
            "\n",
            "\t\t\tLast LR --> [0.001]\n",
            "\n",
            "\t\t\tTrain metrics: accuracy: 39023/50000 (78.0460%)\n"
          ],
          "name": "stdout"
        },
        {
          "output_type": "stream",
          "text": [
            "\n",
            "  0%|          | 0/782 [00:00<?, ?it/s]"
          ],
          "name": "stderr"
        },
        {
          "output_type": "stream",
          "text": [
            "\n",
            "\tTest metrics: average loss: 0.5233, accuracy: 8239/10000 (82.39000%)\n",
            "\n",
            "\n",
            " epoch num ================================= 2\n"
          ],
          "name": "stdout"
        },
        {
          "output_type": "stream",
          "text": [
            "100%|██████████| 782/782 [00:29<00:00, 26.88it/s]"
          ],
          "name": "stderr"
        },
        {
          "output_type": "stream",
          "text": [
            "\n",
            "\n",
            "\t\t\tLast LR --> [0.00069]\n",
            "\n",
            "\t\t\tTrain metrics: accuracy: 42629/50000 (85.2580%)\n"
          ],
          "name": "stdout"
        },
        {
          "output_type": "stream",
          "text": [
            "\n",
            "  0%|          | 0/782 [00:00<?, ?it/s]"
          ],
          "name": "stderr"
        },
        {
          "output_type": "stream",
          "text": [
            "\n",
            "\tTest metrics: average loss: 0.5127, accuracy: 8262/10000 (82.62000%)\n",
            "\n",
            "\n",
            " epoch num ================================= 3\n"
          ],
          "name": "stdout"
        },
        {
          "output_type": "stream",
          "text": [
            "100%|██████████| 782/782 [00:28<00:00, 27.17it/s]"
          ],
          "name": "stderr"
        },
        {
          "output_type": "stream",
          "text": [
            "\n",
            "\n",
            "\t\t\tLast LR --> [0.0004760999999999999]\n",
            "\n",
            "\t\t\tTrain metrics: accuracy: 42781/50000 (85.5620%)\n"
          ],
          "name": "stdout"
        },
        {
          "output_type": "stream",
          "text": [
            "\n",
            "  0%|          | 0/782 [00:00<?, ?it/s]"
          ],
          "name": "stderr"
        },
        {
          "output_type": "stream",
          "text": [
            "\n",
            "\tTest metrics: average loss: 0.5168, accuracy: 8276/10000 (82.76000%)\n",
            "\n",
            "\n",
            " epoch num ================================= 4\n"
          ],
          "name": "stdout"
        },
        {
          "output_type": "stream",
          "text": [
            "100%|██████████| 782/782 [00:28<00:00, 27.10it/s]"
          ],
          "name": "stderr"
        },
        {
          "output_type": "stream",
          "text": [
            "\n",
            "\n",
            "\t\t\tLast LR --> [0.00032850899999999994]\n",
            "\n",
            "\t\t\tTrain metrics: accuracy: 42977/50000 (85.9540%)\n"
          ],
          "name": "stdout"
        },
        {
          "output_type": "stream",
          "text": [
            "\n",
            "  0%|          | 0/782 [00:00<?, ?it/s]"
          ],
          "name": "stderr"
        },
        {
          "output_type": "stream",
          "text": [
            "\n",
            "\tTest metrics: average loss: 0.5179, accuracy: 8271/10000 (82.71000%)\n",
            "\n",
            "\n",
            " epoch num ================================= 5\n"
          ],
          "name": "stdout"
        },
        {
          "output_type": "stream",
          "text": [
            "100%|██████████| 782/782 [00:29<00:00, 26.95it/s]"
          ],
          "name": "stderr"
        },
        {
          "output_type": "stream",
          "text": [
            "\n",
            "\n",
            "\t\t\tLast LR --> [0.00022667120999999993]\n",
            "\n",
            "\t\t\tTrain metrics: accuracy: 43072/50000 (86.1440%)\n"
          ],
          "name": "stdout"
        },
        {
          "output_type": "stream",
          "text": [
            "\n",
            "  0%|          | 0/782 [00:00<?, ?it/s]"
          ],
          "name": "stderr"
        },
        {
          "output_type": "stream",
          "text": [
            "\n",
            "\tTest metrics: average loss: 0.5165, accuracy: 8278/10000 (82.78000%)\n",
            "\n",
            "\n",
            " epoch num ================================= 6\n"
          ],
          "name": "stdout"
        },
        {
          "output_type": "stream",
          "text": [
            "100%|██████████| 782/782 [00:28<00:00, 27.20it/s]"
          ],
          "name": "stderr"
        },
        {
          "output_type": "stream",
          "text": [
            "\n",
            "\n",
            "\t\t\tLast LR --> [0.00015640313489999994]\n",
            "\n",
            "\t\t\tTrain metrics: accuracy: 43046/50000 (86.0920%)\n"
          ],
          "name": "stdout"
        },
        {
          "output_type": "stream",
          "text": [
            "\n",
            "  0%|          | 0/782 [00:00<?, ?it/s]"
          ],
          "name": "stderr"
        },
        {
          "output_type": "stream",
          "text": [
            "\n",
            "\tTest metrics: average loss: 0.5167, accuracy: 8289/10000 (82.89000%)\n",
            "\n",
            "\n",
            " epoch num ================================= 7\n"
          ],
          "name": "stdout"
        },
        {
          "output_type": "stream",
          "text": [
            "100%|██████████| 782/782 [00:28<00:00, 27.28it/s]"
          ],
          "name": "stderr"
        },
        {
          "output_type": "stream",
          "text": [
            "\n",
            "\n",
            "\t\t\tLast LR --> [0.00010791816308099995]\n",
            "\n",
            "\t\t\tTrain metrics: accuracy: 43137/50000 (86.2740%)\n"
          ],
          "name": "stdout"
        },
        {
          "output_type": "stream",
          "text": [
            "\n",
            "  0%|          | 0/782 [00:00<?, ?it/s]"
          ],
          "name": "stderr"
        },
        {
          "output_type": "stream",
          "text": [
            "\n",
            "\tTest metrics: average loss: 0.5181, accuracy: 8286/10000 (82.86000%)\n",
            "\n",
            "\n",
            " epoch num ================================= 8\n"
          ],
          "name": "stdout"
        },
        {
          "output_type": "stream",
          "text": [
            "100%|██████████| 782/782 [00:28<00:00, 27.22it/s]"
          ],
          "name": "stderr"
        },
        {
          "output_type": "stream",
          "text": [
            "\n",
            "\n",
            "\t\t\tLast LR --> [7.446353252588996e-05]\n",
            "\n",
            "\t\t\tTrain metrics: accuracy: 43238/50000 (86.4760%)\n"
          ],
          "name": "stdout"
        },
        {
          "output_type": "stream",
          "text": [
            "\n",
            "  0%|          | 0/782 [00:00<?, ?it/s]"
          ],
          "name": "stderr"
        },
        {
          "output_type": "stream",
          "text": [
            "\n",
            "\tTest metrics: average loss: 0.5200, accuracy: 8291/10000 (82.91000%)\n",
            "\n",
            "\n",
            " epoch num ================================= 9\n"
          ],
          "name": "stdout"
        },
        {
          "output_type": "stream",
          "text": [
            "100%|██████████| 782/782 [00:28<00:00, 27.27it/s]"
          ],
          "name": "stderr"
        },
        {
          "output_type": "stream",
          "text": [
            "\n",
            "\n",
            "\t\t\tLast LR --> [5.137983744286407e-05]\n",
            "\n",
            "\t\t\tTrain metrics: accuracy: 43225/50000 (86.4500%)\n"
          ],
          "name": "stdout"
        },
        {
          "output_type": "stream",
          "text": [
            "\n",
            "  0%|          | 0/782 [00:00<?, ?it/s]"
          ],
          "name": "stderr"
        },
        {
          "output_type": "stream",
          "text": [
            "\n",
            "\tTest metrics: average loss: 0.5184, accuracy: 8301/10000 (83.01000%)\n",
            "\n",
            "\n",
            " epoch num ================================= 10\n"
          ],
          "name": "stdout"
        },
        {
          "output_type": "stream",
          "text": [
            "100%|██████████| 782/782 [00:28<00:00, 27.21it/s]"
          ],
          "name": "stderr"
        },
        {
          "output_type": "stream",
          "text": [
            "\n",
            "\n",
            "\t\t\tLast LR --> [3.545208783557621e-05]\n",
            "\n",
            "\t\t\tTrain metrics: accuracy: 43226/50000 (86.4520%)\n"
          ],
          "name": "stdout"
        },
        {
          "output_type": "stream",
          "text": [
            "\n",
            "  0%|          | 0/782 [00:00<?, ?it/s]"
          ],
          "name": "stderr"
        },
        {
          "output_type": "stream",
          "text": [
            "\n",
            "\tTest metrics: average loss: 0.5188, accuracy: 8295/10000 (82.95000%)\n",
            "\n",
            "\n",
            " epoch num ================================= 11\n"
          ],
          "name": "stdout"
        },
        {
          "output_type": "stream",
          "text": [
            "100%|██████████| 782/782 [00:28<00:00, 27.24it/s]"
          ],
          "name": "stderr"
        },
        {
          "output_type": "stream",
          "text": [
            "\n",
            "\n",
            "\t\t\tLast LR --> [2.446194060654758e-05]\n",
            "\n",
            "\t\t\tTrain metrics: accuracy: 43166/50000 (86.3320%)\n"
          ],
          "name": "stdout"
        },
        {
          "output_type": "stream",
          "text": [
            "\n",
            "  0%|          | 0/782 [00:00<?, ?it/s]"
          ],
          "name": "stderr"
        },
        {
          "output_type": "stream",
          "text": [
            "\n",
            "\tTest metrics: average loss: 0.5181, accuracy: 8296/10000 (82.96000%)\n",
            "\n",
            "\n",
            " epoch num ================================= 12\n"
          ],
          "name": "stdout"
        },
        {
          "output_type": "stream",
          "text": [
            "100%|██████████| 782/782 [00:28<00:00, 27.26it/s]"
          ],
          "name": "stderr"
        },
        {
          "output_type": "stream",
          "text": [
            "\n",
            "\n",
            "\t\t\tLast LR --> [1.687873901851783e-05]\n",
            "\n",
            "\t\t\tTrain metrics: accuracy: 43130/50000 (86.2600%)\n"
          ],
          "name": "stdout"
        },
        {
          "output_type": "stream",
          "text": [
            "\n",
            "  0%|          | 0/782 [00:00<?, ?it/s]"
          ],
          "name": "stderr"
        },
        {
          "output_type": "stream",
          "text": [
            "\n",
            "\tTest metrics: average loss: 0.5183, accuracy: 8295/10000 (82.95000%)\n",
            "\n",
            "\n",
            " epoch num ================================= 13\n"
          ],
          "name": "stdout"
        },
        {
          "output_type": "stream",
          "text": [
            "100%|██████████| 782/782 [00:28<00:00, 27.32it/s]"
          ],
          "name": "stderr"
        },
        {
          "output_type": "stream",
          "text": [
            "\n",
            "\n",
            "\t\t\tLast LR --> [1.1646329922777301e-05]\n",
            "\n",
            "\t\t\tTrain metrics: accuracy: 43375/50000 (86.7500%)\n"
          ],
          "name": "stdout"
        },
        {
          "output_type": "stream",
          "text": [
            "\n",
            "  0%|          | 0/782 [00:00<?, ?it/s]"
          ],
          "name": "stderr"
        },
        {
          "output_type": "stream",
          "text": [
            "\n",
            "\tTest metrics: average loss: 0.5184, accuracy: 8298/10000 (82.98000%)\n",
            "\n",
            "\n",
            " epoch num ================================= 14\n"
          ],
          "name": "stdout"
        },
        {
          "output_type": "stream",
          "text": [
            "100%|██████████| 782/782 [00:28<00:00, 27.32it/s]"
          ],
          "name": "stderr"
        },
        {
          "output_type": "stream",
          "text": [
            "\n",
            "\n",
            "\t\t\tLast LR --> [8.035967646716337e-06]\n",
            "\n",
            "\t\t\tTrain metrics: accuracy: 43298/50000 (86.5960%)\n"
          ],
          "name": "stdout"
        },
        {
          "output_type": "stream",
          "text": [
            "\n",
            "  0%|          | 0/782 [00:00<?, ?it/s]"
          ],
          "name": "stderr"
        },
        {
          "output_type": "stream",
          "text": [
            "\n",
            "\tTest metrics: average loss: 0.5183, accuracy: 8299/10000 (82.99000%)\n",
            "\n",
            "\n",
            " epoch num ================================= 15\n"
          ],
          "name": "stdout"
        },
        {
          "output_type": "stream",
          "text": [
            "100%|██████████| 782/782 [00:28<00:00, 27.21it/s]"
          ],
          "name": "stderr"
        },
        {
          "output_type": "stream",
          "text": [
            "\n",
            "\n",
            "\t\t\tLast LR --> [5.544817676234272e-06]\n",
            "\n",
            "\t\t\tTrain metrics: accuracy: 43321/50000 (86.6420%)\n"
          ],
          "name": "stdout"
        },
        {
          "output_type": "stream",
          "text": [
            "\n"
          ],
          "name": "stderr"
        },
        {
          "output_type": "stream",
          "text": [
            "\n",
            "\tTest metrics: average loss: 0.5184, accuracy: 8297/10000 (82.97000%)\n",
            "\n"
          ],
          "name": "stdout"
        }
      ]
    },
    {
      "cell_type": "code",
      "metadata": {
        "id": "HAlg4wXKRUwV"
      },
      "source": [
        ""
      ],
      "execution_count": null,
      "outputs": []
    },
    {
      "cell_type": "code",
      "metadata": {
        "id": "zzSD0OPQRUgU"
      },
      "source": [
        "torch.save(model, \"./s7_exp_2.pth\")"
      ],
      "execution_count": 45,
      "outputs": []
    },
    {
      "cell_type": "code",
      "metadata": {
        "colab": {
          "base_uri": "https://localhost:8080/"
        },
        "id": "BcTeAIilS97r",
        "outputId": "772d8dc4-c4f5-4127-dabf-5bcb5db81303"
      },
      "source": [
        "optimizer = optim.SGD(model.parameters(), lr=0.005, momentum=0.9, nesterov=True) #0.097, 0.13 works with gamma=0.71 and batch=64 withoit nan loss\n",
        "step_lr = StepLR(optimizer=optimizer, step_size=1, gamma=0.71)\n",
        "\n",
        "\n",
        "train_eval_model(model, train_loader, optimizer, device, epochs=50, test=True, test_loader=test_loader,scheduler=step_lr)\n",
        "\n",
        "torch.save(model, \"./s7_exp_2.pth\")"
      ],
      "execution_count": null,
      "outputs": [
        {
          "output_type": "stream",
          "text": [
            "\r  0%|          | 0/782 [00:00<?, ?it/s]"
          ],
          "name": "stderr"
        },
        {
          "output_type": "stream",
          "text": [
            "\n",
            " epoch num ================================= 1\n"
          ],
          "name": "stdout"
        },
        {
          "output_type": "stream",
          "text": [
            "100%|██████████| 782/782 [00:29<00:00, 26.66it/s]"
          ],
          "name": "stderr"
        },
        {
          "output_type": "stream",
          "text": [
            "\n",
            "\n",
            "\t\t\tLast LR --> [0.005]\n",
            "\n",
            "\t\t\tTrain metrics: accuracy: 38980/50000 (77.9600%)\n"
          ],
          "name": "stdout"
        },
        {
          "output_type": "stream",
          "text": [
            "\n",
            "  0%|          | 0/782 [00:00<?, ?it/s]"
          ],
          "name": "stderr"
        },
        {
          "output_type": "stream",
          "text": [
            "\n",
            "\tTest metrics: average loss: 0.5351, accuracy: 8204/10000 (82.04000%)\n",
            "\n",
            "\n",
            " epoch num ================================= 2\n"
          ],
          "name": "stdout"
        },
        {
          "output_type": "stream",
          "text": [
            "100%|██████████| 782/782 [00:28<00:00, 27.30it/s]"
          ],
          "name": "stderr"
        },
        {
          "output_type": "stream",
          "text": [
            "\n",
            "\n",
            "\t\t\tLast LR --> [0.0035499999999999998]\n",
            "\n",
            "\t\t\tTrain metrics: accuracy: 41619/50000 (83.2380%)\n"
          ],
          "name": "stdout"
        },
        {
          "output_type": "stream",
          "text": [
            "\n",
            "  0%|          | 0/782 [00:00<?, ?it/s]"
          ],
          "name": "stderr"
        },
        {
          "output_type": "stream",
          "text": [
            "\n",
            "\tTest metrics: average loss: 0.5554, accuracy: 8165/10000 (81.65000%)\n",
            "\n",
            "\n",
            " epoch num ================================= 3\n"
          ],
          "name": "stdout"
        },
        {
          "output_type": "stream",
          "text": [
            "100%|██████████| 782/782 [00:28<00:00, 27.35it/s]"
          ],
          "name": "stderr"
        },
        {
          "output_type": "stream",
          "text": [
            "\n",
            "\n",
            "\t\t\tLast LR --> [0.0025204999999999997]\n",
            "\n",
            "\t\t\tTrain metrics: accuracy: 42100/50000 (84.2000%)\n"
          ],
          "name": "stdout"
        },
        {
          "output_type": "stream",
          "text": [
            "\n",
            "  0%|          | 0/782 [00:00<?, ?it/s]"
          ],
          "name": "stderr"
        },
        {
          "output_type": "stream",
          "text": [
            "\n",
            "\tTest metrics: average loss: 0.5408, accuracy: 8206/10000 (82.06000%)\n",
            "\n",
            "\n",
            " epoch num ================================= 4\n"
          ],
          "name": "stdout"
        },
        {
          "output_type": "stream",
          "text": [
            "100%|██████████| 782/782 [00:28<00:00, 27.28it/s]"
          ],
          "name": "stderr"
        },
        {
          "output_type": "stream",
          "text": [
            "\n",
            "\n",
            "\t\t\tLast LR --> [0.0017895549999999997]\n",
            "\n",
            "\t\t\tTrain metrics: accuracy: 42533/50000 (85.0660%)\n"
          ],
          "name": "stdout"
        },
        {
          "output_type": "stream",
          "text": [
            "\n",
            "  0%|          | 0/782 [00:00<?, ?it/s]"
          ],
          "name": "stderr"
        },
        {
          "output_type": "stream",
          "text": [
            "\n",
            "\tTest metrics: average loss: 0.5323, accuracy: 8243/10000 (82.43000%)\n",
            "\n",
            "\n",
            " epoch num ================================= 5\n"
          ],
          "name": "stdout"
        },
        {
          "output_type": "stream",
          "text": [
            "100%|██████████| 782/782 [00:28<00:00, 27.23it/s]"
          ],
          "name": "stderr"
        },
        {
          "output_type": "stream",
          "text": [
            "\n",
            "\n",
            "\t\t\tLast LR --> [0.0012705840499999997]\n",
            "\n",
            "\t\t\tTrain metrics: accuracy: 42756/50000 (85.5120%)\n"
          ],
          "name": "stdout"
        },
        {
          "output_type": "stream",
          "text": [
            "\n",
            "  0%|          | 0/782 [00:00<?, ?it/s]"
          ],
          "name": "stderr"
        },
        {
          "output_type": "stream",
          "text": [
            "\n",
            "\tTest metrics: average loss: 0.5463, accuracy: 8227/10000 (82.27000%)\n",
            "\n",
            "\n",
            " epoch num ================================= 6\n"
          ],
          "name": "stdout"
        },
        {
          "output_type": "stream",
          "text": [
            "100%|██████████| 782/782 [00:28<00:00, 27.23it/s]"
          ],
          "name": "stderr"
        },
        {
          "output_type": "stream",
          "text": [
            "\n",
            "\n",
            "\t\t\tLast LR --> [0.0009021146754999998]\n",
            "\n",
            "\t\t\tTrain metrics: accuracy: 43203/50000 (86.4060%)\n"
          ],
          "name": "stdout"
        },
        {
          "output_type": "stream",
          "text": [
            "\n",
            "  0%|          | 0/782 [00:00<?, ?it/s]"
          ],
          "name": "stderr"
        },
        {
          "output_type": "stream",
          "text": [
            "\n",
            "\tTest metrics: average loss: 0.5211, accuracy: 8304/10000 (83.04000%)\n",
            "\n",
            "\n",
            " epoch num ================================= 7\n"
          ],
          "name": "stdout"
        },
        {
          "output_type": "stream",
          "text": [
            "100%|██████████| 782/782 [00:28<00:00, 27.13it/s]"
          ],
          "name": "stderr"
        },
        {
          "output_type": "stream",
          "text": [
            "\n",
            "\n",
            "\t\t\tLast LR --> [0.0006405014196049998]\n",
            "\n",
            "\t\t\tTrain metrics: accuracy: 43359/50000 (86.7180%)\n"
          ],
          "name": "stdout"
        },
        {
          "output_type": "stream",
          "text": [
            "\n",
            "  0%|          | 0/782 [00:00<?, ?it/s]"
          ],
          "name": "stderr"
        },
        {
          "output_type": "stream",
          "text": [
            "\n",
            "\tTest metrics: average loss: 0.5302, accuracy: 8271/10000 (82.71000%)\n",
            "\n",
            "\n",
            " epoch num ================================= 8\n"
          ],
          "name": "stdout"
        },
        {
          "output_type": "stream",
          "text": [
            "100%|██████████| 782/782 [00:28<00:00, 27.09it/s]"
          ],
          "name": "stderr"
        },
        {
          "output_type": "stream",
          "text": [
            "\n",
            "\n",
            "\t\t\tLast LR --> [0.0004547560079195498]\n",
            "\n",
            "\t\t\tTrain metrics: accuracy: 43433/50000 (86.8660%)\n"
          ],
          "name": "stdout"
        },
        {
          "output_type": "stream",
          "text": [
            "\n",
            "  0%|          | 0/782 [00:00<?, ?it/s]"
          ],
          "name": "stderr"
        },
        {
          "output_type": "stream",
          "text": [
            "\n",
            "\tTest metrics: average loss: 0.5235, accuracy: 8293/10000 (82.93000%)\n",
            "\n",
            "\n",
            " epoch num ================================= 9\n"
          ],
          "name": "stdout"
        },
        {
          "output_type": "stream",
          "text": [
            "100%|██████████| 782/782 [00:29<00:00, 26.53it/s]"
          ],
          "name": "stderr"
        },
        {
          "output_type": "stream",
          "text": [
            "\n",
            "\n",
            "\t\t\tLast LR --> [0.00032287676562288035]\n",
            "\n",
            "\t\t\tTrain metrics: accuracy: 43508/50000 (87.0160%)\n"
          ],
          "name": "stdout"
        },
        {
          "output_type": "stream",
          "text": [
            "\n",
            "  0%|          | 0/782 [00:00<?, ?it/s]"
          ],
          "name": "stderr"
        },
        {
          "output_type": "stream",
          "text": [
            "\n",
            "\tTest metrics: average loss: 0.5272, accuracy: 8298/10000 (82.98000%)\n",
            "\n",
            "\n",
            " epoch num ================================= 10\n"
          ],
          "name": "stdout"
        },
        {
          "output_type": "stream",
          "text": [
            "100%|██████████| 782/782 [00:29<00:00, 26.53it/s]"
          ],
          "name": "stderr"
        },
        {
          "output_type": "stream",
          "text": [
            "\n",
            "\n",
            "\t\t\tLast LR --> [0.00022924250359224502]\n",
            "\n",
            "\t\t\tTrain metrics: accuracy: 43663/50000 (87.3260%)\n"
          ],
          "name": "stdout"
        },
        {
          "output_type": "stream",
          "text": [
            "\n",
            "  0%|          | 0/782 [00:00<?, ?it/s]"
          ],
          "name": "stderr"
        },
        {
          "output_type": "stream",
          "text": [
            "\n",
            "\tTest metrics: average loss: 0.5262, accuracy: 8292/10000 (82.92000%)\n",
            "\n",
            "\n",
            " epoch num ================================= 11\n"
          ],
          "name": "stdout"
        },
        {
          "output_type": "stream",
          "text": [
            "100%|██████████| 782/782 [00:28<00:00, 27.14it/s]"
          ],
          "name": "stderr"
        },
        {
          "output_type": "stream",
          "text": [
            "\n",
            "\n",
            "\t\t\tLast LR --> [0.00016276217755049397]\n",
            "\n",
            "\t\t\tTrain metrics: accuracy: 43567/50000 (87.1340%)\n"
          ],
          "name": "stdout"
        },
        {
          "output_type": "stream",
          "text": [
            "\n",
            "  0%|          | 0/782 [00:00<?, ?it/s]"
          ],
          "name": "stderr"
        },
        {
          "output_type": "stream",
          "text": [
            "\n",
            "\tTest metrics: average loss: 0.5246, accuracy: 8303/10000 (83.03000%)\n",
            "\n",
            "\n",
            " epoch num ================================= 12\n"
          ],
          "name": "stdout"
        },
        {
          "output_type": "stream",
          "text": [
            "100%|██████████| 782/782 [00:28<00:00, 27.17it/s]"
          ],
          "name": "stderr"
        },
        {
          "output_type": "stream",
          "text": [
            "\n",
            "\n",
            "\t\t\tLast LR --> [0.00011556114606085071]\n",
            "\n",
            "\t\t\tTrain metrics: accuracy: 43694/50000 (87.3880%)\n"
          ],
          "name": "stdout"
        },
        {
          "output_type": "stream",
          "text": [
            "\n",
            "  0%|          | 0/782 [00:00<?, ?it/s]"
          ],
          "name": "stderr"
        },
        {
          "output_type": "stream",
          "text": [
            "\n",
            "\tTest metrics: average loss: 0.5257, accuracy: 8306/10000 (83.06000%)\n",
            "\n",
            "\n",
            " epoch num ================================= 13\n"
          ],
          "name": "stdout"
        },
        {
          "output_type": "stream",
          "text": [
            "100%|██████████| 782/782 [00:29<00:00, 26.91it/s]"
          ],
          "name": "stderr"
        },
        {
          "output_type": "stream",
          "text": [
            "\n",
            "\n",
            "\t\t\tLast LR --> [8.2048413703204e-05]\n",
            "\n",
            "\t\t\tTrain metrics: accuracy: 43697/50000 (87.3940%)\n"
          ],
          "name": "stdout"
        },
        {
          "output_type": "stream",
          "text": [
            "\n",
            "  0%|          | 0/782 [00:00<?, ?it/s]"
          ],
          "name": "stderr"
        },
        {
          "output_type": "stream",
          "text": [
            "\n",
            "\tTest metrics: average loss: 0.5262, accuracy: 8303/10000 (83.03000%)\n",
            "\n",
            "\n",
            " epoch num ================================= 14\n"
          ],
          "name": "stdout"
        },
        {
          "output_type": "stream",
          "text": [
            "100%|██████████| 782/782 [00:28<00:00, 27.13it/s]"
          ],
          "name": "stderr"
        },
        {
          "output_type": "stream",
          "text": [
            "\n",
            "\n",
            "\t\t\tLast LR --> [5.825437372927484e-05]\n",
            "\n",
            "\t\t\tTrain metrics: accuracy: 43704/50000 (87.4080%)\n"
          ],
          "name": "stdout"
        },
        {
          "output_type": "stream",
          "text": [
            "\n",
            "  0%|          | 0/782 [00:00<?, ?it/s]"
          ],
          "name": "stderr"
        },
        {
          "output_type": "stream",
          "text": [
            "\n",
            "\tTest metrics: average loss: 0.5259, accuracy: 8308/10000 (83.08000%)\n",
            "\n",
            "\n",
            " epoch num ================================= 15\n"
          ],
          "name": "stdout"
        },
        {
          "output_type": "stream",
          "text": [
            "100%|██████████| 782/782 [00:28<00:00, 27.34it/s]"
          ],
          "name": "stderr"
        },
        {
          "output_type": "stream",
          "text": [
            "\n",
            "\n",
            "\t\t\tLast LR --> [4.1360605347785134e-05]\n",
            "\n",
            "\t\t\tTrain metrics: accuracy: 43712/50000 (87.4240%)\n"
          ],
          "name": "stdout"
        },
        {
          "output_type": "stream",
          "text": [
            "\n",
            "  0%|          | 0/782 [00:00<?, ?it/s]"
          ],
          "name": "stderr"
        },
        {
          "output_type": "stream",
          "text": [
            "\n",
            "\tTest metrics: average loss: 0.5253, accuracy: 8311/10000 (83.11000%)\n",
            "\n",
            "\n",
            " epoch num ================================= 16\n"
          ],
          "name": "stdout"
        },
        {
          "output_type": "stream",
          "text": [
            "100%|██████████| 782/782 [00:28<00:00, 27.06it/s]"
          ],
          "name": "stderr"
        },
        {
          "output_type": "stream",
          "text": [
            "\n",
            "\n",
            "\t\t\tLast LR --> [2.9366029796927444e-05]\n",
            "\n",
            "\t\t\tTrain metrics: accuracy: 43766/50000 (87.5320%)\n"
          ],
          "name": "stdout"
        },
        {
          "output_type": "stream",
          "text": [
            "\n",
            "  0%|          | 0/782 [00:00<?, ?it/s]"
          ],
          "name": "stderr"
        },
        {
          "output_type": "stream",
          "text": [
            "\n",
            "\tTest metrics: average loss: 0.5261, accuracy: 8310/10000 (83.10000%)\n",
            "\n",
            "\n",
            " epoch num ================================= 17\n"
          ],
          "name": "stdout"
        },
        {
          "output_type": "stream",
          "text": [
            "100%|██████████| 782/782 [00:28<00:00, 27.27it/s]"
          ],
          "name": "stderr"
        },
        {
          "output_type": "stream",
          "text": [
            "\n",
            "\n",
            "\t\t\tLast LR --> [2.0849881155818483e-05]\n",
            "\n",
            "\t\t\tTrain metrics: accuracy: 43744/50000 (87.4880%)\n"
          ],
          "name": "stdout"
        },
        {
          "output_type": "stream",
          "text": [
            "\n",
            "  0%|          | 0/782 [00:00<?, ?it/s]"
          ],
          "name": "stderr"
        },
        {
          "output_type": "stream",
          "text": [
            "\n",
            "\tTest metrics: average loss: 0.5255, accuracy: 8315/10000 (83.15000%)\n",
            "\n",
            "\n",
            " epoch num ================================= 18\n"
          ],
          "name": "stdout"
        },
        {
          "output_type": "stream",
          "text": [
            "100%|██████████| 782/782 [00:28<00:00, 27.32it/s]"
          ],
          "name": "stderr"
        },
        {
          "output_type": "stream",
          "text": [
            "\n",
            "\n",
            "\t\t\tLast LR --> [1.4803415620631122e-05]\n",
            "\n",
            "\t\t\tTrain metrics: accuracy: 43661/50000 (87.3220%)\n"
          ],
          "name": "stdout"
        },
        {
          "output_type": "stream",
          "text": [
            "\n",
            "  0%|          | 0/782 [00:00<?, ?it/s]"
          ],
          "name": "stderr"
        },
        {
          "output_type": "stream",
          "text": [
            "\n",
            "\tTest metrics: average loss: 0.5254, accuracy: 8319/10000 (83.19000%)\n",
            "\n",
            "\n",
            " epoch num ================================= 19\n"
          ],
          "name": "stdout"
        },
        {
          "output_type": "stream",
          "text": [
            "100%|██████████| 782/782 [00:28<00:00, 27.36it/s]"
          ],
          "name": "stderr"
        },
        {
          "output_type": "stream",
          "text": [
            "\n",
            "\n",
            "\t\t\tLast LR --> [1.0510425090648096e-05]\n",
            "\n",
            "\t\t\tTrain metrics: accuracy: 43850/50000 (87.7000%)\n"
          ],
          "name": "stdout"
        },
        {
          "output_type": "stream",
          "text": [
            "\n",
            "  0%|          | 0/782 [00:00<?, ?it/s]"
          ],
          "name": "stderr"
        },
        {
          "output_type": "stream",
          "text": [
            "\n",
            "\tTest metrics: average loss: 0.5245, accuracy: 8320/10000 (83.20000%)\n",
            "\n",
            "\n",
            " epoch num ================================= 20\n"
          ],
          "name": "stdout"
        },
        {
          "output_type": "stream",
          "text": [
            "100%|██████████| 782/782 [00:28<00:00, 27.21it/s]"
          ],
          "name": "stderr"
        },
        {
          "output_type": "stream",
          "text": [
            "\n",
            "\n",
            "\t\t\tLast LR --> [7.462401814360147e-06]\n",
            "\n",
            "\t\t\tTrain metrics: accuracy: 43746/50000 (87.4920%)\n"
          ],
          "name": "stdout"
        },
        {
          "output_type": "stream",
          "text": [
            "\n",
            "  0%|          | 0/782 [00:00<?, ?it/s]"
          ],
          "name": "stderr"
        },
        {
          "output_type": "stream",
          "text": [
            "\n",
            "\tTest metrics: average loss: 0.5252, accuracy: 8318/10000 (83.18000%)\n",
            "\n",
            "\n",
            " epoch num ================================= 21\n"
          ],
          "name": "stdout"
        },
        {
          "output_type": "stream",
          "text": [
            "100%|██████████| 782/782 [00:28<00:00, 27.07it/s]"
          ],
          "name": "stderr"
        },
        {
          "output_type": "stream",
          "text": [
            "\n",
            "\n",
            "\t\t\tLast LR --> [5.298305288195705e-06]\n",
            "\n",
            "\t\t\tTrain metrics: accuracy: 43646/50000 (87.2920%)\n"
          ],
          "name": "stdout"
        },
        {
          "output_type": "stream",
          "text": [
            "\n",
            "  0%|          | 0/782 [00:00<?, ?it/s]"
          ],
          "name": "stderr"
        },
        {
          "output_type": "stream",
          "text": [
            "\n",
            "\tTest metrics: average loss: 0.5255, accuracy: 8314/10000 (83.14000%)\n",
            "\n",
            "\n",
            " epoch num ================================= 22\n"
          ],
          "name": "stdout"
        },
        {
          "output_type": "stream",
          "text": [
            "100%|██████████| 782/782 [00:29<00:00, 26.62it/s]"
          ],
          "name": "stderr"
        },
        {
          "output_type": "stream",
          "text": [
            "\n",
            "\n",
            "\t\t\tLast LR --> [3.7617967546189503e-06]\n",
            "\n",
            "\t\t\tTrain metrics: accuracy: 43715/50000 (87.4300%)\n"
          ],
          "name": "stdout"
        },
        {
          "output_type": "stream",
          "text": [
            "\n",
            "  0%|          | 0/782 [00:00<?, ?it/s]"
          ],
          "name": "stderr"
        },
        {
          "output_type": "stream",
          "text": [
            "\n",
            "\tTest metrics: average loss: 0.5251, accuracy: 8323/10000 (83.23000%)\n",
            "\n",
            "\n",
            " epoch num ================================= 23\n"
          ],
          "name": "stdout"
        },
        {
          "output_type": "stream",
          "text": [
            "100%|██████████| 782/782 [00:28<00:00, 27.26it/s]"
          ],
          "name": "stderr"
        },
        {
          "output_type": "stream",
          "text": [
            "\n",
            "\n",
            "\t\t\tLast LR --> [2.6708756957794547e-06]\n",
            "\n",
            "\t\t\tTrain metrics: accuracy: 43752/50000 (87.5040%)\n"
          ],
          "name": "stdout"
        },
        {
          "output_type": "stream",
          "text": [
            "\n",
            "  0%|          | 0/782 [00:00<?, ?it/s]"
          ],
          "name": "stderr"
        },
        {
          "output_type": "stream",
          "text": [
            "\n",
            "\tTest metrics: average loss: 0.5253, accuracy: 8318/10000 (83.18000%)\n",
            "\n",
            "\n",
            " epoch num ================================= 24\n"
          ],
          "name": "stdout"
        },
        {
          "output_type": "stream",
          "text": [
            "100%|██████████| 782/782 [00:28<00:00, 27.08it/s]"
          ],
          "name": "stderr"
        },
        {
          "output_type": "stream",
          "text": [
            "\n",
            "\n",
            "\t\t\tLast LR --> [1.8963217440034128e-06]\n",
            "\n",
            "\t\t\tTrain metrics: accuracy: 43800/50000 (87.6000%)\n"
          ],
          "name": "stdout"
        },
        {
          "output_type": "stream",
          "text": [
            "\n",
            "  0%|          | 0/782 [00:00<?, ?it/s]"
          ],
          "name": "stderr"
        },
        {
          "output_type": "stream",
          "text": [
            "\n",
            "\tTest metrics: average loss: 0.5253, accuracy: 8319/10000 (83.19000%)\n",
            "\n",
            "\n",
            " epoch num ================================= 25\n"
          ],
          "name": "stdout"
        },
        {
          "output_type": "stream",
          "text": [
            "100%|██████████| 782/782 [00:28<00:00, 27.11it/s]"
          ],
          "name": "stderr"
        },
        {
          "output_type": "stream",
          "text": [
            "\n",
            "\n",
            "\t\t\tLast LR --> [1.346388438242423e-06]\n",
            "\n",
            "\t\t\tTrain metrics: accuracy: 43639/50000 (87.2780%)\n"
          ],
          "name": "stdout"
        },
        {
          "output_type": "stream",
          "text": [
            "\n",
            "  0%|          | 0/782 [00:00<?, ?it/s]"
          ],
          "name": "stderr"
        },
        {
          "output_type": "stream",
          "text": [
            "\n",
            "\tTest metrics: average loss: 0.5252, accuracy: 8322/10000 (83.22000%)\n",
            "\n",
            "\n",
            " epoch num ================================= 26\n"
          ],
          "name": "stdout"
        },
        {
          "output_type": "stream",
          "text": [
            "100%|██████████| 782/782 [00:28<00:00, 27.30it/s]"
          ],
          "name": "stderr"
        },
        {
          "output_type": "stream",
          "text": [
            "\n",
            "\n",
            "\t\t\tLast LR --> [9.559357911521203e-07]\n",
            "\n",
            "\t\t\tTrain metrics: accuracy: 43778/50000 (87.5560%)\n"
          ],
          "name": "stdout"
        },
        {
          "output_type": "stream",
          "text": [
            "\n",
            "  0%|          | 0/782 [00:00<?, ?it/s]"
          ],
          "name": "stderr"
        },
        {
          "output_type": "stream",
          "text": [
            "\n",
            "\tTest metrics: average loss: 0.5252, accuracy: 8322/10000 (83.22000%)\n",
            "\n",
            "\n",
            " epoch num ================================= 27\n"
          ],
          "name": "stdout"
        },
        {
          "output_type": "stream",
          "text": [
            "100%|██████████| 782/782 [00:28<00:00, 27.25it/s]"
          ],
          "name": "stderr"
        },
        {
          "output_type": "stream",
          "text": [
            "\n",
            "\n",
            "\t\t\tLast LR --> [6.787144117180054e-07]\n",
            "\n",
            "\t\t\tTrain metrics: accuracy: 43664/50000 (87.3280%)\n"
          ],
          "name": "stdout"
        },
        {
          "output_type": "stream",
          "text": [
            "\n",
            "  0%|          | 0/782 [00:00<?, ?it/s]"
          ],
          "name": "stderr"
        },
        {
          "output_type": "stream",
          "text": [
            "\n",
            "\tTest metrics: average loss: 0.5252, accuracy: 8323/10000 (83.23000%)\n",
            "\n",
            "\n",
            " epoch num ================================= 28\n"
          ],
          "name": "stdout"
        },
        {
          "output_type": "stream",
          "text": [
            "100%|██████████| 782/782 [00:28<00:00, 27.18it/s]"
          ],
          "name": "stderr"
        },
        {
          "output_type": "stream",
          "text": [
            "\n",
            "\n",
            "\t\t\tLast LR --> [4.818872323197838e-07]\n",
            "\n",
            "\t\t\tTrain metrics: accuracy: 43666/50000 (87.3320%)\n"
          ],
          "name": "stdout"
        },
        {
          "output_type": "stream",
          "text": [
            "\n",
            "  0%|          | 0/782 [00:00<?, ?it/s]"
          ],
          "name": "stderr"
        },
        {
          "output_type": "stream",
          "text": [
            "\n",
            "\tTest metrics: average loss: 0.5251, accuracy: 8324/10000 (83.24000%)\n",
            "\n",
            "\n",
            " epoch num ================================= 29\n"
          ],
          "name": "stdout"
        },
        {
          "output_type": "stream",
          "text": [
            " 64%|██████▍   | 502/782 [00:18<00:10, 27.45it/s]"
          ],
          "name": "stderr"
        }
      ]
    },
    {
      "cell_type": "code",
      "metadata": {
        "id": "UQA2MHVKsWYo",
        "colab": {
          "base_uri": "https://localhost:8080/",
          "height": 607
        },
        "outputId": "0349eb1b-74a4-43e4-ddf4-fe02f4106d71"
      },
      "source": [
        "plot_graphs(train_losses=train_losses, train_accuracy=train_accuracy,\n",
        "            test_losses=test_losses,test_accuracy=test_accuracy)"
      ],
      "execution_count": 44,
      "outputs": [
        {
          "output_type": "display_data",
          "data": {
            "image/png": "[encoded data removed]",
            "text/plain": [
              "<Figure size 1440x720 with 4 Axes>"
            ]
          },
          "metadata": {
            "tags": [],
            "needs_background": "light"
          }
        }
      ]
    },
    {
      "cell_type": "markdown",
      "metadata": {
        "id": "8PaqHIMJxgOk"
      },
      "source": [
        "# Model previous run as per Model 1: Overfitting"
      ]
    },
    {
      "cell_type": "code",
      "metadata": {
        "id": "0jjLwLLQpoCr"
      },
      "source": [
        "# class Net2(nn.Module):\n",
        "#     def __init__(self):\n",
        "#         super().__init__()\n",
        "\n",
        "#         self.block1 = nn.Sequential(\n",
        "#             Conv2d(3, 32, 3, padding=1, stride=1),\n",
        "#             nn.BatchNorm2d(32),\n",
        "#             nn.ReLU(),\n",
        "#             nn.Conv2d(32, 64, 3, padding=0, stride=1, groups=16),\n",
        "#             nn.BatchNorm2d(64),\n",
        "#             nn.ReLU()\n",
        "#         )\n",
        "\n",
        "#         self.block2 = nn.Sequential(\n",
        "#             nn.Conv2d(64, 80, 3, padding=1, stride=2),\n",
        "#             nn.BatchNorm2d(80),\n",
        "#             nn.ReLU(),\n",
        "#             nn.Conv2d(80, 150, 3, padding=0, stride=1, dilation=2),\n",
        "#             nn.BatchNorm2d(150),\n",
        "#             nn.ReLU()\n",
        "#             # nn.MaxPool2d(2)\n",
        "#         )\n",
        "\n",
        "#         self.block3 = nn.Sequential(\n",
        "#             nn.Conv2d(150, 256, 3, padding=0, stride=1, dilation=2),\n",
        "#             nn.BatchNorm2d(256),\n",
        "#             nn.ReLU()\n",
        "#         )\n",
        "\n",
        "#         self.block4 = nn.Sequential(\n",
        "#             nn.Conv2d(256, 10, 1),\n",
        "#             nn.AdaptiveAvgPool2d(1),\n",
        "#             nn.Conv2d(10, 10, 1)\n",
        "#         )\n",
        "\n",
        "#     def forward(self, x):\n",
        "#         x = self.block1(x)\n",
        "#         x = self.block2(x)\n",
        "#         x = self.block3(x)\n",
        "#         x = self.block4(x)\n",
        "#         x = x.view(-1, 10)\n",
        "#         return F.log_softmax(x, dim=-1)\n"
      ],
      "execution_count": 23,
      "outputs": []
    },
    {
      "cell_type": "code",
      "metadata": {
        "id": "E916kaGJ07f9"
      },
      "source": [
        "# model = Net().to(device)\n",
        "# summary(model, (3, 32, 32))"
      ],
      "execution_count": 24,
      "outputs": []
    },
    {
      "cell_type": "code",
      "metadata": {
        "id": "JUt_IZwp0gQg"
      },
      "source": [
        "# optimizer = optim.SGD(model.parameters(), lr=0.0061, momentum=0.9) #0.0031\n",
        "# scheduler = StepLR(optimizer=optimizer, step_size=4, gamma=0.74)\n",
        "\n",
        "# train_losses = []\n",
        "# train_accuracy = []\n",
        "# test_losses = []\n",
        "# test_accuracy = []\n",
        "\n",
        "# train_eval_model(model, train_loader, optimizer, device, epochs=100, test=True, test_loader=test_loader,scheduler=scheduler)"
      ],
      "execution_count": 25,
      "outputs": []
    },
    {
      "cell_type": "code",
      "metadata": {
        "id": "nNfcFHq7VJFt"
      },
      "source": [
        "# fig, axs = plt.subplots(2,2,figsize=(20,10))\n",
        "# axs[0, 0].plot(train_losses)\n",
        "# axs[0, 0].set_title(\"Training Loss\")\n",
        "# axs[1, 0].plot(train_accuracy)\n",
        "# axs[1, 0].set_title(\"Training Accuracy\")\n",
        "# axs[0, 1].plot(test_losses)\n",
        "# axs[0, 1].set_title(\"Test Loss\")\n",
        "# axs[1, 1].plot(test_accuracy)\n",
        "# axs[1, 1].set_title(\"Test Accuracy\")"
      ],
      "execution_count": 26,
      "outputs": []
    },
    {
      "cell_type": "code",
      "metadata": {
        "id": "eekHVbPhYuqO"
      },
      "source": [
        "# class Net(nn.Module):\n",
        "#     def __init__(self):\n",
        "#         super(Net, self).__init__()\n",
        "\n",
        "#         self.block1 = nn.Sequential(\n",
        "#             nn.Conv2d(3, 64, 3, padding=0, stride=1, bias=False),\n",
        "#             nn.BatchNorm2d(64),\n",
        "#             nn.ReLU(),\n",
        "#             # nn.Conv2d(64, 40, 1, padding=0, bias=False),\n",
        "#             # nn.BatchNorm2d(40),\n",
        "#             # nn.ReLU(),\n",
        "#             nn.Conv2d(64, 64, 3, padding=0, stride=1, groups=64),\n",
        "#             nn.Conv2d(64, 32, 1),\n",
        "#             nn.BatchNorm2d(32),\n",
        "#             nn.ReLU()\n",
        "#         )\n",
        "\n",
        "#         self.block2 = nn.Sequential(\n",
        "#             nn.Conv2d(32, 128, 3, padding=0, stride=1, groups=8, bias=False),\n",
        "#             nn.BatchNorm2d(128),\n",
        "#             nn.ReLU(),\n",
        "#             nn.Conv2d(128, 256, 3, padding=0, groups=8, bias=False),\n",
        "#             nn.Conv2d(256, 96, 1, bias=False),\n",
        "#             nn.BatchNorm2d(96),\n",
        "#             nn.ReLU()\n",
        "#         )\n",
        "\n",
        "#         self.block3 = nn.Sequential(\n",
        "#             nn.Conv2d(96, 256, 3, padding=0, stride=1, groups=16, bias=False),\n",
        "#             nn.BatchNorm2d(256),\n",
        "#             nn.ReLU(),\n",
        "#             nn.Conv2d(256, 256, 3, padding=0, groups=8, bias=False),\n",
        "#             nn.Conv2d(256, 80, 1, bias=False),\n",
        "#             nn.BatchNorm2d(80),\n",
        "#             nn.ReLU()\n",
        "#         )\n",
        "\n",
        "#         self.block4 = nn.Sequential(\n",
        "#             nn.Conv2d(80, 10, 1, bias=False),\n",
        "#             nn.AdaptiveAvgPool2d(1),\n",
        "#             nn.Conv2d(10, 10, 1, bias=False)\n",
        "#         )\n",
        "\n",
        "#     def forward(self, x):\n",
        "#         x = self.block1(x)\n",
        "#         x = self.block2(x)\n",
        "#         x = self.block3(x)\n",
        "#         x = self.block4(x)\n",
        "#         x = x.view(-1, 10)\n",
        "#         return F.log_softmax(x, dim=-1)\n"
      ],
      "execution_count": 27,
      "outputs": []
    },
    {
      "cell_type": "code",
      "metadata": {
        "id": "bISLrV29aTi8"
      },
      "source": [
        "# dataloader_args = dict(shuffle=True, batch_size=64, num_workers=0, pin_memory=True)\\\n",
        "#     if cuda else dict(shuffle=True, batch_size=32)\n",
        "# print(device, dataloader_args)    "
      ],
      "execution_count": 28,
      "outputs": []
    },
    {
      "cell_type": "code",
      "metadata": {
        "id": "2cqkt_JiQRAG"
      },
      "source": [
        "# # transforms\n",
        "# train_transforms = A.Compose([\n",
        "#                                     #    A.HorizontalFlip(p=0.20),\n",
        "#                                     #    A.ShiftScaleRotate(shift_limit=0.08,scale_limit=0.1,rotate_limit=25,p=0.25),\n",
        "#                                     #    A.Cutout(num_holes=1,max_h_size=16,max_w_size=16,p=0.5),\n",
        "#                                     #    A.MedianBlur(blur_limit=3, p=0.09),\n",
        "#                                     #    A.RandomBrightnessContrast(brightness_limit=0.09,contrast_limit=0.1, p=0.12),\n",
        "                                       \n",
        "#                                     #    A.Normalize(mean=mean, std=sdev),\n",
        "#                               ToTensor()\n",
        "#                                        ])\n",
        "\n",
        "# test_transforms = A.Compose([\n",
        "#                              ToTensor(),\n",
        "#                                     #   A.Normalize(mean=mean, std=sdev)\n",
        "#                                     ])\n",
        "\n",
        "# # data sets with transforms\n",
        "# train_set = torchvision.datasets.CIFAR10(root='./data-cifar10', download=True, train=True, transform=train_transforms)\n",
        "\n",
        "# test_set = torchvision.datasets.CIFAR10('./data-cifa10', train=False, download=True, transform=test_transforms)\n",
        "\n",
        "\n",
        "# # data loaders on data sets\n",
        "# train_loader = torch.utils.data.DataLoader(dataset=train_set, **dataloader_args)\n",
        "\n",
        "# test_loader = torch.utils.data.DataLoader(test_set, **dataloader_args)"
      ],
      "execution_count": 29,
      "outputs": []
    },
    {
      "cell_type": "markdown",
      "metadata": {
        "id": "YLrvL_fHpoC5"
      },
      "source": [
        "5. Test the network on the test data\n",
        "^^^^^^^^^^^^^^^^^^^^^^^^^^^^^^^^^^^^\n",
        "\n",
        "We have trained the network for 2 passes over the training dataset.\n",
        "But we need to check if the network has learnt anything at all.\n",
        "\n",
        "We will check this by predicting the class label that the neural network\n",
        "outputs, and checking it against the ground-truth. If the prediction is\n",
        "correct, we add the sample to the list of correct predictions.\n",
        "\n",
        "Okay, first step. Let us display an image from the test set to get familiar.\n",
        "\n"
      ]
    },
    {
      "cell_type": "code",
      "metadata": {
        "id": "nizbsvw9poC6"
      },
      "source": [
        "# dataiter = iter(test_loader)\n",
        "# images, labels = dataiter.next()\n",
        "\n",
        "# # print images\n",
        "# imshow(torchvision.utils.make_grid(images))\n",
        "# print('GroundTruth: ', ' '.join('%5s' % classes[labels[j]] for j in range(4)))"
      ],
      "execution_count": 30,
      "outputs": []
    },
    {
      "cell_type": "markdown",
      "metadata": {
        "id": "DAx4QPHVpoC8"
      },
      "source": [
        "Okay, now let us see what the neural network thinks these examples above are:\n",
        "\n"
      ]
    },
    {
      "cell_type": "code",
      "metadata": {
        "id": "HVLjlssWpoC9"
      },
      "source": [
        "# outputs = net(images)"
      ],
      "execution_count": 31,
      "outputs": []
    },
    {
      "cell_type": "markdown",
      "metadata": {
        "id": "u8OTHZEApoC_"
      },
      "source": [
        "The outputs are energies for the 10 classes.\n",
        "Higher the energy for a class, the more the network\n",
        "thinks that the image is of the particular class.\n",
        "So, let's get the index of the highest energy:\n",
        "\n"
      ]
    },
    {
      "cell_type": "code",
      "metadata": {
        "id": "ABRIDW3lpoDA"
      },
      "source": [
        "# _, predicted = torch.max(outputs, 1)\n",
        "\n",
        "# print('Predicted: ', ' '.join('%5s' % classes[predicted[j]]\n",
        "#                               for j in range(4)))"
      ],
      "execution_count": 32,
      "outputs": []
    },
    {
      "cell_type": "markdown",
      "metadata": {
        "id": "2TV0TXL1poDC"
      },
      "source": [
        "The results seem pretty good.\n",
        "\n",
        "Let us look at how the network performs on the whole dataset.\n",
        "\n"
      ]
    },
    {
      "cell_type": "code",
      "metadata": {
        "id": "SZ4-5CESpoDD"
      },
      "source": [
        "# correct = 0\n",
        "# total = 0\n",
        "# with torch.no_grad():\n",
        "#     for data in testloader:\n",
        "#         images, labels = data\n",
        "#         outputs = net(images)\n",
        "#         _, predicted = torch.max(outputs.data, 1)\n",
        "#         total += labels.size(0)\n",
        "#         correct += (predicted == labels).sum().item()\n",
        "\n",
        "# print('Accuracy of the network on the 10000 test images: %d %%' % (\n",
        "#     100 * correct / total))"
      ],
      "execution_count": 33,
      "outputs": []
    },
    {
      "cell_type": "markdown",
      "metadata": {
        "id": "eDdwPBl8poDF"
      },
      "source": [
        "That looks waaay better than chance, which is 10% accuracy (randomly picking\n",
        "a class out of 10 classes).\n",
        "Seems like the network learnt something.\n",
        "\n",
        "Hmmm, what are the classes that performed well, and the classes that did\n",
        "not perform well:\n",
        "\n"
      ]
    },
    {
      "cell_type": "code",
      "metadata": {
        "id": "pDNFuDEDpoDG"
      },
      "source": [
        "# class_correct = list(0. for i in range(10))\n",
        "# class_total = list(0. for i in range(10))\n",
        "# with torch.no_grad():\n",
        "#     for data in testloader:\n",
        "#         images, labels = data\n",
        "#         outputs = net(images)\n",
        "#         _, predicted = torch.max(outputs, 1)\n",
        "#         c = (predicted == labels).squeeze()\n",
        "#         for i in range(4):\n",
        "#             label = labels[i]\n",
        "#             class_correct[label] += c[i].item()\n",
        "#             class_total[label] += 1\n",
        "\n",
        "\n",
        "# for i in range(10):\n",
        "#     print('Accuracy of %5s : %2d %%' % (\n",
        "#         classes[i], 100 * class_correct[i] / class_total[i]))"
      ],
      "execution_count": 34,
      "outputs": []
    }
  ]
}