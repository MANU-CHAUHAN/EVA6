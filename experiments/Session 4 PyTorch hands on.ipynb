{
 "cells": [
  {
   "cell_type": "code",
   "execution_count": 187,
   "id": "d98150a1",
   "metadata": {},
   "outputs": [],
   "source": [
    "import torch\n",
    "import numpy as np"
   ]
  },
  {
   "cell_type": "code",
   "execution_count": 188,
   "id": "9497bc3b",
   "metadata": {},
   "outputs": [],
   "source": [
    "a = torch.tensor(3.0)"
   ]
  },
  {
   "cell_type": "code",
   "execution_count": 189,
   "id": "aef316b0",
   "metadata": {},
   "outputs": [
    {
     "data": {
      "text/plain": [
       "tensor(3.)"
      ]
     },
     "execution_count": 189,
     "metadata": {},
     "output_type": "execute_result"
    }
   ],
   "source": [
    "a"
   ]
  },
  {
   "cell_type": "code",
   "execution_count": 190,
   "id": "3b950703",
   "metadata": {},
   "outputs": [
    {
     "data": {
      "text/plain": [
       "tensor([1, 2, 3, 4])"
      ]
     },
     "execution_count": 190,
     "metadata": {},
     "output_type": "execute_result"
    }
   ],
   "source": [
    "b = torch.tensor([1,2,3,4])\n",
    "b"
   ]
  },
  {
   "cell_type": "code",
   "execution_count": 191,
   "id": "8c4d526a",
   "metadata": {},
   "outputs": [
    {
     "data": {
      "text/plain": [
       "tensor([1., 2., 3., 4.])"
      ]
     },
     "execution_count": 191,
     "metadata": {},
     "output_type": "execute_result"
    }
   ],
   "source": [
    "b = torch.tensor([1.,2,3,4])\n",
    "b"
   ]
  },
  {
   "cell_type": "code",
   "execution_count": 192,
   "id": "41a7adc2",
   "metadata": {},
   "outputs": [
    {
     "data": {
      "text/plain": [
       "tensor([[1, 2],\n",
       "        [3, 4]])"
      ]
     },
     "execution_count": 192,
     "metadata": {},
     "output_type": "execute_result"
    }
   ],
   "source": [
    "c = torch.tensor([\n",
    "            [1,2],\n",
    "            [3,4]\n",
    "                ])\n",
    "c"
   ]
  },
  {
   "cell_type": "code",
   "execution_count": 193,
   "id": "eab402e7",
   "metadata": {},
   "outputs": [
    {
     "data": {
      "text/plain": [
       "array(1.3)"
      ]
     },
     "execution_count": 193,
     "metadata": {},
     "output_type": "execute_result"
    }
   ],
   "source": [
    "a = np.array(1.3)\n",
    "a"
   ]
  },
  {
   "cell_type": "code",
   "execution_count": 194,
   "id": "1d1a5bbe",
   "metadata": {},
   "outputs": [
    {
     "data": {
      "text/plain": [
       "array([1., 2., 3., 4.])"
      ]
     },
     "execution_count": 194,
     "metadata": {},
     "output_type": "execute_result"
    }
   ],
   "source": [
    "b = np.array([1., 2, 3, 4])\n",
    "b"
   ]
  },
  {
   "cell_type": "markdown",
   "id": "b4989125",
   "metadata": {},
   "source": [
    "## Creating a Tensor from a Numpy"
   ]
  },
  {
   "cell_type": "code",
   "execution_count": 195,
   "id": "c7fdfff4",
   "metadata": {},
   "outputs": [],
   "source": [
    "np_ar = np.array([1, 2, 3])"
   ]
  },
  {
   "cell_type": "code",
   "execution_count": 196,
   "id": "b15f89e4",
   "metadata": {},
   "outputs": [],
   "source": [
    "t1 = torch.Tensor(np_ar)"
   ]
  },
  {
   "cell_type": "code",
   "execution_count": 197,
   "id": "b35e0b93",
   "metadata": {},
   "outputs": [
    {
     "data": {
      "text/plain": [
       "tensor([1., 2., 3.])"
      ]
     },
     "execution_count": 197,
     "metadata": {},
     "output_type": "execute_result"
    }
   ],
   "source": [
    "t1"
   ]
  },
  {
   "cell_type": "code",
   "execution_count": 198,
   "id": "0b446f8d",
   "metadata": {},
   "outputs": [
    {
     "data": {
      "text/plain": [
       "tensor([1, 2, 3])"
      ]
     },
     "execution_count": 198,
     "metadata": {},
     "output_type": "execute_result"
    }
   ],
   "source": [
    "t2 = torch.tensor(np_ar)\n",
    "t2"
   ]
  },
  {
   "cell_type": "code",
   "execution_count": 199,
   "id": "0f852d3f",
   "metadata": {},
   "outputs": [],
   "source": [
    "t = torch.as_tensor(np_ar)"
   ]
  },
  {
   "cell_type": "code",
   "execution_count": 200,
   "id": "a380018f",
   "metadata": {},
   "outputs": [
    {
     "data": {
      "text/plain": [
       "tensor([1, 2, 3])"
      ]
     },
     "execution_count": 200,
     "metadata": {},
     "output_type": "execute_result"
    }
   ],
   "source": [
    "t"
   ]
  },
  {
   "cell_type": "code",
   "execution_count": 201,
   "id": "940e3a15",
   "metadata": {},
   "outputs": [],
   "source": [
    "t = torch.as_tensor(t2)"
   ]
  },
  {
   "cell_type": "code",
   "execution_count": 202,
   "id": "cec4a22a",
   "metadata": {},
   "outputs": [
    {
     "data": {
      "text/plain": [
       "tensor([1, 2, 3])"
      ]
     },
     "execution_count": 202,
     "metadata": {},
     "output_type": "execute_result"
    }
   ],
   "source": [
    "t"
   ]
  },
  {
   "cell_type": "code",
   "execution_count": 203,
   "id": "25fd23b1",
   "metadata": {},
   "outputs": [],
   "source": [
    "t = torch.tensor([\n",
    "    [0, 0, 0, 0],\n",
    "    [1, 1, 1, 1],\n",
    "    [2, 2, 2, 2]\n",
    "], dtype=torch.float32)"
   ]
  },
  {
   "cell_type": "code",
   "execution_count": 204,
   "id": "1cac5f89",
   "metadata": {},
   "outputs": [
    {
     "data": {
      "text/plain": [
       "tensor([[0., 0., 0., 0.],\n",
       "        [1., 1., 1., 1.],\n",
       "        [2., 2., 2., 2.]])"
      ]
     },
     "execution_count": 204,
     "metadata": {},
     "output_type": "execute_result"
    }
   ],
   "source": [
    "t"
   ]
  },
  {
   "cell_type": "code",
   "execution_count": 205,
   "id": "1ed29867",
   "metadata": {},
   "outputs": [
    {
     "data": {
      "text/plain": [
       "torch.Size([3, 4])"
      ]
     },
     "execution_count": 205,
     "metadata": {},
     "output_type": "execute_result"
    }
   ],
   "source": [
    "t.shape"
   ]
  },
  {
   "cell_type": "code",
   "execution_count": 206,
   "id": "4ba3cd81",
   "metadata": {},
   "outputs": [
    {
     "data": {
      "text/plain": [
       "torch.Size([3, 4])"
      ]
     },
     "execution_count": 206,
     "metadata": {},
     "output_type": "execute_result"
    }
   ],
   "source": [
    "t.size()"
   ]
  },
  {
   "cell_type": "code",
   "execution_count": 207,
   "id": "2be5c1f9",
   "metadata": {},
   "outputs": [
    {
     "data": {
      "text/plain": [
       "12"
      ]
     },
     "execution_count": 207,
     "metadata": {},
     "output_type": "execute_result"
    }
   ],
   "source": [
    "t.numel()"
   ]
  },
  {
   "cell_type": "code",
   "execution_count": 208,
   "id": "9d18fbe2",
   "metadata": {},
   "outputs": [
    {
     "data": {
      "text/plain": [
       "torch.Size([12])"
      ]
     },
     "execution_count": 208,
     "metadata": {},
     "output_type": "execute_result"
    }
   ],
   "source": [
    "t.reshape(-1).shape"
   ]
  },
  {
   "cell_type": "code",
   "execution_count": 209,
   "id": "4302bd04",
   "metadata": {},
   "outputs": [
    {
     "data": {
      "text/plain": [
       "tensor([[0., 0., 0., 0., 1., 1., 1., 1., 2., 2., 2., 2.]])"
      ]
     },
     "execution_count": 209,
     "metadata": {},
     "output_type": "execute_result"
    }
   ],
   "source": [
    "t.reshape(1, 12) # [1, 12]"
   ]
  },
  {
   "cell_type": "code",
   "execution_count": 210,
   "id": "d9e3e1fb",
   "metadata": {},
   "outputs": [
    {
     "data": {
      "text/plain": [
       "tensor([0., 0., 0., 0., 1., 1., 1., 1., 2., 2., 2., 2.])"
      ]
     },
     "execution_count": 210,
     "metadata": {},
     "output_type": "execute_result"
    }
   ],
   "source": [
    "t.reshape(1, 12).squeeze()"
   ]
  },
  {
   "cell_type": "code",
   "execution_count": 211,
   "id": "dcc3c152",
   "metadata": {},
   "outputs": [
    {
     "data": {
      "text/plain": [
       "torch.Size([12])"
      ]
     },
     "execution_count": 211,
     "metadata": {},
     "output_type": "execute_result"
    }
   ],
   "source": [
    "t.reshape(1, 12).squeeze().shape"
   ]
  },
  {
   "cell_type": "code",
   "execution_count": 212,
   "id": "d29b0313",
   "metadata": {},
   "outputs": [
    {
     "data": {
      "text/plain": [
       "tensor([[0., 0., 0., 0., 1., 1., 1., 1., 2., 2., 2., 2.]])"
      ]
     },
     "execution_count": 212,
     "metadata": {},
     "output_type": "execute_result"
    }
   ],
   "source": [
    "t.reshape(1, 12).squeeze().unsqueeze(dim=0)"
   ]
  },
  {
   "cell_type": "code",
   "execution_count": 213,
   "id": "491c8c11",
   "metadata": {},
   "outputs": [
    {
     "data": {
      "text/plain": [
       "torch.Size([1, 12])"
      ]
     },
     "execution_count": 213,
     "metadata": {},
     "output_type": "execute_result"
    }
   ],
   "source": [
    "t.reshape(1, 12).squeeze().unsqueeze(dim=0).shape"
   ]
  },
  {
   "cell_type": "code",
   "execution_count": 214,
   "id": "e111b39e",
   "metadata": {},
   "outputs": [
    {
     "data": {
      "text/plain": [
       "tensor([[0., 0., 0., 0.],\n",
       "        [1., 1., 1., 1.],\n",
       "        [2., 2., 2., 2.]])"
      ]
     },
     "execution_count": 214,
     "metadata": {},
     "output_type": "execute_result"
    }
   ],
   "source": [
    "t"
   ]
  },
  {
   "cell_type": "code",
   "execution_count": 215,
   "id": "9d605b6f",
   "metadata": {},
   "outputs": [
    {
     "data": {
      "text/plain": [
       "tensor([0., 0., 0., 0., 1., 1., 1., 1., 2., 2., 2., 2.])"
      ]
     },
     "execution_count": 215,
     "metadata": {},
     "output_type": "execute_result"
    }
   ],
   "source": [
    "t.flatten()"
   ]
  },
  {
   "cell_type": "code",
   "execution_count": 216,
   "id": "b1e0d062",
   "metadata": {},
   "outputs": [
    {
     "data": {
      "text/plain": [
       "tensor([[0., 0., 0., 0., 1., 1., 1., 1., 2., 2., 2., 2.]])"
      ]
     },
     "execution_count": 216,
     "metadata": {},
     "output_type": "execute_result"
    }
   ],
   "source": [
    "t.reshape(1, -1)"
   ]
  },
  {
   "cell_type": "code",
   "execution_count": 217,
   "id": "ffa11631",
   "metadata": {},
   "outputs": [],
   "source": [
    "t1 = torch.tensor([\n",
    "    [1, 2],\n",
    "    [3, 4]\n",
    "])\n",
    "\n",
    "t2 = torch.tensor([\n",
    "    [5, 6],\n",
    "    [7, 8]\n",
    "])"
   ]
  },
  {
   "cell_type": "code",
   "execution_count": 218,
   "id": "fb4eba66",
   "metadata": {},
   "outputs": [
    {
     "data": {
      "text/plain": [
       "tensor([[1, 2],\n",
       "        [3, 4]])"
      ]
     },
     "execution_count": 218,
     "metadata": {},
     "output_type": "execute_result"
    }
   ],
   "source": [
    "t1"
   ]
  },
  {
   "cell_type": "code",
   "execution_count": 219,
   "id": "fb388f62",
   "metadata": {},
   "outputs": [
    {
     "data": {
      "text/plain": [
       "tensor([[5, 6],\n",
       "        [7, 8]])"
      ]
     },
     "execution_count": 219,
     "metadata": {},
     "output_type": "execute_result"
    }
   ],
   "source": [
    "t2"
   ]
  },
  {
   "cell_type": "code",
   "execution_count": 220,
   "id": "101b03b7",
   "metadata": {},
   "outputs": [
    {
     "data": {
      "text/plain": [
       "tensor([[1, 2],\n",
       "        [3, 4],\n",
       "        [5, 6],\n",
       "        [7, 8]])"
      ]
     },
     "execution_count": 220,
     "metadata": {},
     "output_type": "execute_result"
    }
   ],
   "source": [
    "torch.cat([t1, t2], dim=0)"
   ]
  },
  {
   "cell_type": "code",
   "execution_count": 221,
   "id": "f0538e38",
   "metadata": {},
   "outputs": [
    {
     "data": {
      "text/plain": [
       "tensor([[1, 2, 5, 6],\n",
       "        [3, 4, 7, 8]])"
      ]
     },
     "execution_count": 221,
     "metadata": {},
     "output_type": "execute_result"
    }
   ],
   "source": [
    "torch.cat([t1, t2], dim=1)"
   ]
  },
  {
   "cell_type": "code",
   "execution_count": 222,
   "id": "f5bde365",
   "metadata": {},
   "outputs": [
    {
     "data": {
      "text/plain": [
       "tensor([[0., 0., 0., 0., 1., 1.],\n",
       "        [1., 1., 2., 2., 2., 2.]])"
      ]
     },
     "execution_count": 222,
     "metadata": {},
     "output_type": "execute_result"
    }
   ],
   "source": [
    "t.reshape(2, -1)"
   ]
  },
  {
   "cell_type": "code",
   "execution_count": 223,
   "id": "fba015da",
   "metadata": {},
   "outputs": [],
   "source": [
    "img1 = torch.tensor([\n",
    "  [1, 1, 1, 1],\n",
    "  [1, 1, 1, 1],\n",
    "  [1, 1, 1, 1],\n",
    "  [1, 1, 1, 1]\n",
    "])\n",
    "\n",
    "img2 = torch.tensor([\n",
    "  [2, 2, 2, 2],\n",
    "  [2, 2, 2, 2],\n",
    "  [2, 2, 2, 2],\n",
    "  [2, 2, 2, 2]\n",
    "])\n",
    "\n",
    "img3 = torch.tensor([\n",
    "  [3, 3, 3, 3],\n",
    "  [3, 3, 3, 3],\n",
    "  [3, 3, 3, 3],\n",
    "  [3, 3, 3, 3]\n",
    "])"
   ]
  },
  {
   "cell_type": "code",
   "execution_count": 224,
   "id": "a9833647",
   "metadata": {},
   "outputs": [],
   "source": [
    "batch = torch.stack((img1, img2, img3), dim=0)"
   ]
  },
  {
   "cell_type": "code",
   "execution_count": 225,
   "id": "ec3c4a48",
   "metadata": {},
   "outputs": [
    {
     "data": {
      "text/plain": [
       "tensor([[[1, 1, 1, 1],\n",
       "         [1, 1, 1, 1],\n",
       "         [1, 1, 1, 1],\n",
       "         [1, 1, 1, 1]],\n",
       "\n",
       "        [[2, 2, 2, 2],\n",
       "         [2, 2, 2, 2],\n",
       "         [2, 2, 2, 2],\n",
       "         [2, 2, 2, 2]],\n",
       "\n",
       "        [[3, 3, 3, 3],\n",
       "         [3, 3, 3, 3],\n",
       "         [3, 3, 3, 3],\n",
       "         [3, 3, 3, 3]]])"
      ]
     },
     "execution_count": 225,
     "metadata": {},
     "output_type": "execute_result"
    }
   ],
   "source": [
    "batch"
   ]
  },
  {
   "cell_type": "code",
   "execution_count": 226,
   "id": "616ff214",
   "metadata": {},
   "outputs": [
    {
     "data": {
      "text/plain": [
       "torch.Size([3, 4, 4])"
      ]
     },
     "execution_count": 226,
     "metadata": {},
     "output_type": "execute_result"
    }
   ],
   "source": [
    "batch.shape"
   ]
  },
  {
   "cell_type": "code",
   "execution_count": 227,
   "id": "0d44058d",
   "metadata": {},
   "outputs": [],
   "source": [
    "batch = batch.reshape(3, 1, 4, 4)"
   ]
  },
  {
   "cell_type": "code",
   "execution_count": 228,
   "id": "e80663a9",
   "metadata": {},
   "outputs": [
    {
     "data": {
      "text/plain": [
       "tensor([[[[1, 1, 1, 1],\n",
       "          [1, 1, 1, 1],\n",
       "          [1, 1, 1, 1],\n",
       "          [1, 1, 1, 1]]],\n",
       "\n",
       "\n",
       "        [[[2, 2, 2, 2],\n",
       "          [2, 2, 2, 2],\n",
       "          [2, 2, 2, 2],\n",
       "          [2, 2, 2, 2]]],\n",
       "\n",
       "\n",
       "        [[[3, 3, 3, 3],\n",
       "          [3, 3, 3, 3],\n",
       "          [3, 3, 3, 3],\n",
       "          [3, 3, 3, 3]]]])"
      ]
     },
     "execution_count": 228,
     "metadata": {},
     "output_type": "execute_result"
    }
   ],
   "source": [
    "batch"
   ]
  },
  {
   "cell_type": "code",
   "execution_count": 229,
   "id": "6bb50d45",
   "metadata": {},
   "outputs": [
    {
     "data": {
      "text/plain": [
       "torch.Size([3, 1, 4, 4])"
      ]
     },
     "execution_count": 229,
     "metadata": {},
     "output_type": "execute_result"
    }
   ],
   "source": [
    "batch.shape"
   ]
  },
  {
   "cell_type": "code",
   "execution_count": 230,
   "id": "bc3c000b",
   "metadata": {},
   "outputs": [
    {
     "data": {
      "text/plain": [
       "tensor([[[1, 1, 1, 1],\n",
       "         [1, 1, 1, 1],\n",
       "         [1, 1, 1, 1],\n",
       "         [1, 1, 1, 1]]])"
      ]
     },
     "execution_count": 230,
     "metadata": {},
     "output_type": "execute_result"
    }
   ],
   "source": [
    "# 1st image\n",
    "\n",
    "batch[0]"
   ]
  },
  {
   "cell_type": "code",
   "execution_count": 231,
   "id": "5aa7c668",
   "metadata": {},
   "outputs": [
    {
     "data": {
      "text/plain": [
       "tensor([[1, 1, 1, 1],\n",
       "        [1, 1, 1, 1],\n",
       "        [1, 1, 1, 1],\n",
       "        [1, 1, 1, 1]])"
      ]
     },
     "execution_count": 231,
     "metadata": {},
     "output_type": "execute_result"
    }
   ],
   "source": [
    "# 1st channel of 1st image\n",
    "\n",
    "batch[0][0]"
   ]
  },
  {
   "cell_type": "code",
   "execution_count": 232,
   "id": "2c1f42ce",
   "metadata": {},
   "outputs": [
    {
     "data": {
      "text/plain": [
       "tensor([1, 1, 1, 1])"
      ]
     },
     "execution_count": 232,
     "metadata": {},
     "output_type": "execute_result"
    }
   ],
   "source": [
    "# 1st row of 1st channel of 1st image\n",
    "batch[0][0][0]"
   ]
  },
  {
   "cell_type": "code",
   "execution_count": 233,
   "id": "457fe1a2",
   "metadata": {},
   "outputs": [
    {
     "data": {
      "text/plain": [
       "tensor(1)"
      ]
     },
     "execution_count": 233,
     "metadata": {},
     "output_type": "execute_result"
    }
   ],
   "source": [
    "# let's get the first pixel of the first row of our first channel of our first image\n",
    "\n",
    "batch[0][0][0][0]"
   ]
  },
  {
   "cell_type": "code",
   "execution_count": 234,
   "id": "d51315f2",
   "metadata": {},
   "outputs": [
    {
     "data": {
      "text/plain": [
       "torch.Size([3, 1, 4, 4])"
      ]
     },
     "execution_count": 234,
     "metadata": {},
     "output_type": "execute_result"
    }
   ],
   "source": [
    "batch.shape"
   ]
  },
  {
   "cell_type": "code",
   "execution_count": 235,
   "id": "39e10f00",
   "metadata": {},
   "outputs": [
    {
     "data": {
      "text/plain": [
       "tensor([1, 1, 1, 1, 1, 1, 1, 1, 1, 1, 1, 1, 1, 1, 1, 1, 2, 2, 2, 2, 2, 2, 2, 2,\n",
       "        2, 2, 2, 2, 2, 2, 2, 2, 3, 3, 3, 3, 3, 3, 3, 3, 3, 3, 3, 3, 3, 3, 3, 3])"
      ]
     },
     "execution_count": 235,
     "metadata": {},
     "output_type": "execute_result"
    }
   ],
   "source": [
    "batch.flatten()"
   ]
  },
  {
   "cell_type": "code",
   "execution_count": 236,
   "id": "e6d6ebe9",
   "metadata": {},
   "outputs": [],
   "source": [
    "t = torch.tensor([\n",
    "    [0, 5, 7],\n",
    "    [6, 0, 7]\n",
    "], dtype=torch.float32)"
   ]
  },
  {
   "cell_type": "code",
   "execution_count": 237,
   "id": "df3b4a4b",
   "metadata": {},
   "outputs": [
    {
     "data": {
      "text/plain": [
       "tensor(25.)"
      ]
     },
     "execution_count": 237,
     "metadata": {},
     "output_type": "execute_result"
    }
   ],
   "source": [
    "t.sum()"
   ]
  },
  {
   "cell_type": "code",
   "execution_count": 238,
   "id": "55765fa5",
   "metadata": {},
   "outputs": [
    {
     "data": {
      "text/plain": [
       "tensor([ 0.,  0., 49.])"
      ]
     },
     "execution_count": 238,
     "metadata": {},
     "output_type": "execute_result"
    }
   ],
   "source": [
    "t.prod(dim=0)"
   ]
  },
  {
   "cell_type": "code",
   "execution_count": 239,
   "id": "c0a68c92",
   "metadata": {},
   "outputs": [
    {
     "data": {
      "text/plain": [
       "(tensor(2), tensor(7.))"
      ]
     },
     "execution_count": 239,
     "metadata": {},
     "output_type": "execute_result"
    }
   ],
   "source": [
    "t.argmax(), t.max()"
   ]
  },
  {
   "cell_type": "code",
   "execution_count": 240,
   "id": "fd722827",
   "metadata": {},
   "outputs": [],
   "source": [
    "import torch\n",
    "import torchvision\n",
    "import pandas as pd\n",
    "import torchvision.transforms as transforms"
   ]
  },
  {
   "cell_type": "code",
   "execution_count": 241,
   "id": "5bac1b32",
   "metadata": {},
   "outputs": [],
   "source": [
    "from torch.utils.data import DataLoader, Dataset"
   ]
  },
  {
   "cell_type": "code",
   "execution_count": 242,
   "id": "f01c973e",
   "metadata": {},
   "outputs": [],
   "source": [
    "# custom dataset\n",
    "\n",
    "class Animals(Dataset):\n",
    "    def __init__(self, csv_file):\n",
    "        self.data = pd.read_csv(csv_file)\n",
    "    \n",
    "    def __getitem__(self, index):\n",
    "        r = self.data.iloc[index]\n",
    "        image, label = r\n",
    "        return image, label\n",
    "    \n",
    "    def __len__(self):\n",
    "        return len(self.data)\n",
    "    \n",
    "        "
   ]
  },
  {
   "cell_type": "code",
   "execution_count": 243,
   "id": "bb2e1a71",
   "metadata": {},
   "outputs": [],
   "source": [
    "# working with FashionMNIST\n",
    "\n",
    "train_set = torchvision.datasets.FashionMNIST(root='./data',\n",
    "                                              train=True, download=True,\n",
    "                                              transform=transforms.Compose([\n",
    "                                                  transforms.ToTensor()]))"
   ]
  },
  {
   "cell_type": "code",
   "execution_count": 244,
   "id": "815ed3b3",
   "metadata": {},
   "outputs": [],
   "source": [
    "# use dataloader to load data in batches and help to avoid creating custom dataloader\n",
    "\n",
    "train_loader = torch.utils.data.DataLoader(train_set, batch_size=16, shuffle=True)"
   ]
  },
  {
   "cell_type": "code",
   "execution_count": 245,
   "id": "bca1069c",
   "metadata": {},
   "outputs": [
    {
     "data": {
      "text/plain": [
       "torch.utils.data.dataloader.DataLoader"
      ]
     },
     "execution_count": 245,
     "metadata": {},
     "output_type": "execute_result"
    }
   ],
   "source": [
    "type(train_loader)"
   ]
  },
  {
   "cell_type": "code",
   "execution_count": 246,
   "id": "2997fa9b",
   "metadata": {},
   "outputs": [],
   "source": [
    "itr = iter(train_loader)"
   ]
  },
  {
   "cell_type": "code",
   "execution_count": 247,
   "id": "8c756eed",
   "metadata": {},
   "outputs": [
    {
     "data": {
      "text/plain": [
       "<torch.utils.data.dataloader._SingleProcessDataLoaderIter at 0x7f9670516b20>"
      ]
     },
     "execution_count": 247,
     "metadata": {},
     "output_type": "execute_result"
    }
   ],
   "source": [
    "itr"
   ]
  },
  {
   "cell_type": "code",
   "execution_count": 248,
   "id": "a7c7d17d",
   "metadata": {},
   "outputs": [
    {
     "data": {
      "text/plain": [
       "[tensor([[[[0., 0., 0.,  ..., 0., 0., 0.],\n",
       "           [0., 0., 0.,  ..., 0., 0., 0.],\n",
       "           [0., 0., 0.,  ..., 0., 0., 0.],\n",
       "           ...,\n",
       "           [0., 0., 0.,  ..., 0., 0., 0.],\n",
       "           [0., 0., 0.,  ..., 0., 0., 0.],\n",
       "           [0., 0., 0.,  ..., 0., 0., 0.]]],\n",
       " \n",
       " \n",
       "         [[[0., 0., 0.,  ..., 0., 0., 0.],\n",
       "           [0., 0., 0.,  ..., 0., 0., 0.],\n",
       "           [0., 0., 0.,  ..., 0., 0., 0.],\n",
       "           ...,\n",
       "           [0., 0., 0.,  ..., 0., 0., 0.],\n",
       "           [0., 0., 0.,  ..., 0., 0., 0.],\n",
       "           [0., 0., 0.,  ..., 0., 0., 0.]]],\n",
       " \n",
       " \n",
       "         [[[0., 0., 0.,  ..., 0., 0., 0.],\n",
       "           [0., 0., 0.,  ..., 0., 0., 0.],\n",
       "           [0., 0., 0.,  ..., 0., 0., 0.],\n",
       "           ...,\n",
       "           [0., 0., 0.,  ..., 0., 0., 0.],\n",
       "           [0., 0., 0.,  ..., 0., 0., 0.],\n",
       "           [0., 0., 0.,  ..., 0., 0., 0.]]],\n",
       " \n",
       " \n",
       "         ...,\n",
       " \n",
       " \n",
       "         [[[0., 0., 0.,  ..., 0., 0., 0.],\n",
       "           [0., 0., 0.,  ..., 0., 0., 0.],\n",
       "           [0., 0., 0.,  ..., 0., 0., 0.],\n",
       "           ...,\n",
       "           [0., 0., 0.,  ..., 0., 0., 0.],\n",
       "           [0., 0., 0.,  ..., 0., 0., 0.],\n",
       "           [0., 0., 0.,  ..., 0., 0., 0.]]],\n",
       " \n",
       " \n",
       "         [[[0., 0., 0.,  ..., 0., 0., 0.],\n",
       "           [0., 0., 0.,  ..., 0., 0., 0.],\n",
       "           [0., 0., 0.,  ..., 0., 0., 0.],\n",
       "           ...,\n",
       "           [0., 0., 0.,  ..., 0., 0., 0.],\n",
       "           [0., 0., 0.,  ..., 0., 0., 0.],\n",
       "           [0., 0., 0.,  ..., 0., 0., 0.]]],\n",
       " \n",
       " \n",
       "         [[[0., 0., 0.,  ..., 0., 0., 0.],\n",
       "           [0., 0., 0.,  ..., 0., 0., 0.],\n",
       "           [0., 0., 0.,  ..., 0., 0., 0.],\n",
       "           ...,\n",
       "           [0., 0., 0.,  ..., 0., 0., 0.],\n",
       "           [0., 0., 0.,  ..., 0., 0., 0.],\n",
       "           [0., 0., 0.,  ..., 0., 0., 0.]]]]),\n",
       " tensor([6, 1, 1, 2, 7, 8, 9, 8, 1, 4, 7, 6, 8, 3, 3, 5])]"
      ]
     },
     "execution_count": 248,
     "metadata": {},
     "output_type": "execute_result"
    }
   ],
   "source": [
    "next(itr)"
   ]
  },
  {
   "cell_type": "code",
   "execution_count": 249,
   "id": "79561b3f",
   "metadata": {},
   "outputs": [
    {
     "data": {
      "text/plain": [
       "2"
      ]
     },
     "execution_count": 249,
     "metadata": {},
     "output_type": "execute_result"
    }
   ],
   "source": [
    "len(next(itr))"
   ]
  },
  {
   "cell_type": "code",
   "execution_count": 250,
   "id": "4a19929a",
   "metadata": {},
   "outputs": [
    {
     "data": {
      "text/plain": [
       "16"
      ]
     },
     "execution_count": 250,
     "metadata": {},
     "output_type": "execute_result"
    }
   ],
   "source": [
    "len(next(itr)[0]) # images in batch 16"
   ]
  },
  {
   "cell_type": "code",
   "execution_count": 251,
   "id": "16d7c0c5",
   "metadata": {},
   "outputs": [
    {
     "data": {
      "text/plain": [
       "tensor([5, 3, 9, 2, 3, 6, 6, 2, 4, 8, 8, 7, 3, 7, 4, 6])"
      ]
     },
     "execution_count": 251,
     "metadata": {},
     "output_type": "execute_result"
    }
   ],
   "source": [
    "next(itr)[1]"
   ]
  },
  {
   "cell_type": "code",
   "execution_count": 252,
   "id": "125a064b",
   "metadata": {},
   "outputs": [],
   "source": [
    "import numpy as np\n",
    "import matplotlib.pyplot as plt"
   ]
  },
  {
   "cell_type": "code",
   "execution_count": 253,
   "id": "6d999270",
   "metadata": {},
   "outputs": [
    {
     "name": "stderr",
     "output_type": "stream",
     "text": [
      "/Users/manu/opt/anaconda3/lib/python3.8/site-packages/torchvision/datasets/mnist.py:54: UserWarning: train_labels has been renamed targets\n",
      "  warnings.warn(\"train_labels has been renamed targets\")\n"
     ]
    },
    {
     "data": {
      "text/plain": [
       "tensor([6000, 6000, 6000, 6000, 6000, 6000, 6000, 6000, 6000, 6000])"
      ]
     },
     "execution_count": 253,
     "metadata": {},
     "output_type": "execute_result"
    }
   ],
   "source": [
    "train_set.train_labels.bincount()"
   ]
  },
  {
   "cell_type": "code",
   "execution_count": 254,
   "id": "01fba6c3",
   "metadata": {},
   "outputs": [
    {
     "data": {
      "text/plain": [
       "tensor([9, 0, 0,  ..., 3, 0, 5])"
      ]
     },
     "execution_count": 254,
     "metadata": {},
     "output_type": "execute_result"
    }
   ],
   "source": [
    "train_set.train_labels"
   ]
  },
  {
   "cell_type": "code",
   "execution_count": 255,
   "id": "22ae830d",
   "metadata": {},
   "outputs": [],
   "source": [
    "sample = next(itr)"
   ]
  },
  {
   "cell_type": "code",
   "execution_count": 256,
   "id": "6d95d570",
   "metadata": {},
   "outputs": [
    {
     "data": {
      "text/plain": [
       "[tensor([[[[0.0000, 0.0000, 0.0157,  ..., 0.0000, 0.0000, 0.0000],\n",
       "           [0.0000, 0.0000, 0.0000,  ..., 0.0039, 0.0000, 0.0000],\n",
       "           [0.0000, 0.0000, 0.0000,  ..., 0.0000, 0.0000, 0.0000],\n",
       "           ...,\n",
       "           [0.0000, 0.0000, 0.3961,  ..., 0.3216, 0.0000, 0.0000],\n",
       "           [0.0000, 0.0000, 0.4000,  ..., 0.4118, 0.0000, 0.0000],\n",
       "           [0.0000, 0.0000, 0.0118,  ..., 0.0275, 0.0000, 0.0000]]],\n",
       " \n",
       " \n",
       "         [[[0.0000, 0.0000, 0.0000,  ..., 0.0000, 0.0000, 0.0000],\n",
       "           [0.0000, 0.0000, 0.0000,  ..., 0.0000, 0.0000, 0.0000],\n",
       "           [0.0000, 0.0000, 0.0000,  ..., 0.0000, 0.0000, 0.0000],\n",
       "           ...,\n",
       "           [0.0000, 0.0000, 0.0000,  ..., 0.0000, 0.0000, 0.0000],\n",
       "           [0.0000, 0.0000, 0.0000,  ..., 0.0000, 0.0000, 0.0000],\n",
       "           [0.0000, 0.0000, 0.0000,  ..., 0.0000, 0.0000, 0.0000]]],\n",
       " \n",
       " \n",
       "         [[[0.0000, 0.0000, 0.0000,  ..., 0.0000, 0.0000, 0.0000],\n",
       "           [0.0000, 0.0000, 0.0000,  ..., 0.0000, 0.0000, 0.0000],\n",
       "           [0.0000, 0.0000, 0.0000,  ..., 0.0000, 0.0000, 0.0000],\n",
       "           ...,\n",
       "           [0.0000, 0.0000, 0.0000,  ..., 0.0000, 0.0000, 0.0000],\n",
       "           [0.0000, 0.0000, 0.0000,  ..., 0.0000, 0.0000, 0.0000],\n",
       "           [0.0000, 0.0000, 0.0000,  ..., 0.0000, 0.0000, 0.0000]]],\n",
       " \n",
       " \n",
       "         ...,\n",
       " \n",
       " \n",
       "         [[[0.0000, 0.0000, 0.0000,  ..., 0.0000, 0.0000, 0.0000],\n",
       "           [0.0000, 0.0000, 0.0000,  ..., 0.0000, 0.0000, 0.0000],\n",
       "           [0.0000, 0.0000, 0.0000,  ..., 0.0000, 0.0000, 0.0000],\n",
       "           ...,\n",
       "           [0.2980, 0.6784, 0.5725,  ..., 0.0000, 0.0039, 0.0000],\n",
       "           [0.0000, 0.0000, 0.0000,  ..., 0.0000, 0.0000, 0.0000],\n",
       "           [0.0000, 0.0000, 0.0000,  ..., 0.0000, 0.0000, 0.0000]]],\n",
       " \n",
       " \n",
       "         [[[0.0000, 0.0000, 0.0000,  ..., 0.0000, 0.0000, 0.0000],\n",
       "           [0.0000, 0.0000, 0.0000,  ..., 0.0000, 0.0000, 0.0000],\n",
       "           [0.0000, 0.0000, 0.0000,  ..., 0.0000, 0.0000, 0.0000],\n",
       "           ...,\n",
       "           [0.0000, 0.0000, 0.0000,  ..., 0.0000, 0.0000, 0.0000],\n",
       "           [0.0000, 0.0000, 0.0000,  ..., 0.0000, 0.0000, 0.0000],\n",
       "           [0.0000, 0.0000, 0.0000,  ..., 0.0000, 0.0000, 0.0000]]],\n",
       " \n",
       " \n",
       "         [[[0.0000, 0.0000, 0.0000,  ..., 0.0000, 0.0000, 0.0000],\n",
       "           [0.0000, 0.0039, 0.0000,  ..., 0.0000, 0.0235, 0.0000],\n",
       "           [0.0000, 0.0118, 0.0000,  ..., 0.0000, 0.0000, 0.0000],\n",
       "           ...,\n",
       "           [0.0000, 0.1255, 0.7333,  ..., 0.8706, 0.9294, 0.7686],\n",
       "           [0.0000, 0.0000, 0.0000,  ..., 0.0000, 0.1137, 0.0000],\n",
       "           [0.0000, 0.0000, 0.0039,  ..., 0.0000, 0.0000, 0.0000]]]]),\n",
       " tensor([2, 4, 0, 8, 1, 3, 9, 4, 8, 9, 3, 4, 7, 8, 7, 6])]"
      ]
     },
     "execution_count": 256,
     "metadata": {},
     "output_type": "execute_result"
    }
   ],
   "source": [
    "sample"
   ]
  },
  {
   "cell_type": "code",
   "execution_count": 257,
   "id": "93b2b416",
   "metadata": {},
   "outputs": [
    {
     "data": {
      "text/plain": [
       "2"
      ]
     },
     "execution_count": 257,
     "metadata": {},
     "output_type": "execute_result"
    }
   ],
   "source": [
    "len(sample)"
   ]
  },
  {
   "cell_type": "code",
   "execution_count": 258,
   "id": "92113856",
   "metadata": {},
   "outputs": [
    {
     "data": {
      "text/plain": [
       "16"
      ]
     },
     "execution_count": 258,
     "metadata": {},
     "output_type": "execute_result"
    }
   ],
   "source": [
    "len(sample[0])"
   ]
  },
  {
   "cell_type": "code",
   "execution_count": 259,
   "id": "59c507f2",
   "metadata": {},
   "outputs": [
    {
     "data": {
      "text/plain": [
       "16"
      ]
     },
     "execution_count": 259,
     "metadata": {},
     "output_type": "execute_result"
    }
   ],
   "source": [
    "len(sample[1])"
   ]
  },
  {
   "cell_type": "code",
   "execution_count": 260,
   "id": "1a2b1e51",
   "metadata": {},
   "outputs": [
    {
     "data": {
      "text/plain": [
       "tensor(2)"
      ]
     },
     "execution_count": 260,
     "metadata": {},
     "output_type": "execute_result"
    }
   ],
   "source": [
    "sample[1][0]"
   ]
  },
  {
   "cell_type": "code",
   "execution_count": 261,
   "id": "fbe48e3c",
   "metadata": {},
   "outputs": [],
   "source": [
    "image, label = sample"
   ]
  },
  {
   "cell_type": "code",
   "execution_count": 262,
   "id": "05324fc9",
   "metadata": {},
   "outputs": [
    {
     "data": {
      "text/plain": [
       "16"
      ]
     },
     "execution_count": 262,
     "metadata": {},
     "output_type": "execute_result"
    }
   ],
   "source": [
    "len(image)"
   ]
  },
  {
   "cell_type": "code",
   "execution_count": 263,
   "id": "36e66879",
   "metadata": {},
   "outputs": [
    {
     "name": "stdout",
     "output_type": "stream",
     "text": [
      "tensor(2)\n"
     ]
    },
    {
     "data": {
      "image/png": "[encoded data removed]",
      "text/plain": [
       "<Figure size 432x288 with 1 Axes>"
      ]
     },
     "metadata": {
      "needs_background": "light"
     },
     "output_type": "display_data"
    }
   ],
   "source": [
    "plt.imshow(image[0].squeeze(), cmap='gray')\n",
    "print(label[0])"
   ]
  },
  {
   "cell_type": "code",
   "execution_count": 264,
   "id": "fe811207",
   "metadata": {},
   "outputs": [],
   "source": [
    "it = iter(train_set)"
   ]
  },
  {
   "cell_type": "code",
   "execution_count": 265,
   "id": "e6140d81",
   "metadata": {},
   "outputs": [
    {
     "data": {
      "text/plain": [
       "2"
      ]
     },
     "execution_count": 265,
     "metadata": {},
     "output_type": "execute_result"
    }
   ],
   "source": [
    "len(next(it))"
   ]
  },
  {
   "cell_type": "code",
   "execution_count": 266,
   "id": "91cd9801",
   "metadata": {},
   "outputs": [
    {
     "data": {
      "text/plain": [
       "0"
      ]
     },
     "execution_count": 266,
     "metadata": {},
     "output_type": "execute_result"
    }
   ],
   "source": [
    "next(it)[1]"
   ]
  },
  {
   "cell_type": "code",
   "execution_count": 267,
   "id": "5bdd14ec",
   "metadata": {},
   "outputs": [],
   "source": [
    "sample = next(it)"
   ]
  },
  {
   "cell_type": "code",
   "execution_count": 268,
   "id": "82de26f3",
   "metadata": {},
   "outputs": [],
   "source": [
    "image, label = sample"
   ]
  },
  {
   "cell_type": "code",
   "execution_count": 269,
   "id": "b4aebf1e",
   "metadata": {},
   "outputs": [
    {
     "name": "stdout",
     "output_type": "stream",
     "text": [
      "0\n"
     ]
    },
    {
     "data": {
      "image/png": "[encoded data removed]",
      "text/plain": [
       "<Figure size 432x288 with 1 Axes>"
      ]
     },
     "metadata": {
      "needs_background": "light"
     },
     "output_type": "display_data"
    }
   ],
   "source": [
    "plt.imshow(image.squeeze(), cmap='gray')\n",
    "print(label)"
   ]
  },
  {
   "cell_type": "code",
   "execution_count": 270,
   "id": "227a981f",
   "metadata": {},
   "outputs": [],
   "source": [
    "# get bathc from train loader\n",
    "\n",
    "batch = next(iter(train_loader))"
   ]
  },
  {
   "cell_type": "code",
   "execution_count": 271,
   "id": "0f1a21d7",
   "metadata": {},
   "outputs": [
    {
     "data": {
      "text/plain": [
       "tensor([1, 1, 7, 7, 9, 0, 6, 0, 4, 2, 4, 6, 9, 4, 3, 5])"
      ]
     },
     "execution_count": 271,
     "metadata": {},
     "output_type": "execute_result"
    }
   ],
   "source": [
    "batch[1]"
   ]
  },
  {
   "cell_type": "code",
   "execution_count": 272,
   "id": "4ad8d375",
   "metadata": {},
   "outputs": [],
   "source": [
    "images, labels = batch"
   ]
  },
  {
   "cell_type": "code",
   "execution_count": 273,
   "id": "7101ca2d",
   "metadata": {},
   "outputs": [
    {
     "data": {
      "text/plain": [
       "16"
      ]
     },
     "execution_count": 273,
     "metadata": {},
     "output_type": "execute_result"
    }
   ],
   "source": [
    "len(labels)"
   ]
  },
  {
   "cell_type": "code",
   "execution_count": 274,
   "id": "2dc8d0e7",
   "metadata": {},
   "outputs": [],
   "source": [
    "grid = torchvision.utils.make_grid(images, nrows=10)"
   ]
  },
  {
   "cell_type": "code",
   "execution_count": 275,
   "id": "17110d36",
   "metadata": {},
   "outputs": [
    {
     "name": "stdout",
     "output_type": "stream",
     "text": [
      "tensor([1, 1, 7, 7, 9, 0, 6, 0, 4, 2, 4, 6, 9, 4, 3, 5])\n"
     ]
    },
    {
     "data": {
      "image/png": "[encoded data removed]",
      "text/plain": [
       "<Figure size 1080x1080 with 1 Axes>"
      ]
     },
     "metadata": {
      "needs_background": "light"
     },
     "output_type": "display_data"
    }
   ],
   "source": [
    "plt.figure(figsize=(15, 15))\n",
    "plt.imshow(np.transpose(grid, (1, 2, 0)))\n",
    "print(labels)"
   ]
  },
  {
   "cell_type": "code",
   "execution_count": 276,
   "id": "b5c20d86",
   "metadata": {},
   "outputs": [],
   "source": [
    "import torch.nn as nn\n"
   ]
  },
  {
   "cell_type": "code",
   "execution_count": 277,
   "id": "4251ec73",
   "metadata": {},
   "outputs": [
    {
     "name": "stdout",
     "output_type": "stream",
     "text": [
      "Requirement already satisfied: torchsummary in /Users/manu/opt/anaconda3/lib/python3.8/site-packages (1.5.1)\r\n"
     ]
    }
   ],
   "source": [
    "!pip install torchsummary"
   ]
  },
  {
   "cell_type": "code",
   "execution_count": 278,
   "id": "37776251",
   "metadata": {},
   "outputs": [],
   "source": [
    "from torchsummary import summary"
   ]
  },
  {
   "cell_type": "code",
   "execution_count": 279,
   "id": "b7440979",
   "metadata": {},
   "outputs": [],
   "source": [
    "# build a network\n",
    "\n",
    "class Network(nn.Module):\n",
    "    def __init__(self):\n",
    "        super().__init__()\n",
    "        self.conv1 = nn.Conv2d(1, 24, 3)\n",
    "        self.conv2 = nn.Conv2d(24, 32, 3)\n",
    "        self.conv3 = nn.Conv2d(32, 64, 3)\n",
    "        self.fc1 = nn.Linear(64*22*22, 120)\n",
    "        self.fc2 = nn.Linear(120, 60)\n",
    "        self.out = nn.Linear(60, 10)\n",
    "    \n",
    "    def forward(self, x):\n",
    "        return x\n",
    "        "
   ]
  },
  {
   "cell_type": "code",
   "execution_count": 280,
   "id": "e521a59a",
   "metadata": {},
   "outputs": [],
   "source": [
    "net = Network()"
   ]
  },
  {
   "cell_type": "code",
   "execution_count": 281,
   "id": "1cf60519",
   "metadata": {},
   "outputs": [
    {
     "data": {
      "text/plain": [
       "Network(\n",
       "  (conv1): Conv2d(1, 24, kernel_size=(3, 3), stride=(1, 1))\n",
       "  (conv2): Conv2d(24, 32, kernel_size=(3, 3), stride=(1, 1))\n",
       "  (conv3): Conv2d(32, 64, kernel_size=(3, 3), stride=(1, 1))\n",
       "  (fc1): Linear(in_features=30976, out_features=120, bias=True)\n",
       "  (fc2): Linear(in_features=120, out_features=60, bias=True)\n",
       "  (out): Linear(in_features=60, out_features=10, bias=True)\n",
       ")"
      ]
     },
     "execution_count": 281,
     "metadata": {},
     "output_type": "execute_result"
    }
   ],
   "source": [
    "net"
   ]
  },
  {
   "cell_type": "code",
   "execution_count": 282,
   "id": "c5430c9e",
   "metadata": {},
   "outputs": [
    {
     "data": {
      "text/plain": [
       "Conv2d(1, 24, kernel_size=(3, 3), stride=(1, 1))"
      ]
     },
     "execution_count": 282,
     "metadata": {},
     "output_type": "execute_result"
    }
   ],
   "source": [
    "net.conv1"
   ]
  },
  {
   "cell_type": "code",
   "execution_count": 283,
   "id": "a5314fe2",
   "metadata": {},
   "outputs": [
    {
     "data": {
      "text/plain": [
       "torch.Size([24, 1, 3, 3])"
      ]
     },
     "execution_count": 283,
     "metadata": {},
     "output_type": "execute_result"
    }
   ],
   "source": [
    "net.conv1.weight.shape"
   ]
  },
  {
   "cell_type": "code",
   "execution_count": 284,
   "id": "52057d56",
   "metadata": {},
   "outputs": [
    {
     "data": {
      "text/plain": [
       "Linear(in_features=30976, out_features=120, bias=True)"
      ]
     },
     "execution_count": 284,
     "metadata": {},
     "output_type": "execute_result"
    }
   ],
   "source": [
    "net.fc1"
   ]
  },
  {
   "cell_type": "code",
   "execution_count": 285,
   "id": "2c921994",
   "metadata": {},
   "outputs": [
    {
     "data": {
      "text/plain": [
       "torch.Size([120, 30976])"
      ]
     },
     "execution_count": 285,
     "metadata": {},
     "output_type": "execute_result"
    }
   ],
   "source": [
    "net.fc1.weight.shape"
   ]
  },
  {
   "cell_type": "code",
   "execution_count": 286,
   "id": "2390b7c6",
   "metadata": {},
   "outputs": [
    {
     "name": "stdout",
     "output_type": "stream",
     "text": [
      "conv1.weight torch.Size([24, 1, 3, 3])\n",
      "conv1.bias torch.Size([24])\n",
      "conv2.weight torch.Size([32, 24, 3, 3])\n",
      "conv2.bias torch.Size([32])\n",
      "conv3.weight torch.Size([64, 32, 3, 3])\n",
      "conv3.bias torch.Size([64])\n",
      "fc1.weight torch.Size([120, 30976])\n",
      "fc1.bias torch.Size([120])\n",
      "fc2.weight torch.Size([60, 120])\n",
      "fc2.bias torch.Size([60])\n",
      "out.weight torch.Size([10, 60])\n",
      "out.bias torch.Size([10])\n"
     ]
    }
   ],
   "source": [
    "for name, param in net.named_parameters():\n",
    "    print(name, param.shape)"
   ]
  },
  {
   "cell_type": "code",
   "execution_count": null,
   "id": "dd132830",
   "metadata": {},
   "outputs": [],
   "source": []
  },
  {
   "cell_type": "code",
   "execution_count": 287,
   "id": "f5a368f4",
   "metadata": {},
   "outputs": [],
   "source": [
    "import torch.nn.functional as F"
   ]
  },
  {
   "cell_type": "code",
   "execution_count": 388,
   "id": "4fbff1f7",
   "metadata": {},
   "outputs": [],
   "source": [
    "class Network(nn.Module):\n",
    "    def __init__(self):\n",
    "        super().__init__()\n",
    "        \n",
    "        self.conv1 = nn.Conv2d(1, 16, 3, bias = False)\n",
    "        \n",
    "        self.conv2 = nn.Conv2d(16, 32, 3, bias=False)\n",
    "        \n",
    "        self.pool1 = nn.MaxPool2d(kernel_size=2, stride=2)\n",
    "        \n",
    "        self.conv3 = nn.Conv2d(32, 64, 3, bias=False)\n",
    "        \n",
    "        self.fc1 = nn.Linear(64 * 10 * 10, 80, bias=False)\n",
    "        self.fc2 = nn.Linear(80, 40, bias=False)\n",
    "        self.out = nn.Linear(40, 10, bias=False)\n",
    "    \n",
    "    def forward(self, x):\n",
    "        x = self.conv1(x)\n",
    "        x = F.relu(x)\n",
    "        \n",
    "        x = self.conv2(x)\n",
    "        x = F.relu(x)\n",
    "        \n",
    "        x = self.pool1(x)\n",
    "        \n",
    "        x = self.conv3(x)\n",
    "        x = F.relu(x)\n",
    "        \n",
    "        x = x.reshape(-1, 64 * 10 * 10)\n",
    "        \n",
    "        x = self.fc1(x)\n",
    "        x = F.relu(x)\n",
    "        \n",
    "        x = self.fc2(x)\n",
    "        x = F.relu(x)\n",
    "        \n",
    "        x = self.out(x)\n",
    "        \n",
    "        return x\n",
    "        "
   ]
  },
  {
   "cell_type": "code",
   "execution_count": 389,
   "id": "4d125434",
   "metadata": {},
   "outputs": [],
   "source": [
    "net = Network()"
   ]
  },
  {
   "cell_type": "code",
   "execution_count": 390,
   "id": "11208833",
   "metadata": {},
   "outputs": [
    {
     "name": "stdout",
     "output_type": "stream",
     "text": [
      "----------------------------------------------------------------\n",
      "        Layer (type)               Output Shape         Param #\n",
      "================================================================\n",
      "            Conv2d-1           [-1, 16, 26, 26]             144\n",
      "            Conv2d-2           [-1, 32, 24, 24]           4,608\n",
      "         MaxPool2d-3           [-1, 32, 12, 12]               0\n",
      "            Conv2d-4           [-1, 64, 10, 10]          18,432\n",
      "            Linear-5                   [-1, 80]         512,000\n",
      "            Linear-6                   [-1, 40]           3,200\n",
      "            Linear-7                   [-1, 10]             400\n",
      "================================================================\n",
      "Total params: 538,784\n",
      "Trainable params: 538,784\n",
      "Non-trainable params: 0\n",
      "----------------------------------------------------------------\n",
      "Input size (MB): 0.00\n",
      "Forward/backward pass size (MB): 0.31\n",
      "Params size (MB): 2.06\n",
      "Estimated Total Size (MB): 2.37\n",
      "----------------------------------------------------------------\n"
     ]
    }
   ],
   "source": [
    "summary(net, (1, 28, 28))"
   ]
  },
  {
   "cell_type": "code",
   "execution_count": 304,
   "id": "5bc77c8f",
   "metadata": {},
   "outputs": [
    {
     "data": {
      "text/plain": [
       "<torch.autograd.grad_mode.set_grad_enabled at 0x7f9670757310>"
      ]
     },
     "execution_count": 304,
     "metadata": {},
     "output_type": "execute_result"
    }
   ],
   "source": [
    "torch.set_grad_enabled(False)"
   ]
  },
  {
   "cell_type": "code",
   "execution_count": 305,
   "id": "896bb473",
   "metadata": {},
   "outputs": [],
   "source": [
    "sample = next(iter(train_set))"
   ]
  },
  {
   "cell_type": "code",
   "execution_count": 306,
   "id": "688d88ab",
   "metadata": {},
   "outputs": [],
   "source": [
    "image, label = sample"
   ]
  },
  {
   "cell_type": "code",
   "execution_count": 307,
   "id": "56e2e31e",
   "metadata": {},
   "outputs": [
    {
     "data": {
      "text/plain": [
       "9"
      ]
     },
     "execution_count": 307,
     "metadata": {},
     "output_type": "execute_result"
    }
   ],
   "source": [
    "label"
   ]
  },
  {
   "cell_type": "code",
   "execution_count": 308,
   "id": "dae9e522",
   "metadata": {},
   "outputs": [
    {
     "data": {
      "text/plain": [
       "torch.Size([1, 28, 28])"
      ]
     },
     "execution_count": 308,
     "metadata": {},
     "output_type": "execute_result"
    }
   ],
   "source": [
    "image.shape"
   ]
  },
  {
   "cell_type": "code",
   "execution_count": 309,
   "id": "10decd91",
   "metadata": {},
   "outputs": [
    {
     "data": {
      "text/plain": [
       "torch.Size([1, 1, 28, 28])"
      ]
     },
     "execution_count": 309,
     "metadata": {},
     "output_type": "execute_result"
    }
   ],
   "source": [
    "image.unsqueeze(dim=0).shape"
   ]
  },
  {
   "cell_type": "code",
   "execution_count": 310,
   "id": "d7bebf72",
   "metadata": {},
   "outputs": [],
   "source": [
    "net = Network()"
   ]
  },
  {
   "cell_type": "code",
   "execution_count": 311,
   "id": "37bc43f6",
   "metadata": {},
   "outputs": [],
   "source": [
    "pred = net(image.unsqueeze(dim=0))"
   ]
  },
  {
   "cell_type": "code",
   "execution_count": 314,
   "id": "8ce9a3da",
   "metadata": {},
   "outputs": [
    {
     "data": {
      "text/plain": [
       "tensor([[ 0.0021, -0.0016, -0.0030,  0.0005, -0.0048, -0.0047, -0.0030,  0.0047,\n",
       "          0.0020,  0.0026]])"
      ]
     },
     "execution_count": 314,
     "metadata": {},
     "output_type": "execute_result"
    }
   ],
   "source": [
    "pred"
   ]
  },
  {
   "cell_type": "code",
   "execution_count": 315,
   "id": "cd5d03e9",
   "metadata": {},
   "outputs": [
    {
     "data": {
      "text/plain": [
       "torch.Size([1, 10])"
      ]
     },
     "execution_count": 315,
     "metadata": {},
     "output_type": "execute_result"
    }
   ],
   "source": [
    "pred.shape"
   ]
  },
  {
   "cell_type": "code",
   "execution_count": 319,
   "id": "0c996630",
   "metadata": {},
   "outputs": [
    {
     "data": {
      "text/plain": [
       "tensor([[0.1003, 0.0999, 0.0998, 0.1001, 0.0996, 0.0996, 0.0998, 0.1005, 0.1002,\n",
       "         0.1003]])"
      ]
     },
     "execution_count": 319,
     "metadata": {},
     "output_type": "execute_result"
    }
   ],
   "source": [
    "F.softmax(pred, dim=1)"
   ]
  },
  {
   "cell_type": "code",
   "execution_count": 320,
   "id": "ae265d43",
   "metadata": {},
   "outputs": [
    {
     "data": {
      "text/plain": [
       "tensor(7)"
      ]
     },
     "execution_count": 320,
     "metadata": {},
     "output_type": "execute_result"
    }
   ],
   "source": [
    "pred.argmax()"
   ]
  },
  {
   "cell_type": "code",
   "execution_count": 321,
   "id": "ee4b390b",
   "metadata": {},
   "outputs": [],
   "source": [
    "batch = next(iter(train_loader))"
   ]
  },
  {
   "cell_type": "code",
   "execution_count": 323,
   "id": "a99560d0",
   "metadata": {},
   "outputs": [
    {
     "data": {
      "text/plain": [
       "2"
      ]
     },
     "execution_count": 323,
     "metadata": {},
     "output_type": "execute_result"
    }
   ],
   "source": [
    "len(batch)"
   ]
  },
  {
   "cell_type": "code",
   "execution_count": 324,
   "id": "c191c4ae",
   "metadata": {},
   "outputs": [],
   "source": [
    "images, labels = batch"
   ]
  },
  {
   "cell_type": "code",
   "execution_count": 325,
   "id": "026491f9",
   "metadata": {},
   "outputs": [
    {
     "data": {
      "text/plain": [
       "16"
      ]
     },
     "execution_count": 325,
     "metadata": {},
     "output_type": "execute_result"
    }
   ],
   "source": [
    "len(images)"
   ]
  },
  {
   "cell_type": "code",
   "execution_count": 326,
   "id": "99bc6c07",
   "metadata": {},
   "outputs": [
    {
     "data": {
      "text/plain": [
       "16"
      ]
     },
     "execution_count": 326,
     "metadata": {},
     "output_type": "execute_result"
    }
   ],
   "source": [
    "len(labels)"
   ]
  },
  {
   "cell_type": "code",
   "execution_count": 327,
   "id": "50bff3ba",
   "metadata": {},
   "outputs": [
    {
     "data": {
      "text/plain": [
       "tensor(4)"
      ]
     },
     "execution_count": 327,
     "metadata": {},
     "output_type": "execute_result"
    }
   ],
   "source": [
    "labels[0]"
   ]
  },
  {
   "cell_type": "code",
   "execution_count": 328,
   "id": "46a64b60",
   "metadata": {},
   "outputs": [],
   "source": [
    "preds = net(images)"
   ]
  },
  {
   "cell_type": "code",
   "execution_count": 329,
   "id": "fabbf05f",
   "metadata": {},
   "outputs": [
    {
     "data": {
      "text/plain": [
       "tensor([[ 1.1312e-03, -3.7733e-03, -2.8549e-03, -5.9147e-05, -2.9011e-03,\n",
       "         -5.4317e-03, -2.9449e-03,  4.2738e-03,  5.4879e-04,  8.6804e-04],\n",
       "        [ 1.7103e-04,  7.1349e-04, -1.3667e-03,  1.1440e-03, -2.6763e-03,\n",
       "         -2.7598e-03, -8.2546e-04,  2.8825e-03,  3.9054e-04,  3.5171e-03],\n",
       "        [ 3.6235e-03, -2.6356e-03, -9.5454e-04, -5.9453e-04, -3.7294e-03,\n",
       "         -5.1019e-03, -3.3257e-03,  4.9995e-03,  1.8790e-03,  1.7102e-03],\n",
       "        [ 1.2048e-03, -1.6927e-03, -6.3757e-04, -4.2941e-04, -2.6620e-03,\n",
       "         -4.2135e-03, -1.0566e-03,  1.1186e-03,  6.9594e-04,  1.5553e-03],\n",
       "        [ 2.6353e-03, -3.5880e-03, -2.5613e-03, -2.2596e-04, -1.1007e-03,\n",
       "         -6.1283e-03, -6.0103e-04,  2.7075e-03,  1.3049e-04,  2.3179e-03],\n",
       "        [ 6.5720e-04,  6.3536e-04, -2.2164e-03,  4.0423e-04, -2.5970e-03,\n",
       "         -3.0221e-03, -1.1618e-03,  3.4440e-03,  7.2876e-04,  3.3752e-03],\n",
       "        [-1.0283e-03, -1.4536e-03, -3.6117e-03,  2.1354e-03, -1.5368e-03,\n",
       "         -3.2183e-03, -4.7826e-04,  5.4645e-03, -7.9337e-04, -2.3263e-03],\n",
       "        [ 6.5148e-04, -8.1319e-04, -1.4466e-03,  6.5197e-04, -1.1735e-03,\n",
       "         -2.9323e-03, -1.2892e-03,  1.8850e-03,  1.0098e-04,  4.6855e-05],\n",
       "        [ 1.6990e-03, -8.0043e-04, -1.9559e-03, -1.3161e-03, -4.0084e-03,\n",
       "         -5.6548e-03, -9.6688e-04,  5.2430e-03,  1.8096e-03, -1.9781e-04],\n",
       "        [-3.5869e-04, -1.0595e-03, -4.0769e-03,  1.9121e-03, -1.5953e-03,\n",
       "         -2.9659e-03, -1.2321e-03,  3.9704e-03,  4.1725e-05,  2.5771e-04],\n",
       "        [ 6.9277e-04, -2.5701e-04, -2.7237e-03,  1.1066e-03, -1.2650e-03,\n",
       "         -8.5221e-04, -1.4771e-03,  1.3146e-03, -4.1463e-04,  2.3884e-03],\n",
       "        [ 2.4351e-03, -1.1077e-03, -1.3655e-03, -2.0507e-03, -4.7342e-03,\n",
       "         -5.1312e-03, -2.9522e-04,  3.4556e-03,  2.2526e-03,  3.6187e-03],\n",
       "        [ 1.2472e-03, -2.3023e-03, -3.3447e-04,  8.3730e-04, -1.4961e-03,\n",
       "         -2.8197e-03, -8.9027e-04,  2.1976e-03, -3.8920e-04,  3.6396e-04],\n",
       "        [ 3.5217e-03, -5.2592e-03, -2.4092e-03,  1.0299e-03, -7.4794e-04,\n",
       "         -3.3047e-03, -3.2529e-03,  2.3437e-03, -1.2341e-03, -7.2060e-04],\n",
       "        [ 8.2277e-04, -2.8826e-04, -2.8537e-03,  3.3645e-03, -2.9302e-03,\n",
       "         -2.4579e-03, -1.4680e-03,  4.8468e-03, -9.6145e-04, -3.1555e-04],\n",
       "        [ 3.3687e-04, -2.0915e-03, -7.2765e-04,  2.5780e-03, -4.1988e-03,\n",
       "         -2.4972e-03, -1.6754e-03,  3.6504e-03,  4.5458e-04,  2.7557e-04]])"
      ]
     },
     "execution_count": 329,
     "metadata": {},
     "output_type": "execute_result"
    }
   ],
   "source": [
    "preds"
   ]
  },
  {
   "cell_type": "code",
   "execution_count": 332,
   "id": "fd29ec07",
   "metadata": {},
   "outputs": [
    {
     "data": {
      "text/plain": [
       "tensor([7, 9, 7, 9, 7, 7, 7, 7, 7, 7, 9, 9, 7, 0, 7, 7])"
      ]
     },
     "execution_count": 332,
     "metadata": {},
     "output_type": "execute_result"
    }
   ],
   "source": [
    "preds.argmax(dim=1)"
   ]
  },
  {
   "cell_type": "code",
   "execution_count": 333,
   "id": "942da04b",
   "metadata": {},
   "outputs": [
    {
     "data": {
      "text/plain": [
       "tensor([False,  True, False, False, False, False, False, False, False, False,\n",
       "        False,  True, False, False, False, False])"
      ]
     },
     "execution_count": 333,
     "metadata": {},
     "output_type": "execute_result"
    }
   ],
   "source": [
    "preds.argmax(dim=1).eq(labels)"
   ]
  },
  {
   "cell_type": "code",
   "execution_count": 334,
   "id": "43f7cae4",
   "metadata": {},
   "outputs": [
    {
     "data": {
      "text/plain": [
       "tensor(2)"
      ]
     },
     "execution_count": 334,
     "metadata": {},
     "output_type": "execute_result"
    }
   ],
   "source": [
    "preds.argmax(dim=1).eq(labels).sum()"
   ]
  },
  {
   "cell_type": "code",
   "execution_count": 335,
   "id": "c167cbe3",
   "metadata": {},
   "outputs": [
    {
     "data": {
      "text/plain": [
       "2"
      ]
     },
     "execution_count": 335,
     "metadata": {},
     "output_type": "execute_result"
    }
   ],
   "source": [
    "preds.argmax(dim=1).eq(labels).sum().item()"
   ]
  },
  {
   "cell_type": "code",
   "execution_count": 349,
   "id": "080d77ed",
   "metadata": {},
   "outputs": [],
   "source": [
    "import torch.optim as optim"
   ]
  },
  {
   "cell_type": "code",
   "execution_count": 391,
   "id": "a944afe2",
   "metadata": {},
   "outputs": [
    {
     "data": {
      "text/plain": [
       "<torch.autograd.grad_mode.set_grad_enabled at 0x7f96706223d0>"
      ]
     },
     "execution_count": 391,
     "metadata": {},
     "output_type": "execute_result"
    }
   ],
   "source": [
    "torch.set_grad_enabled(True)"
   ]
  },
  {
   "cell_type": "code",
   "execution_count": 338,
   "id": "160fea35",
   "metadata": {},
   "outputs": [],
   "source": [
    "preds = net(images)"
   ]
  },
  {
   "cell_type": "code",
   "execution_count": 339,
   "id": "3944ba74",
   "metadata": {},
   "outputs": [],
   "source": [
    "loss = F.cross_entropy(preds, labels)"
   ]
  },
  {
   "cell_type": "code",
   "execution_count": 341,
   "id": "438b78af",
   "metadata": {},
   "outputs": [
    {
     "data": {
      "text/plain": [
       "2.302093267440796"
      ]
     },
     "execution_count": 341,
     "metadata": {},
     "output_type": "execute_result"
    }
   ],
   "source": [
    "loss.item()"
   ]
  },
  {
   "cell_type": "code",
   "execution_count": 343,
   "id": "6eba1258",
   "metadata": {},
   "outputs": [
    {
     "name": "stdout",
     "output_type": "stream",
     "text": [
      "None\n"
     ]
    }
   ],
   "source": [
    "print(net.conv1.weight.grad)"
   ]
  },
  {
   "cell_type": "code",
   "execution_count": 344,
   "id": "66ca17a2",
   "metadata": {},
   "outputs": [],
   "source": [
    "loss.backward()"
   ]
  },
  {
   "cell_type": "code",
   "execution_count": 346,
   "id": "6d8f7e78",
   "metadata": {},
   "outputs": [
    {
     "name": "stdout",
     "output_type": "stream",
     "text": [
      "torch.Size([16, 1, 3, 3])\n"
     ]
    }
   ],
   "source": [
    "print(net.conv1.weight.grad.shape)"
   ]
  },
  {
   "cell_type": "code",
   "execution_count": 350,
   "id": "f727acd9",
   "metadata": {},
   "outputs": [],
   "source": [
    "op = optim.Adam(net.parameters(), lr=0.01)"
   ]
  },
  {
   "cell_type": "code",
   "execution_count": 351,
   "id": "242fc2a4",
   "metadata": {},
   "outputs": [],
   "source": [
    "op.step()"
   ]
  },
  {
   "cell_type": "code",
   "execution_count": 352,
   "id": "274afbb4",
   "metadata": {},
   "outputs": [],
   "source": [
    "preds = net(images)"
   ]
  },
  {
   "cell_type": "code",
   "execution_count": 353,
   "id": "af6aef8b",
   "metadata": {},
   "outputs": [],
   "source": [
    "loss = F.cross_entropy(preds, labels)"
   ]
  },
  {
   "cell_type": "code",
   "execution_count": 354,
   "id": "543f57ac",
   "metadata": {},
   "outputs": [
    {
     "data": {
      "text/plain": [
       "2.501044750213623"
      ]
     },
     "execution_count": 354,
     "metadata": {},
     "output_type": "execute_result"
    }
   ],
   "source": [
    "loss.item()"
   ]
  },
  {
   "cell_type": "code",
   "execution_count": 355,
   "id": "ad016746",
   "metadata": {},
   "outputs": [],
   "source": [
    "loss.backward()"
   ]
  },
  {
   "cell_type": "code",
   "execution_count": 356,
   "id": "ff5fd763",
   "metadata": {},
   "outputs": [
    {
     "data": {
      "text/plain": [
       "2.501044750213623"
      ]
     },
     "execution_count": 356,
     "metadata": {},
     "output_type": "execute_result"
    }
   ],
   "source": [
    "loss.item()"
   ]
  },
  {
   "cell_type": "code",
   "execution_count": 360,
   "id": "109c08a4",
   "metadata": {},
   "outputs": [
    {
     "data": {
      "text/plain": [
       "(2.2793822288513184, 3)"
      ]
     },
     "execution_count": 360,
     "metadata": {},
     "output_type": "execute_result"
    }
   ],
   "source": [
    "\n",
    "op.step()\n",
    "preds = net(images)\n",
    "loss = F.cross_entropy(preds, labels)\n",
    "loss.item(), preds.argmax(dim=1).eq(labels).sum().item()"
   ]
  },
  {
   "cell_type": "code",
   "execution_count": 361,
   "id": "afe26fc1",
   "metadata": {},
   "outputs": [
    {
     "data": {
      "text/plain": [
       "(2.291766881942749, 3)"
      ]
     },
     "execution_count": 361,
     "metadata": {},
     "output_type": "execute_result"
    }
   ],
   "source": [
    "loss.backward()\n",
    "op.step()\n",
    "preds = net(images)\n",
    "loss = F.cross_entropy(preds, labels)\n",
    "loss.item(), preds.argmax(dim=1).eq(labels).sum().item()"
   ]
  },
  {
   "cell_type": "code",
   "execution_count": 362,
   "id": "5b3ef377",
   "metadata": {},
   "outputs": [
    {
     "data": {
      "text/plain": [
       "(2.2558226585388184, 3)"
      ]
     },
     "execution_count": 362,
     "metadata": {},
     "output_type": "execute_result"
    }
   ],
   "source": [
    "loss.backward()\n",
    "op.step()\n",
    "preds = net(images)\n",
    "loss = F.cross_entropy(preds, labels)\n",
    "loss.item(), preds.argmax(dim=1).eq(labels).sum().item()"
   ]
  },
  {
   "cell_type": "code",
   "execution_count": 363,
   "id": "3bc9b723",
   "metadata": {},
   "outputs": [
    {
     "data": {
      "text/plain": [
       "(2.1589291095733643, 3)"
      ]
     },
     "execution_count": 363,
     "metadata": {},
     "output_type": "execute_result"
    }
   ],
   "source": [
    "loss.backward()\n",
    "op.step()\n",
    "preds = net(images)\n",
    "loss = F.cross_entropy(preds, labels)\n",
    "loss.item(), preds.argmax(dim=1).eq(labels).sum().item()"
   ]
  },
  {
   "cell_type": "code",
   "execution_count": 364,
   "id": "d1773230",
   "metadata": {},
   "outputs": [
    {
     "data": {
      "text/plain": [
       "(2.0284721851348877, 3)"
      ]
     },
     "execution_count": 364,
     "metadata": {},
     "output_type": "execute_result"
    }
   ],
   "source": [
    "loss.backward()\n",
    "op.step()\n",
    "preds = net(images)\n",
    "loss = F.cross_entropy(preds, labels)\n",
    "loss.item(), preds.argmax(dim=1).eq(labels).sum().item()"
   ]
  },
  {
   "cell_type": "code",
   "execution_count": 365,
   "id": "ee7f2dcf",
   "metadata": {},
   "outputs": [
    {
     "data": {
      "text/plain": [
       "(2.056978702545166, 3)"
      ]
     },
     "execution_count": 365,
     "metadata": {},
     "output_type": "execute_result"
    }
   ],
   "source": [
    "loss.backward()\n",
    "op.step()\n",
    "preds = net(images)\n",
    "loss = F.cross_entropy(preds, labels)\n",
    "loss.item(), preds.argmax(dim=1).eq(labels).sum().item()"
   ]
  },
  {
   "cell_type": "code",
   "execution_count": 366,
   "id": "7ad74260",
   "metadata": {},
   "outputs": [
    {
     "data": {
      "text/plain": [
       "(1.6348457336425781, 3)"
      ]
     },
     "execution_count": 366,
     "metadata": {},
     "output_type": "execute_result"
    }
   ],
   "source": [
    "loss.backward()\n",
    "op.step()\n",
    "preds = net(images)\n",
    "loss = F.cross_entropy(preds, labels)\n",
    "loss.item(), preds.argmax(dim=1).eq(labels).sum().item()"
   ]
  },
  {
   "cell_type": "code",
   "execution_count": 367,
   "id": "8aed5904",
   "metadata": {},
   "outputs": [
    {
     "data": {
      "text/plain": [
       "(1.4988003969192505, 10)"
      ]
     },
     "execution_count": 367,
     "metadata": {},
     "output_type": "execute_result"
    }
   ],
   "source": [
    "loss.backward()\n",
    "op.step()\n",
    "preds = net(images)\n",
    "loss = F.cross_entropy(preds, labels)\n",
    "loss.item(), preds.argmax(dim=1).eq(labels).sum().item()"
   ]
  },
  {
   "cell_type": "code",
   "execution_count": 368,
   "id": "06d4a506",
   "metadata": {},
   "outputs": [
    {
     "data": {
      "text/plain": [
       "(1.497290849685669, 10)"
      ]
     },
     "execution_count": 368,
     "metadata": {},
     "output_type": "execute_result"
    }
   ],
   "source": [
    "loss.backward()\n",
    "op.step()\n",
    "preds = net(images)\n",
    "loss = F.cross_entropy(preds, labels)\n",
    "loss.item(), preds.argmax(dim=1).eq(labels).sum().item()"
   ]
  },
  {
   "cell_type": "code",
   "execution_count": 369,
   "id": "d78a86c0",
   "metadata": {},
   "outputs": [
    {
     "data": {
      "text/plain": [
       "(1.4094905853271484, 8)"
      ]
     },
     "execution_count": 369,
     "metadata": {},
     "output_type": "execute_result"
    }
   ],
   "source": [
    "loss.backward()\n",
    "op.step()\n",
    "preds = net(images)\n",
    "loss = F.cross_entropy(preds, labels)\n",
    "loss.item(), preds.argmax(dim=1).eq(labels).sum().item()"
   ]
  },
  {
   "cell_type": "code",
   "execution_count": 370,
   "id": "172a7b69",
   "metadata": {},
   "outputs": [
    {
     "data": {
      "text/plain": [
       "(1.2373807430267334, 8)"
      ]
     },
     "execution_count": 370,
     "metadata": {},
     "output_type": "execute_result"
    }
   ],
   "source": [
    "loss.backward()\n",
    "op.step()\n",
    "preds = net(images)\n",
    "loss = F.cross_entropy(preds, labels)\n",
    "loss.item(), preds.argmax(dim=1).eq(labels).sum().item()"
   ]
  },
  {
   "cell_type": "code",
   "execution_count": 371,
   "id": "e0c1ff8d",
   "metadata": {},
   "outputs": [
    {
     "data": {
      "text/plain": [
       "(1.1498658657073975, 8)"
      ]
     },
     "execution_count": 371,
     "metadata": {},
     "output_type": "execute_result"
    }
   ],
   "source": [
    "loss.backward()\n",
    "op.step()\n",
    "preds = net(images)\n",
    "loss = F.cross_entropy(preds, labels)\n",
    "loss.item(), preds.argmax(dim=1).eq(labels).sum().item()"
   ]
  },
  {
   "cell_type": "code",
   "execution_count": 372,
   "id": "9ec981ee",
   "metadata": {},
   "outputs": [
    {
     "data": {
      "text/plain": [
       "(1.3311551809310913, 8)"
      ]
     },
     "execution_count": 372,
     "metadata": {},
     "output_type": "execute_result"
    }
   ],
   "source": [
    "loss.backward()\n",
    "op.step()\n",
    "preds = net(images)\n",
    "loss = F.cross_entropy(preds, labels)\n",
    "loss.item(), preds.argmax(dim=1).eq(labels).sum().item()"
   ]
  },
  {
   "cell_type": "code",
   "execution_count": 392,
   "id": "8488798f",
   "metadata": {},
   "outputs": [],
   "source": [
    "import time"
   ]
  },
  {
   "cell_type": "code",
   "execution_count": 393,
   "id": "ae77eaf6",
   "metadata": {
    "scrolled": true
   },
   "outputs": [
    {
     "name": "stdout",
     "output_type": "stream",
     "text": [
      "epoch: 0, total_correct: 44836, loss: 80.16934955120087, time for epoch: 42.87131591100115\n",
      "epoch: 1, total_correct: 52514, loss: 40.762522488832474, time for epoch: 42.1290316429986\n",
      "epoch: 2, total_correct: 53901, loss: 32.55189369618893, time for epoch: 42.29933131399957\n",
      "epoch: 3, total_correct: 54707, loss: 28.489342153072357, time for epoch: 42.15201939100007\n",
      "epoch: 4, total_correct: 55090, loss: 25.929069712758064, time for epoch: 42.00311464399965\n",
      "epoch: 5, total_correct: 55479, loss: 23.82394879311323, time for epoch: 42.23199064599976\n",
      "epoch: 6, total_correct: 55810, loss: 22.05583231896162, time for epoch: 42.314457700000276\n",
      "epoch: 7, total_correct: 56046, loss: 20.599278658628464, time for epoch: 42.198289021000164\n",
      "epoch: 8, total_correct: 56254, loss: 19.559237584471703, time for epoch: 42.41123248999975\n",
      "epoch: 9, total_correct: 56678, loss: 17.315967451781034, time for epoch: 42.57039667100071\n"
     ]
    }
   ],
   "source": [
    "train_loader = torch.utils.data.DataLoader(train_set, batch_size=512)\n",
    "optimizer = optim.Adam(net.parameters(), lr=0.01)\n",
    "\n",
    "for epoch in range(10):\n",
    "    start = time.perf_counter()\n",
    "    total_loss = 0\n",
    "    total_correct = 0\n",
    "    for batch in train_loader: # Get Batch\n",
    "        images, labels = batch \n",
    "\n",
    "        preds = net(images) # Pass Batch\n",
    "        loss = F.cross_entropy(preds, labels) # Calculate Loss\n",
    "\n",
    "        optimizer.zero_grad()\n",
    "        loss.backward() # Calculate Gradients\n",
    "        optimizer.step() # Update Weights\n",
    "\n",
    "        total_loss += loss.item()\n",
    "        total_correct += preds.argmax(dim=1).eq(labels).sum().item()\n",
    "    end = time.perf_counter()\n",
    "    print(f\"epoch: {epoch}, total_correct: {total_correct}, loss: {total_loss}, time for epoch: {(end - start)}\")"
   ]
  },
  {
   "cell_type": "code",
   "execution_count": null,
   "id": "823a93e3",
   "metadata": {},
   "outputs": [],
   "source": []
  }
 ],
 "metadata": {
  "kernelspec": {
   "display_name": "Python 3",
   "language": "python",
   "name": "python3"
  },
  "language_info": {
   "codemirror_mode": {
    "name": "ipython",
    "version": 3
   },
   "file_extension": ".py",
   "mimetype": "text/x-python",
   "name": "python",
   "nbconvert_exporter": "python",
   "pygments_lexer": "ipython3",
   "version": "3.8.8"
  }
 },
 "nbformat": 4,
 "nbformat_minor": 5
}
